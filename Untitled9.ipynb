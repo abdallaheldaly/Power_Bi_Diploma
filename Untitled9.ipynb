{
 "cells": [
  {
   "cell_type": "code",
   "execution_count": 63,
   "id": "36adf577-70ec-4be4-b716-999c227faca3",
   "metadata": {},
   "outputs": [
    {
     "data": {
      "text/html": [
       "<div>\n",
       "<style scoped>\n",
       "    .dataframe tbody tr th:only-of-type {\n",
       "        vertical-align: middle;\n",
       "    }\n",
       "\n",
       "    .dataframe tbody tr th {\n",
       "        vertical-align: top;\n",
       "    }\n",
       "\n",
       "    .dataframe thead th {\n",
       "        text-align: right;\n",
       "    }\n",
       "</style>\n",
       "<table border=\"1\" class=\"dataframe\">\n",
       "  <thead>\n",
       "    <tr style=\"text-align: right;\">\n",
       "      <th></th>\n",
       "      <th>Movie Name</th>\n",
       "      <th>Average Rate</th>\n",
       "      <th>Total Number Of Rate</th>\n",
       "      <th>Published Year</th>\n",
       "      <th>Duration</th>\n",
       "      <th>Movie Rating</th>\n",
       "    </tr>\n",
       "  </thead>\n",
       "  <tbody>\n",
       "    <tr>\n",
       "      <th>0</th>\n",
       "      <td>1. The Shawshank Redemption</td>\n",
       "      <td>9.3 (2.9M)</td>\n",
       "      <td>(2.9M)</td>\n",
       "      <td>1994</td>\n",
       "      <td>2h 22m</td>\n",
       "      <td>R</td>\n",
       "    </tr>\n",
       "    <tr>\n",
       "      <th>1</th>\n",
       "      <td>2. The Godfather</td>\n",
       "      <td>9.2 (2M)</td>\n",
       "      <td>(2M)</td>\n",
       "      <td>1972</td>\n",
       "      <td>2h 55m</td>\n",
       "      <td>R</td>\n",
       "    </tr>\n",
       "    <tr>\n",
       "      <th>2</th>\n",
       "      <td>4. The Godfather Part II</td>\n",
       "      <td>9.0 (1.4M)</td>\n",
       "      <td>(1.4M)</td>\n",
       "      <td>1974</td>\n",
       "      <td>3h 22m</td>\n",
       "      <td>R</td>\n",
       "    </tr>\n",
       "    <tr>\n",
       "      <th>3</th>\n",
       "      <td>6. Schindler's List</td>\n",
       "      <td>9.0 (1.5M)</td>\n",
       "      <td>(1.5M)</td>\n",
       "      <td>1993</td>\n",
       "      <td>3h 15m</td>\n",
       "      <td>R</td>\n",
       "    </tr>\n",
       "    <tr>\n",
       "      <th>4</th>\n",
       "      <td>8. Pulp Fiction</td>\n",
       "      <td>8.9 (2.2M)</td>\n",
       "      <td>(2.2M)</td>\n",
       "      <td>1994</td>\n",
       "      <td>2h 34m</td>\n",
       "      <td>R</td>\n",
       "    </tr>\n",
       "  </tbody>\n",
       "</table>\n",
       "</div>"
      ],
      "text/plain": [
       "                    Movie Name Average Rate Total Number Of Rate  \\\n",
       "0  1. The Shawshank Redemption   9.3 (2.9M)               (2.9M)   \n",
       "1             2. The Godfather     9.2 (2M)                 (2M)   \n",
       "2     4. The Godfather Part II   9.0 (1.4M)               (1.4M)   \n",
       "3          6. Schindler's List   9.0 (1.5M)               (1.5M)   \n",
       "4              8. Pulp Fiction   8.9 (2.2M)               (2.2M)   \n",
       "\n",
       "   Published Year Duration Movie Rating  \n",
       "0            1994   2h 22m            R  \n",
       "1            1972   2h 55m            R  \n",
       "2            1974   3h 22m            R  \n",
       "3            1993   3h 15m            R  \n",
       "4            1994   2h 34m            R  "
      ]
     },
     "execution_count": 63,
     "metadata": {},
     "output_type": "execute_result"
    }
   ],
   "source": [
    "import pandas as pd\n",
    "df = pd.read_csv(\"Movies Dataset.csv\")\n",
    "df.head()"
   ]
  },
  {
   "cell_type": "markdown",
   "id": "e9bf34a2-8110-4992-9c33-d84b5a235d49",
   "metadata": {},
   "source": [
    "# data preprocessing"
   ]
  },
  {
   "cell_type": "code",
   "execution_count": 64,
   "id": "555ae99f-999f-4962-a9b9-7b0fd65ca6f4",
   "metadata": {},
   "outputs": [
    {
     "data": {
      "text/plain": [
       "Movie Name              object\n",
       "Average Rate            object\n",
       "Total Number Of Rate    object\n",
       "Published Year           int64\n",
       "Duration                object\n",
       "Movie Rating            object\n",
       "dtype: object"
      ]
     },
     "execution_count": 64,
     "metadata": {},
     "output_type": "execute_result"
    }
   ],
   "source": [
    "df.dtypes"
   ]
  },
  {
   "cell_type": "markdown",
   "id": "c4a8868a-237a-46c8-9c4d-61a2b9f173d4",
   "metadata": {},
   "source": [
    "# change format of data"
   ]
  },
  {
   "cell_type": "code",
   "execution_count": 65,
   "id": "00419b92-5d77-459a-a9ad-207ef4faee2c",
   "metadata": {},
   "outputs": [
    {
     "data": {
      "text/html": [
       "<div>\n",
       "<style scoped>\n",
       "    .dataframe tbody tr th:only-of-type {\n",
       "        vertical-align: middle;\n",
       "    }\n",
       "\n",
       "    .dataframe tbody tr th {\n",
       "        vertical-align: top;\n",
       "    }\n",
       "\n",
       "    .dataframe thead th {\n",
       "        text-align: right;\n",
       "    }\n",
       "</style>\n",
       "<table border=\"1\" class=\"dataframe\">\n",
       "  <thead>\n",
       "    <tr style=\"text-align: right;\">\n",
       "      <th></th>\n",
       "      <th>Movie Name</th>\n",
       "      <th>Average Rate</th>\n",
       "      <th>Total Number Of Rate</th>\n",
       "      <th>Published Year</th>\n",
       "      <th>Duration</th>\n",
       "      <th>Movie Rating</th>\n",
       "      <th>Hours</th>\n",
       "      <th>Minutes</th>\n",
       "    </tr>\n",
       "  </thead>\n",
       "  <tbody>\n",
       "    <tr>\n",
       "      <th>0</th>\n",
       "      <td>The Shawshank Redemption</td>\n",
       "      <td>9.3</td>\n",
       "      <td>2.9</td>\n",
       "      <td>1994</td>\n",
       "      <td>2h 22m</td>\n",
       "      <td>R</td>\n",
       "      <td>2</td>\n",
       "      <td>22</td>\n",
       "    </tr>\n",
       "    <tr>\n",
       "      <th>1</th>\n",
       "      <td>The Godfather</td>\n",
       "      <td>9.2</td>\n",
       "      <td>2</td>\n",
       "      <td>1972</td>\n",
       "      <td>2h 55m</td>\n",
       "      <td>R</td>\n",
       "      <td>2</td>\n",
       "      <td>55</td>\n",
       "    </tr>\n",
       "    <tr>\n",
       "      <th>2</th>\n",
       "      <td>The Godfather Part II</td>\n",
       "      <td>9.0</td>\n",
       "      <td>1.4</td>\n",
       "      <td>1974</td>\n",
       "      <td>3h 22m</td>\n",
       "      <td>R</td>\n",
       "      <td>3</td>\n",
       "      <td>22</td>\n",
       "    </tr>\n",
       "    <tr>\n",
       "      <th>3</th>\n",
       "      <td>Schindler's List</td>\n",
       "      <td>9.0</td>\n",
       "      <td>1.5</td>\n",
       "      <td>1993</td>\n",
       "      <td>3h 15m</td>\n",
       "      <td>R</td>\n",
       "      <td>3</td>\n",
       "      <td>15</td>\n",
       "    </tr>\n",
       "    <tr>\n",
       "      <th>4</th>\n",
       "      <td>Pulp Fiction</td>\n",
       "      <td>8.9</td>\n",
       "      <td>2.2</td>\n",
       "      <td>1994</td>\n",
       "      <td>2h 34m</td>\n",
       "      <td>R</td>\n",
       "      <td>2</td>\n",
       "      <td>34</td>\n",
       "    </tr>\n",
       "  </tbody>\n",
       "</table>\n",
       "</div>"
      ],
      "text/plain": [
       "                 Movie Name Average Rate Total Number Of Rate  Published Year  \\\n",
       "0  The Shawshank Redemption          9.3                  2.9            1994   \n",
       "1             The Godfather          9.2                    2            1972   \n",
       "2     The Godfather Part II          9.0                  1.4            1974   \n",
       "3          Schindler's List          9.0                  1.5            1993   \n",
       "4              Pulp Fiction          8.9                  2.2            1994   \n",
       "\n",
       "  Duration Movie Rating Hours Minutes  \n",
       "0   2h 22m            R     2      22  \n",
       "1   2h 55m            R     2      55  \n",
       "2   3h 22m            R     3      22  \n",
       "3   3h 15m            R     3      15  \n",
       "4   2h 34m            R     2      34  "
      ]
     },
     "execution_count": 65,
     "metadata": {},
     "output_type": "execute_result"
    }
   ],
   "source": [
    "df['Average Rate'] = df['Average Rate'].str.extract(r'([\\d.]+)')\n",
    "df['Total Number Of Rate'] = df['Total Number Of Rate'].str.extract(r'([\\d.]+)')\n",
    "df['Movie Name'] = df['Movie Name'].apply(lambda x: x.split('. ',1)[1])\n",
    "\n",
    "df['Hours'] = df['Duration'].str.extract(r'(\\d+)h')\n",
    "df['Minutes'] = df['Duration'].str.extract(r'(\\d+)m')\n",
    "\n",
    "df.head()"
   ]
  },
  {
   "cell_type": "markdown",
   "id": "f7506921-0b83-42fc-8106-d751378c036d",
   "metadata": {},
   "source": [
    "# dealing with missing values"
   ]
  },
  {
   "cell_type": "code",
   "execution_count": 66,
   "id": "7ce92f01-71a4-4eac-a340-528f4c47c0c4",
   "metadata": {},
   "outputs": [],
   "source": [
    "df['Hours'] = df['Hours'].fillna(0)\n",
    "df['Minutes'] = df['Minutes'].fillna(0)\n",
    "df.drop(['Duration'],axis = 1,inplace = True)"
   ]
  },
  {
   "cell_type": "markdown",
   "id": "1d05ba34-b125-4d97-a5b4-ed4d36cc4d0d",
   "metadata": {},
   "source": [
    "# data types"
   ]
  },
  {
   "cell_type": "code",
   "execution_count": 67,
   "id": "28125664-5e7e-45aa-a04b-19098a98edd0",
   "metadata": {},
   "outputs": [],
   "source": [
    "df['Average Rate'] = pd.to_numeric(df['Average Rate'] , errors = 'coerce')\n",
    "df['Total Number Of Rate'] = pd.to_numeric(df['Total Number Of Rate'] , errors = 'coerce')\n",
    "df[\"Hours\"] = df[\"Hours\"].astype(int)\n",
    "df[\"Minutes\"] = df[\"Minutes\"].astype(int)"
   ]
  },
  {
   "cell_type": "code",
   "execution_count": 68,
   "id": "60b8b185-df67-46a9-8cda-6cde3224e186",
   "metadata": {},
   "outputs": [
    {
     "data": {
      "text/plain": [
       "Movie Name               object\n",
       "Average Rate            float64\n",
       "Total Number Of Rate    float64\n",
       "Published Year            int64\n",
       "Movie Rating             object\n",
       "Hours                     int32\n",
       "Minutes                   int32\n",
       "dtype: object"
      ]
     },
     "execution_count": 68,
     "metadata": {},
     "output_type": "execute_result"
    }
   ],
   "source": [
    "df.dtypes"
   ]
  },
  {
   "cell_type": "code",
   "execution_count": 69,
   "id": "2fdbbbfb-da7e-43e1-b92e-a5e64040f25b",
   "metadata": {},
   "outputs": [
    {
     "data": {
      "text/plain": [
       "Movie Name              0\n",
       "Average Rate            0\n",
       "Total Number Of Rate    0\n",
       "Published Year          0\n",
       "Movie Rating            3\n",
       "Hours                   0\n",
       "Minutes                 0\n",
       "dtype: int64"
      ]
     },
     "execution_count": 69,
     "metadata": {},
     "output_type": "execute_result"
    }
   ],
   "source": [
    "df.isnull().sum()"
   ]
  },
  {
   "cell_type": "code",
   "execution_count": 74,
   "id": "2c3f0faa-b2f6-4d22-a182-389a9b464964",
   "metadata": {},
   "outputs": [
    {
     "data": {
      "text/plain": [
       "'R'"
      ]
     },
     "execution_count": 74,
     "metadata": {},
     "output_type": "execute_result"
    }
   ],
   "source": [
    "x = df['Movie Rating'].mode()[0]\n",
    "x"
   ]
  },
  {
   "cell_type": "code",
   "execution_count": 75,
   "id": "459fffca-28f1-4f60-9bf4-7f46003de3bb",
   "metadata": {},
   "outputs": [],
   "source": [
    "df['Movie Rating'] = df['Movie Rating'].fillna(x)"
   ]
  },
  {
   "cell_type": "code",
   "execution_count": 76,
   "id": "323dd369-7146-43ea-b77c-ea76446fd8a1",
   "metadata": {},
   "outputs": [
    {
     "data": {
      "text/plain": [
       "Movie Name              0\n",
       "Average Rate            0\n",
       "Total Number Of Rate    0\n",
       "Published Year          0\n",
       "Movie Rating            0\n",
       "Hours                   0\n",
       "Minutes                 0\n",
       "dtype: int64"
      ]
     },
     "execution_count": 76,
     "metadata": {},
     "output_type": "execute_result"
    }
   ],
   "source": [
    "df.isnull().sum()"
   ]
  },
  {
   "cell_type": "code",
   "execution_count": 78,
   "id": "8876e2e4-5eea-4c7e-8899-ecede59ae5c9",
   "metadata": {},
   "outputs": [
    {
     "data": {
      "text/plain": [
       "False"
      ]
     },
     "execution_count": 78,
     "metadata": {},
     "output_type": "execute_result"
    }
   ],
   "source": [
    "df.duplicated().any()"
   ]
  },
  {
   "cell_type": "code",
   "execution_count": 79,
   "id": "b0a440b0-52b0-45d2-b398-ce7268700454",
   "metadata": {},
   "outputs": [],
   "source": [
    "df.to_csv(\"Movies_2024.csv\")"
   ]
  },
  {
   "cell_type": "code",
   "execution_count": 80,
   "id": "1269b990-655f-4e71-8861-79a0f2657043",
   "metadata": {},
   "outputs": [
    {
     "data": {
      "text/plain": [
       "Index(['Movie Name', 'Average Rate', 'Total Number Of Rate', 'Published Year',\n",
       "       'Movie Rating', 'Hours', 'Minutes'],\n",
       "      dtype='object')"
      ]
     },
     "execution_count": 80,
     "metadata": {},
     "output_type": "execute_result"
    }
   ],
   "source": [
    "df.columns"
   ]
  },
  {
   "cell_type": "code",
   "execution_count": null,
   "id": "ad7ba059-068f-4987-8bcd-50e4e7297b54",
   "metadata": {},
   "outputs": [],
   "source": []
  }
 ],
 "metadata": {
  "kernelspec": {
   "display_name": "Python 3 (ipykernel)",
   "language": "python",
   "name": "python3"
  },
  "language_info": {
   "codemirror_mode": {
    "name": "ipython",
    "version": 3
   },
   "file_extension": ".py",
   "mimetype": "text/x-python",
   "name": "python",
   "nbconvert_exporter": "python",
   "pygments_lexer": "ipython3",
   "version": "3.9.6"
  }
 },
 "nbformat": 4,
 "nbformat_minor": 5
}
