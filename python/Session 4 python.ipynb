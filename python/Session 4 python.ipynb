{
 "cells": [
  {
   "cell_type": "code",
   "execution_count": 1,
   "id": "6a1367f9",
   "metadata": {},
   "outputs": [],
   "source": [
    "# dictionary \n",
    "# loops  (for , while)\n",
    "# functions\n",
    "# scope \n",
    "# try:\n",
    "# except:\n",
    "# module \n",
    "# file handling "
   ]
  },
  {
   "cell_type": "code",
   "execution_count": 3,
   "id": "346547af",
   "metadata": {},
   "outputs": [],
   "source": [
    "lst = [1,2,3,4]    # or lst = list(seq)\n",
    "t   = (1,2,3,4)    # or t   = tuple(seq) \n",
    "s   = {1,2,3,4}    # or s   = set(seq)"
   ]
  },
  {
   "cell_type": "code",
   "execution_count": 5,
   "id": "de8e61e9",
   "metadata": {},
   "outputs": [
    {
     "data": {
      "text/plain": [
       "[1, 2, 3, 4]"
      ]
     },
     "execution_count": 5,
     "metadata": {},
     "output_type": "execute_result"
    }
   ],
   "source": [
    "lst2 = list(t)\n",
    "lst2"
   ]
  },
  {
   "cell_type": "code",
   "execution_count": 6,
   "id": "228af5bd",
   "metadata": {},
   "outputs": [
    {
     "data": {
      "text/plain": [
       "[1, 2, 3, 4]"
      ]
     },
     "execution_count": 6,
     "metadata": {},
     "output_type": "execute_result"
    }
   ],
   "source": [
    "lst3 = list(s)\n",
    "lst3"
   ]
  },
  {
   "cell_type": "code",
   "execution_count": 7,
   "id": "c7d972b9",
   "metadata": {},
   "outputs": [
    {
     "data": {
      "text/plain": [
       "(1, 2, 3, 4)"
      ]
     },
     "execution_count": 7,
     "metadata": {},
     "output_type": "execute_result"
    }
   ],
   "source": [
    "tuple(lst)"
   ]
  },
  {
   "cell_type": "code",
   "execution_count": 8,
   "id": "91f8744f",
   "metadata": {},
   "outputs": [
    {
     "data": {
      "text/plain": [
       "{1, 2, 3, 4}"
      ]
     },
     "execution_count": 8,
     "metadata": {},
     "output_type": "execute_result"
    }
   ],
   "source": [
    "set(lst)"
   ]
  },
  {
   "cell_type": "markdown",
   "id": "0d642b49",
   "metadata": {},
   "source": [
    "## Dictionary"
   ]
  },
  {
   "cell_type": "code",
   "execution_count": 10,
   "id": "9a3abcb7",
   "metadata": {},
   "outputs": [
    {
     "data": {
      "text/plain": [
       "{'k1': 1, 'k2': 2, 'k3': 3, 'k4': 100}"
      ]
     },
     "execution_count": 10,
     "metadata": {},
     "output_type": "execute_result"
    }
   ],
   "source": [
    "d = {\"k1\" : 1 , \"k2\" : 2 , \"k3\" : 3 , \"k4\" : 100}   # or d = dict(seq)\n",
    "d"
   ]
  },
  {
   "cell_type": "code",
   "execution_count": 17,
   "id": "acf005b6",
   "metadata": {},
   "outputs": [
    {
     "data": {
      "text/plain": [
       "[1, 2, 3, 4, 100]"
      ]
     },
     "execution_count": 17,
     "metadata": {},
     "output_type": "execute_result"
    }
   ],
   "source": [
    "lst = [1,2,3,4,5]\n",
    "lst[-1] = 100\n",
    "lst"
   ]
  },
  {
   "cell_type": "code",
   "execution_count": 13,
   "id": "71bbd052",
   "metadata": {},
   "outputs": [
    {
     "data": {
      "text/plain": [
       "1"
      ]
     },
     "execution_count": 13,
     "metadata": {},
     "output_type": "execute_result"
    }
   ],
   "source": [
    "d[\"k1\"]"
   ]
  },
  {
   "cell_type": "code",
   "execution_count": 14,
   "id": "73e36b10",
   "metadata": {},
   "outputs": [
    {
     "data": {
      "text/plain": [
       "100"
      ]
     },
     "execution_count": 14,
     "metadata": {},
     "output_type": "execute_result"
    }
   ],
   "source": [
    "d[\"k4\"]"
   ]
  },
  {
   "cell_type": "code",
   "execution_count": 15,
   "id": "19223db0",
   "metadata": {},
   "outputs": [
    {
     "data": {
      "text/plain": [
       "4"
      ]
     },
     "execution_count": 15,
     "metadata": {},
     "output_type": "execute_result"
    }
   ],
   "source": [
    "len(d)"
   ]
  },
  {
   "cell_type": "code",
   "execution_count": 16,
   "id": "5c728789",
   "metadata": {},
   "outputs": [
    {
     "data": {
      "text/plain": [
       "dict"
      ]
     },
     "execution_count": 16,
     "metadata": {},
     "output_type": "execute_result"
    }
   ],
   "source": [
    "type(d)"
   ]
  },
  {
   "cell_type": "code",
   "execution_count": 20,
   "id": "ac58f5df",
   "metadata": {},
   "outputs": [
    {
     "data": {
      "text/plain": [
       "{'k1': 100, 'k2': 2, 'k3': 3, 'k4': 100}"
      ]
     },
     "execution_count": 20,
     "metadata": {},
     "output_type": "execute_result"
    }
   ],
   "source": [
    "d[\"k1\"] = 100\n",
    "d"
   ]
  },
  {
   "cell_type": "code",
   "execution_count": 24,
   "id": "57c6bf1a",
   "metadata": {},
   "outputs": [],
   "source": [
    "d[\"k4\"] = 300"
   ]
  },
  {
   "cell_type": "code",
   "execution_count": 25,
   "id": "388ce89d",
   "metadata": {},
   "outputs": [
    {
     "data": {
      "text/plain": [
       "{'k1': 100, 'k2': 2, 'k3': 3, 'k4': 300, 'k5': 200}"
      ]
     },
     "execution_count": 25,
     "metadata": {},
     "output_type": "execute_result"
    }
   ],
   "source": [
    "d"
   ]
  },
  {
   "cell_type": "code",
   "execution_count": 36,
   "id": "c3e598a6",
   "metadata": {},
   "outputs": [
    {
     "data": {
      "text/plain": [
       "{0: 100, 1: 200, 2: 300}"
      ]
     },
     "execution_count": 36,
     "metadata": {},
     "output_type": "execute_result"
    }
   ],
   "source": [
    "d1 = {0 : 100 , 1 : 200 , 2 : 300 }\n",
    "d1"
   ]
  },
  {
   "cell_type": "code",
   "execution_count": 37,
   "id": "eb1b30f0",
   "metadata": {},
   "outputs": [
    {
     "data": {
      "text/plain": [
       "{2: 1000, 3: 400, 4: 500}"
      ]
     },
     "execution_count": 37,
     "metadata": {},
     "output_type": "execute_result"
    }
   ],
   "source": [
    "d2 = {2: 1000 ,  3: 400 , 4: 500}\n",
    "d2"
   ]
  },
  {
   "cell_type": "code",
   "execution_count": 38,
   "id": "fc290201",
   "metadata": {},
   "outputs": [],
   "source": [
    "d1.update(d2)"
   ]
  },
  {
   "cell_type": "code",
   "execution_count": 39,
   "id": "fe8586cb",
   "metadata": {},
   "outputs": [
    {
     "data": {
      "text/plain": [
       "{0: 100, 1: 200, 2: 1000, 3: 400, 4: 500}"
      ]
     },
     "execution_count": 39,
     "metadata": {},
     "output_type": "execute_result"
    }
   ],
   "source": [
    "d1"
   ]
  },
  {
   "cell_type": "code",
   "execution_count": 40,
   "id": "d203c899",
   "metadata": {},
   "outputs": [
    {
     "data": {
      "text/plain": [
       "{'k1': 100, 'k2': 2, 'k3': 3, 'k4': 300, 'k5': 200}"
      ]
     },
     "execution_count": 40,
     "metadata": {},
     "output_type": "execute_result"
    }
   ],
   "source": [
    "d"
   ]
  },
  {
   "cell_type": "code",
   "execution_count": 48,
   "id": "8cd17dc0",
   "metadata": {},
   "outputs": [
    {
     "data": {
      "text/plain": [
       "{'name': ['Ahmed', 'Abdo', ['a', 'b', 'c'], 'Mo'], 'age': [20, 30, 35]}"
      ]
     },
     "execution_count": 48,
     "metadata": {},
     "output_type": "execute_result"
    }
   ],
   "source": [
    "d = {\"name\": [\"Ahmed\" , \"Abdo\" ,[\"a\" , \"b\" , \"c\"], \"Mo\" ] , \"age\":[20,30,35] }\n",
    "d"
   ]
  },
  {
   "cell_type": "code",
   "execution_count": 93,
   "id": "d96e6753",
   "metadata": {},
   "outputs": [
    {
     "data": {
      "text/plain": [
       "{'name': ['Ahmed', 'Abdo', ['a', 'b', 'c'], 'Mohamed'], 'age': [20, 30, 35]}"
      ]
     },
     "execution_count": 93,
     "metadata": {},
     "output_type": "execute_result"
    }
   ],
   "source": [
    "d[\"name\"][-1] = \"Mohamed\"\n",
    "d"
   ]
  },
  {
   "cell_type": "code",
   "execution_count": 73,
   "id": "41bf9ad5",
   "metadata": {},
   "outputs": [
    {
     "data": {
      "text/plain": [
       "'b'"
      ]
     },
     "execution_count": 73,
     "metadata": {},
     "output_type": "execute_result"
    }
   ],
   "source": [
    "d[\"name\"][-2][1]"
   ]
  },
  {
   "cell_type": "code",
   "execution_count": 95,
   "id": "21865858",
   "metadata": {},
   "outputs": [
    {
     "data": {
      "text/plain": [
       "{'name': ['AHMED', 'Abdo', ['a', 'b', 'c'], 'Mohamed'], 'age': [20, 30, 35]}"
      ]
     },
     "execution_count": 95,
     "metadata": {},
     "output_type": "execute_result"
    }
   ],
   "source": [
    "d[\"name\"][0] = d[\"name\"][0].upper()\n",
    "d"
   ]
  },
  {
   "cell_type": "code",
   "execution_count": 64,
   "id": "5e419703",
   "metadata": {},
   "outputs": [
    {
     "data": {
      "text/plain": [
       "{'k1': 10, 'k2': 300}"
      ]
     },
     "execution_count": 64,
     "metadata": {},
     "output_type": "execute_result"
    }
   ],
   "source": [
    "d3 = {\"k1\" : 100 , \"k2\": 300 , \"k1\": 10}\n",
    "d3"
   ]
  },
  {
   "cell_type": "code",
   "execution_count": 59,
   "id": "70d988d4",
   "metadata": {},
   "outputs": [
    {
     "data": {
      "text/plain": [
       "{'k1': 5}"
      ]
     },
     "execution_count": 59,
     "metadata": {},
     "output_type": "execute_result"
    }
   ],
   "source": [
    "d4 = {\"k1\": 5}\n",
    "d4"
   ]
  },
  {
   "cell_type": "code",
   "execution_count": 65,
   "id": "192a0bec",
   "metadata": {},
   "outputs": [
    {
     "data": {
      "text/plain": [
       "{'k1': 10, 'k2': 300}"
      ]
     },
     "execution_count": 65,
     "metadata": {},
     "output_type": "execute_result"
    }
   ],
   "source": [
    "d4.update(d3)\n",
    "d3"
   ]
  },
  {
   "cell_type": "code",
   "execution_count": 85,
   "id": "85be0675",
   "metadata": {},
   "outputs": [
    {
     "data": {
      "text/plain": [
       "{'name': ['Ahmed', 'Abdo', ['a', 'b', 'c'], 'Mo'], 'age': [20, 30, 35]}"
      ]
     },
     "execution_count": 85,
     "metadata": {},
     "output_type": "execute_result"
    }
   ],
   "source": [
    "d"
   ]
  },
  {
   "cell_type": "code",
   "execution_count": 86,
   "id": "a37a88a4",
   "metadata": {},
   "outputs": [
    {
     "data": {
      "text/plain": [
       "{0: 100, 1: 200, 2: 1000, 3: 400, 4: 500}"
      ]
     },
     "execution_count": 86,
     "metadata": {},
     "output_type": "execute_result"
    }
   ],
   "source": [
    "d1"
   ]
  },
  {
   "cell_type": "code",
   "execution_count": 87,
   "id": "1b36a8af",
   "metadata": {},
   "outputs": [
    {
     "data": {
      "text/plain": [
       "dict_keys([0, 1, 2, 3, 4])"
      ]
     },
     "execution_count": 87,
     "metadata": {},
     "output_type": "execute_result"
    }
   ],
   "source": [
    "d1.keys()"
   ]
  },
  {
   "cell_type": "code",
   "execution_count": 88,
   "id": "f13e75d9",
   "metadata": {},
   "outputs": [
    {
     "data": {
      "text/plain": [
       "dict_values([100, 200, 1000, 400, 500])"
      ]
     },
     "execution_count": 88,
     "metadata": {},
     "output_type": "execute_result"
    }
   ],
   "source": [
    "d1.values()"
   ]
  },
  {
   "cell_type": "code",
   "execution_count": 101,
   "id": "2412f274",
   "metadata": {},
   "outputs": [
    {
     "data": {
      "text/plain": [
       "['AHMED', 'Abdo', ['a', 'b', 'c'], 'Mohamed']"
      ]
     },
     "execution_count": 101,
     "metadata": {},
     "output_type": "execute_result"
    }
   ],
   "source": [
    "d[\"name\"]"
   ]
  },
  {
   "cell_type": "code",
   "execution_count": 102,
   "id": "82a07272",
   "metadata": {},
   "outputs": [
    {
     "data": {
      "text/plain": [
       "['AHMED', 'Abdo', ['a', 'b', 'c'], 'Mohamed']"
      ]
     },
     "execution_count": 102,
     "metadata": {},
     "output_type": "execute_result"
    }
   ],
   "source": [
    "d.get(\"name\")"
   ]
  },
  {
   "cell_type": "code",
   "execution_count": 98,
   "id": "e92ebc14",
   "metadata": {},
   "outputs": [
    {
     "data": {
      "text/plain": [
       "dict_items([(2, 1000), (3, 400), (4, 500)])"
      ]
     },
     "execution_count": 98,
     "metadata": {},
     "output_type": "execute_result"
    }
   ],
   "source": [
    "d2.items()"
   ]
  },
  {
   "cell_type": "code",
   "execution_count": 99,
   "id": "09024a5d",
   "metadata": {},
   "outputs": [
    {
     "data": {
      "text/plain": [
       "[(2, 1000), (3, 400), (4, 500)]"
      ]
     },
     "execution_count": 99,
     "metadata": {},
     "output_type": "execute_result"
    }
   ],
   "source": [
    "lst = [(2, 1000), (3, 400), (4, 500)]\n",
    "lst"
   ]
  },
  {
   "cell_type": "code",
   "execution_count": 100,
   "id": "18e5e7ee",
   "metadata": {},
   "outputs": [
    {
     "data": {
      "text/plain": [
       "{2: 1000, 3: 400, 4: 500}"
      ]
     },
     "execution_count": 100,
     "metadata": {},
     "output_type": "execute_result"
    }
   ],
   "source": [
    "dict(lst)"
   ]
  },
  {
   "cell_type": "code",
   "execution_count": null,
   "id": "f451e4d5",
   "metadata": {},
   "outputs": [],
   "source": [
    "# for i in seq:\n",
    "#     print(i)\n",
    "#     .\n",
    "#     .\n",
    "#     .\n",
    "#     ..\n",
    "#     .."
   ]
  },
  {
   "cell_type": "code",
   "execution_count": 107,
   "id": "d3b15bc6",
   "metadata": {},
   "outputs": [],
   "source": [
    "lst = [1,2,3,4,5]"
   ]
  },
  {
   "cell_type": "code",
   "execution_count": 108,
   "id": "46fb84cc",
   "metadata": {},
   "outputs": [
    {
     "data": {
      "text/plain": [
       "[1, 2, 3, 4, 5]"
      ]
     },
     "execution_count": 108,
     "metadata": {},
     "output_type": "execute_result"
    }
   ],
   "source": [
    "lst"
   ]
  },
  {
   "cell_type": "code",
   "execution_count": 114,
   "id": "71210406",
   "metadata": {},
   "outputs": [
    {
     "name": "stdout",
     "output_type": "stream",
     "text": [
      "2\n",
      "4\n",
      "6\n",
      "8\n",
      "10\n",
      "[1, 2, 3, 4, 5]\n"
     ]
    }
   ],
   "source": [
    "for i in lst:   # i = 1 , i = 2 , i = 3 , i = 4 , i = 5\n",
    "    print(i * 2)\n",
    "print(lst)"
   ]
  },
  {
   "cell_type": "code",
   "execution_count": 115,
   "id": "878255e6",
   "metadata": {},
   "outputs": [
    {
     "name": "stdout",
     "output_type": "stream",
     "text": [
      "A\n",
      "M\n",
      "I\n",
      "T\n"
     ]
    }
   ],
   "source": [
    "for i in \"AMIT\": #i = A , i = M , i = I , i = T\n",
    "    print(i)"
   ]
  },
  {
   "cell_type": "code",
   "execution_count": 123,
   "id": "2398f17b",
   "metadata": {},
   "outputs": [
    {
     "name": "stdout",
     "output_type": "stream",
     "text": [
      "[2, 4, 6, 8, 10]\n"
     ]
    }
   ],
   "source": [
    "lst = [1,2,3,4,5]\n",
    "result = []\n",
    "for i in lst :\n",
    "    result.append( i * 2 )\n",
    "    \n",
    "print(result)"
   ]
  },
  {
   "cell_type": "code",
   "execution_count": 119,
   "id": "017c3c5b",
   "metadata": {},
   "outputs": [],
   "source": [
    "res = []\n",
    "res.append(1 * 2 )\n",
    "res.append(2 * 2 )\n",
    "res.append(3 * 2 )\n",
    "res.append(4 * 2 )\n",
    "res.append(5 * 2 )"
   ]
  },
  {
   "cell_type": "code",
   "execution_count": 120,
   "id": "cd33de4f",
   "metadata": {},
   "outputs": [
    {
     "data": {
      "text/plain": [
       "[2, 4, 6, 8, 10]"
      ]
     },
     "execution_count": 120,
     "metadata": {},
     "output_type": "execute_result"
    }
   ],
   "source": [
    "res"
   ]
  },
  {
   "cell_type": "code",
   "execution_count": 127,
   "id": "6e48d4a5",
   "metadata": {},
   "outputs": [
    {
     "name": "stdout",
     "output_type": "stream",
     "text": [
      "1\n",
      "2\n",
      "3\n",
      "4\n",
      "5\n",
      "6\n",
      "7\n",
      "8\n",
      "9\n",
      "10\n"
     ]
    }
   ],
   "source": [
    "# for i in range(start = 0,end, step = 1): end not included   end-1\n",
    "for i in range(1, 11):\n",
    "    print(i)"
   ]
  },
  {
   "cell_type": "code",
   "execution_count": 128,
   "id": "c8672d17",
   "metadata": {},
   "outputs": [
    {
     "name": "stdout",
     "output_type": "stream",
     "text": [
      "1 is Odd\n",
      "2 is Even\n",
      "3 is Odd\n",
      "4 is Even\n",
      "5 is Odd\n",
      "6 is Even\n",
      "7 is Odd\n",
      "8 is Even\n",
      "9 is Odd\n",
      "10 is Even\n",
      "11 is Odd\n",
      "12 is Even\n",
      "13 is Odd\n",
      "14 is Even\n",
      "15 is Odd\n",
      "16 is Even\n",
      "17 is Odd\n",
      "18 is Even\n",
      "19 is Odd\n",
      "20 is Even\n",
      "21 is Odd\n",
      "22 is Even\n",
      "23 is Odd\n",
      "24 is Even\n",
      "25 is Odd\n",
      "26 is Even\n",
      "27 is Odd\n",
      "28 is Even\n",
      "29 is Odd\n",
      "30 is Even\n",
      "31 is Odd\n",
      "32 is Even\n",
      "33 is Odd\n",
      "34 is Even\n",
      "35 is Odd\n",
      "36 is Even\n",
      "37 is Odd\n",
      "38 is Even\n",
      "39 is Odd\n",
      "40 is Even\n",
      "41 is Odd\n",
      "42 is Even\n",
      "43 is Odd\n",
      "44 is Even\n",
      "45 is Odd\n",
      "46 is Even\n",
      "47 is Odd\n",
      "48 is Even\n",
      "49 is Odd\n",
      "50 is Even\n"
     ]
    }
   ],
   "source": [
    "for i in range(1, 51): #i = 1 , i = 2 ........\n",
    "    if i % 2 == 0 :\n",
    "        print(f\"{i} is Even\")\n",
    "    else:\n",
    "        print(f\"{i} is Odd\")"
   ]
  },
  {
   "cell_type": "code",
   "execution_count": 129,
   "id": "7571db48",
   "metadata": {},
   "outputs": [],
   "source": [
    "lst = [1,2,3,4,5] \n",
    "result = []\n",
    "for i in lst :\n",
    "    result.append(i * 2 )"
   ]
  },
  {
   "cell_type": "code",
   "execution_count": 130,
   "id": "2666488a",
   "metadata": {},
   "outputs": [
    {
     "data": {
      "text/plain": [
       "[2, 4, 6, 8, 10]"
      ]
     },
     "execution_count": 130,
     "metadata": {},
     "output_type": "execute_result"
    }
   ],
   "source": [
    "result"
   ]
  },
  {
   "cell_type": "code",
   "execution_count": 132,
   "id": "d72cf4f2",
   "metadata": {},
   "outputs": [],
   "source": [
    "res = [ i * 2 for i in lst ]"
   ]
  },
  {
   "cell_type": "code",
   "execution_count": 133,
   "id": "d89f8767",
   "metadata": {},
   "outputs": [
    {
     "data": {
      "text/plain": [
       "[2, 4, 6, 8, 10]"
      ]
     },
     "execution_count": 133,
     "metadata": {},
     "output_type": "execute_result"
    }
   ],
   "source": [
    "res"
   ]
  },
  {
   "cell_type": "code",
   "execution_count": 134,
   "id": "926b3b1d",
   "metadata": {},
   "outputs": [
    {
     "data": {
      "text/plain": [
       "[1, 2, 3, 4, 5]"
      ]
     },
     "execution_count": 134,
     "metadata": {},
     "output_type": "execute_result"
    }
   ],
   "source": [
    "lst"
   ]
  },
  {
   "cell_type": "code",
   "execution_count": 135,
   "id": "61399822",
   "metadata": {},
   "outputs": [],
   "source": [
    "s = 0\n",
    "for i in lst :\n",
    "    s = s + i    #i = 1 , s = 0 >> 0 + 1 = 1 >> s = 1 ::: i = 2 , s = 1 >> 1 + 2 = 3 >> s = 3 ::: \n",
    "                            # i = 3 , s = 3 >> 3 + 3 = 6 >> s = 6 :::i=4,s=6 >>6+4 = 10 s=10 ::: \n",
    "                            #   i=5>> 10 + 5 >> 15 "
   ]
  },
  {
   "cell_type": "code",
   "execution_count": 136,
   "id": "cbeef892",
   "metadata": {},
   "outputs": [
    {
     "name": "stdout",
     "output_type": "stream",
     "text": [
      "15\n"
     ]
    }
   ],
   "source": [
    "print(s)"
   ]
  },
  {
   "cell_type": "code",
   "execution_count": 137,
   "id": "4c7d295c",
   "metadata": {},
   "outputs": [
    {
     "name": "stdout",
     "output_type": "stream",
     "text": [
      "15\n"
     ]
    }
   ],
   "source": [
    "s = 0\n",
    "for i in lst :\n",
    "    s += i\n",
    "print(s)"
   ]
  },
  {
   "cell_type": "code",
   "execution_count": 145,
   "id": "a82435a4",
   "metadata": {},
   "outputs": [
    {
     "name": "stdout",
     "output_type": "stream",
     "text": [
      "s = 0 + 1 = 1 \n",
      "s = 1 + 2 = 3 \n",
      "s = 3 + 3 = 6 \n",
      "s = 6 + 4 = 10 \n",
      "s = 10 + 5 = 15 \n"
     ]
    }
   ],
   "source": [
    "s = 0\n",
    "for i in lst :\n",
    "    print(f\"s = {s} + {i} = {s + i } \")\n",
    "    s = s+i"
   ]
  },
  {
   "cell_type": "markdown",
   "id": "c7309efb",
   "metadata": {},
   "source": [
    "## Functions"
   ]
  },
  {
   "cell_type": "code",
   "execution_count": 146,
   "id": "799b5edc",
   "metadata": {},
   "outputs": [
    {
     "name": "stdout",
     "output_type": "stream",
     "text": [
      "Amit\n"
     ]
    }
   ],
   "source": [
    "print(\"Amit\")"
   ]
  },
  {
   "cell_type": "code",
   "execution_count": 147,
   "id": "28daa8ed",
   "metadata": {},
   "outputs": [
    {
     "data": {
      "text/plain": [
       "int"
      ]
     },
     "execution_count": 147,
     "metadata": {},
     "output_type": "execute_result"
    }
   ],
   "source": [
    "x = 12\n",
    "type(x)"
   ]
  },
  {
   "cell_type": "code",
   "execution_count": 155,
   "id": "38e184f8",
   "metadata": {},
   "outputs": [
    {
     "data": {
      "text/plain": [
       "5"
      ]
     },
     "execution_count": 155,
     "metadata": {},
     "output_type": "execute_result"
    }
   ],
   "source": [
    "len(lst)"
   ]
  },
  {
   "cell_type": "code",
   "execution_count": 149,
   "id": "235ca5cc",
   "metadata": {},
   "outputs": [
    {
     "data": {
      "text/plain": [
       "[1, 2, 3, 4, 5]"
      ]
     },
     "execution_count": 149,
     "metadata": {},
     "output_type": "execute_result"
    }
   ],
   "source": [
    "lst"
   ]
  },
  {
   "cell_type": "code",
   "execution_count": 150,
   "id": "ae192edb",
   "metadata": {},
   "outputs": [
    {
     "data": {
      "text/plain": [
       "15"
      ]
     },
     "execution_count": 150,
     "metadata": {},
     "output_type": "execute_result"
    }
   ],
   "source": [
    "sum(lst)"
   ]
  },
  {
   "cell_type": "code",
   "execution_count": 151,
   "id": "0f3cff21",
   "metadata": {},
   "outputs": [
    {
     "data": {
      "text/plain": [
       "5"
      ]
     },
     "execution_count": 151,
     "metadata": {},
     "output_type": "execute_result"
    }
   ],
   "source": [
    "max(lst)"
   ]
  },
  {
   "cell_type": "code",
   "execution_count": 152,
   "id": "74ed79d2",
   "metadata": {},
   "outputs": [
    {
     "data": {
      "text/plain": [
       "1"
      ]
     },
     "execution_count": 152,
     "metadata": {},
     "output_type": "execute_result"
    }
   ],
   "source": [
    "min(lst)"
   ]
  },
  {
   "cell_type": "code",
   "execution_count": 156,
   "id": "e5432bfc",
   "metadata": {},
   "outputs": [
    {
     "name": "stdout",
     "output_type": "stream",
     "text": [
      "Help on built-in function sum in module builtins:\n",
      "\n",
      "sum(iterable, /, start=0)\n",
      "    Return the sum of a 'start' value (default: 0) plus an iterable of numbers\n",
      "    \n",
      "    When the iterable is empty, return the start value.\n",
      "    This function is intended specifically for use with numeric values and may\n",
      "    reject non-numeric types.\n",
      "\n"
     ]
    }
   ],
   "source": [
    "help(sum)"
   ]
  },
  {
   "cell_type": "code",
   "execution_count": 157,
   "id": "a864b328",
   "metadata": {},
   "outputs": [
    {
     "name": "stdout",
     "output_type": "stream",
     "text": [
      "Help on built-in function max in module builtins:\n",
      "\n",
      "max(...)\n",
      "    max(iterable, *[, default=obj, key=func]) -> value\n",
      "    max(arg1, arg2, *args, *[, key=func]) -> value\n",
      "    \n",
      "    With a single iterable argument, return its biggest item. The\n",
      "    default keyword-only argument specifies an object to return if\n",
      "    the provided iterable is empty.\n",
      "    With two or more arguments, return the largest argument.\n",
      "\n"
     ]
    }
   ],
   "source": [
    "help(max)"
   ]
  },
  {
   "cell_type": "code",
   "execution_count": 174,
   "id": "f0a907d0",
   "metadata": {},
   "outputs": [],
   "source": [
    "def say_hello():\n",
    "    print(\"Welcome\")"
   ]
  },
  {
   "cell_type": "code",
   "execution_count": 177,
   "id": "e9b6afee",
   "metadata": {},
   "outputs": [
    {
     "name": "stdout",
     "output_type": "stream",
     "text": [
      "Welcome\n"
     ]
    }
   ],
   "source": [
    "say_hello()"
   ]
  },
  {
   "cell_type": "code",
   "execution_count": 201,
   "id": "625a0663",
   "metadata": {},
   "outputs": [],
   "source": [
    "def add(num1 , num2):\n",
    "    res = num1 + num2\n",
    "    return res"
   ]
  },
  {
   "cell_type": "code",
   "execution_count": 205,
   "id": "207a2ac7",
   "metadata": {},
   "outputs": [],
   "source": [
    "x = add(12 , 13 )"
   ]
  },
  {
   "cell_type": "code",
   "execution_count": 203,
   "id": "c7039d3a",
   "metadata": {},
   "outputs": [
    {
     "data": {
      "text/plain": [
       "25"
      ]
     },
     "execution_count": 203,
     "metadata": {},
     "output_type": "execute_result"
    }
   ],
   "source": [
    "x"
   ]
  },
  {
   "cell_type": "code",
   "execution_count": 181,
   "id": "efaa4e0c",
   "metadata": {},
   "outputs": [
    {
     "data": {
      "text/plain": [
       "15"
      ]
     },
     "execution_count": 181,
     "metadata": {},
     "output_type": "execute_result"
    }
   ],
   "source": [
    "lst = [1,2,3,4,5]\n",
    "sum(lst)"
   ]
  },
  {
   "cell_type": "code",
   "execution_count": 184,
   "id": "7aa7a1d8",
   "metadata": {},
   "outputs": [],
   "source": [
    "def add_lst( l ):\n",
    "    s = 0\n",
    "    for i in l:\n",
    "        s += i \n",
    "    return s "
   ]
  },
  {
   "cell_type": "code",
   "execution_count": 185,
   "id": "78f6e5dc",
   "metadata": {},
   "outputs": [
    {
     "data": {
      "text/plain": [
       "15"
      ]
     },
     "execution_count": 185,
     "metadata": {},
     "output_type": "execute_result"
    }
   ],
   "source": [
    "lst = [1,2,3,4,5]\n",
    "\n",
    "add_lst(lst)"
   ]
  },
  {
   "cell_type": "code",
   "execution_count": 188,
   "id": "5d151906",
   "metadata": {},
   "outputs": [
    {
     "data": {
      "text/plain": [
       "20"
      ]
     },
     "execution_count": 188,
     "metadata": {},
     "output_type": "execute_result"
    }
   ],
   "source": [
    "add_lst({2,3,4,5,6})"
   ]
  },
  {
   "cell_type": "code",
   "execution_count": 198,
   "id": "dfade360",
   "metadata": {},
   "outputs": [],
   "source": [
    "def add(*num):  #num = (10 ,10 ,10 ,10)\n",
    "    s = 0\n",
    "    for i in num:\n",
    "        s += i \n",
    "    return s "
   ]
  },
  {
   "cell_type": "code",
   "execution_count": 200,
   "id": "642cf4ab",
   "metadata": {},
   "outputs": [
    {
     "name": "stdout",
     "output_type": "stream",
     "text": [
      "20\n",
      "10\n",
      "33\n"
     ]
    }
   ],
   "source": [
    "print(add(10,10))\n",
    "print(add(1,2,3,4))\n",
    "print(add(3,4,5,6,7,8))"
   ]
  },
  {
   "cell_type": "code",
   "execution_count": 195,
   "id": "8871ac2a",
   "metadata": {},
   "outputs": [
    {
     "data": {
      "text/plain": [
       "24"
      ]
     },
     "execution_count": 195,
     "metadata": {},
     "output_type": "execute_result"
    }
   ],
   "source": [
    "add(12,12)"
   ]
  },
  {
   "cell_type": "code",
   "execution_count": 196,
   "id": "a8a3f4f2",
   "metadata": {},
   "outputs": [
    {
     "data": {
      "text/plain": [
       "170"
      ]
     },
     "execution_count": 196,
     "metadata": {},
     "output_type": "execute_result"
    }
   ],
   "source": [
    "add(2,3,4,5,6,7,8,7,6,5,4,3,32,1,1,3,45,6,7,8,7)"
   ]
  },
  {
   "cell_type": "code",
   "execution_count": 210,
   "id": "96a4cf24",
   "metadata": {},
   "outputs": [],
   "source": [
    "def check(num = 0): # num = 0 default\n",
    "    if num % 2 == 0 :\n",
    "        return f\"{num} is Even\"\n",
    "    else:\n",
    "        return f\"{num} is Odd\""
   ]
  },
  {
   "cell_type": "code",
   "execution_count": 211,
   "id": "821549dd",
   "metadata": {},
   "outputs": [
    {
     "data": {
      "text/plain": [
       "'12 is Even'"
      ]
     },
     "execution_count": 211,
     "metadata": {},
     "output_type": "execute_result"
    }
   ],
   "source": [
    "check(12)"
   ]
  },
  {
   "cell_type": "code",
   "execution_count": 212,
   "id": "953889a5",
   "metadata": {},
   "outputs": [
    {
     "data": {
      "text/plain": [
       "'13 is Odd'"
      ]
     },
     "execution_count": 212,
     "metadata": {},
     "output_type": "execute_result"
    }
   ],
   "source": [
    "check(13)"
   ]
  },
  {
   "cell_type": "code",
   "execution_count": 213,
   "id": "74a9b1fd",
   "metadata": {},
   "outputs": [
    {
     "data": {
      "text/plain": [
       "'0 is Even'"
      ]
     },
     "execution_count": 213,
     "metadata": {},
     "output_type": "execute_result"
    }
   ],
   "source": [
    "check()"
   ]
  },
  {
   "cell_type": "code",
   "execution_count": 217,
   "id": "0bc374dc",
   "metadata": {},
   "outputs": [
    {
     "name": "stdout",
     "output_type": "stream",
     "text": [
      "Local\n",
      "Global\n"
     ]
    }
   ],
   "source": [
    "x = \"Global\"\n",
    "def outer():\n",
    "    x = \"Local\"\n",
    "    print(x)\n",
    "outer()\n",
    "print(x)"
   ]
  },
  {
   "cell_type": "code",
   "execution_count": 238,
   "id": "cfd6a311",
   "metadata": {},
   "outputs": [
    {
     "name": "stdout",
     "output_type": "stream",
     "text": [
      "Local\n",
      "Local\n"
     ]
    }
   ],
   "source": [
    "x = \"Global\"\n",
    "def outer():\n",
    "    global x\n",
    "    x = \"Local\"\n",
    "    print(x)\n",
    "outer()\n",
    "print(x)"
   ]
  },
  {
   "cell_type": "code",
   "execution_count": 241,
   "id": "54a8ea85",
   "metadata": {},
   "outputs": [
    {
     "name": "stdout",
     "output_type": "stream",
     "text": [
      "inner\n",
      "local\n",
      "Global\n"
     ]
    }
   ],
   "source": [
    "x = \"Global\"\n",
    "def outer():\n",
    "    x = \"local\"\n",
    "    def inner():\n",
    "        x = \"inner\"\n",
    "        print(x)   # >> inner\n",
    "    inner()  #>> inner \n",
    "    print(x) # >> local\n",
    "outer() #>>inner   >> local\n",
    "print(x)# Global "
   ]
  },
  {
   "cell_type": "code",
   "execution_count": 242,
   "id": "d86ddc17",
   "metadata": {},
   "outputs": [
    {
     "name": "stdout",
     "output_type": "stream",
     "text": [
      "inner\n",
      "local\n",
      "inner\n"
     ]
    }
   ],
   "source": [
    "x = \"Global\"\n",
    "def outer():\n",
    "    x = \"local\"\n",
    "    def inner():\n",
    "        global x \n",
    "        x = \"inner\"\n",
    "        print(x)   # >> inner\n",
    "    inner()  #>> inner \n",
    "    print(x) # >> local\n",
    "outer() #>>inner   >> local\n",
    "print(x)# inner "
   ]
  },
  {
   "cell_type": "code",
   "execution_count": 243,
   "id": "66be5c86",
   "metadata": {},
   "outputs": [
    {
     "name": "stdout",
     "output_type": "stream",
     "text": [
      "inner\n",
      "inner\n",
      "Global\n"
     ]
    }
   ],
   "source": [
    "x = \"Global\"\n",
    "def outer():\n",
    "    x = \"local\"\n",
    "    def inner():\n",
    "        nonlocal x \n",
    "        x = \"inner\"\n",
    "        print(x)   # >> inner\n",
    "    inner()  #>> inner \n",
    "    print(x) # >> inner\n",
    "outer() #>>inner   >> inner\n",
    "print(x)# global "
   ]
  },
  {
   "cell_type": "code",
   "execution_count": 267,
   "id": "315e64cb",
   "metadata": {},
   "outputs": [],
   "source": [
    "f = open(\"test.txt\" )      # r>>  read"
   ]
  },
  {
   "cell_type": "code",
   "execution_count": 268,
   "id": "6413499e",
   "metadata": {},
   "outputs": [
    {
     "data": {
      "text/plain": [
       "'my name is Ahmed my age is 30'"
      ]
     },
     "execution_count": 268,
     "metadata": {},
     "output_type": "execute_result"
    }
   ],
   "source": [
    "f.read()"
   ]
  },
  {
   "cell_type": "code",
   "execution_count": 270,
   "id": "eb9a6382",
   "metadata": {},
   "outputs": [],
   "source": [
    "# f.write(\"ohhhh\")"
   ]
  },
  {
   "cell_type": "code",
   "execution_count": 258,
   "id": "09b7b96c",
   "metadata": {},
   "outputs": [],
   "source": [
    "f = open(\"test2.txt\" , \"x\")          # w or a or x "
   ]
  },
  {
   "cell_type": "code",
   "execution_count": 271,
   "id": "b31f2d58",
   "metadata": {},
   "outputs": [],
   "source": [
    "f = open(\"test3.txt\" , \"w\")     #w >> write "
   ]
  },
  {
   "cell_type": "code",
   "execution_count": 272,
   "id": "42591949",
   "metadata": {},
   "outputs": [
    {
     "data": {
      "text/plain": [
       "33"
      ]
     },
     "execution_count": 272,
     "metadata": {},
     "output_type": "execute_result"
    }
   ],
   "source": [
    "f.write(\"my name is ahmed and my age is 30\")"
   ]
  },
  {
   "cell_type": "code",
   "execution_count": 273,
   "id": "dce42348",
   "metadata": {},
   "outputs": [],
   "source": [
    "f.close()"
   ]
  },
  {
   "cell_type": "code",
   "execution_count": 274,
   "id": "d97e14fe",
   "metadata": {},
   "outputs": [],
   "source": [
    "f = open(\"test3.txt\" , \"r+\")  #r+ >> read and write "
   ]
  },
  {
   "cell_type": "code",
   "execution_count": 275,
   "id": "31d0b404",
   "metadata": {},
   "outputs": [
    {
     "data": {
      "text/plain": [
       "'my name is ahmed and my age is 30'"
      ]
     },
     "execution_count": 275,
     "metadata": {},
     "output_type": "execute_result"
    }
   ],
   "source": [
    "f.read()"
   ]
  },
  {
   "cell_type": "code",
   "execution_count": 276,
   "id": "29d9bffa",
   "metadata": {},
   "outputs": [
    {
     "data": {
      "text/plain": [
       "5"
      ]
     },
     "execution_count": 276,
     "metadata": {},
     "output_type": "execute_result"
    }
   ],
   "source": [
    "f.write(\" Ok!!\")"
   ]
  },
  {
   "cell_type": "code",
   "execution_count": 277,
   "id": "1fed20e3",
   "metadata": {},
   "outputs": [],
   "source": [
    "f.close()"
   ]
  },
  {
   "cell_type": "code",
   "execution_count": 279,
   "id": "b456c4f8",
   "metadata": {},
   "outputs": [
    {
     "data": {
      "text/plain": [
       "'my name is ahmed and my age is 30 Ok!!    اسمي احمد '"
      ]
     },
     "execution_count": 279,
     "metadata": {},
     "output_type": "execute_result"
    }
   ],
   "source": [
    "f = open(\"test3.txt\" , \"r\" ,encoding='utf-8')\n",
    "f.read()"
   ]
  },
  {
   "cell_type": "code",
   "execution_count": 282,
   "id": "96146ab2",
   "metadata": {},
   "outputs": [
    {
     "data": {
      "text/plain": [
       "[1, 2, 3]"
      ]
     },
     "execution_count": 282,
     "metadata": {},
     "output_type": "execute_result"
    }
   ],
   "source": [
    "lst = [1,2,3,4]\n",
    "lst.remove(4)\n",
    "lst"
   ]
  },
  {
   "cell_type": "code",
   "execution_count": 284,
   "id": "d8c5e0fb",
   "metadata": {},
   "outputs": [
    {
     "ename": "ValueError",
     "evalue": "list.remove(x): x not in list",
     "output_type": "error",
     "traceback": [
      "\u001b[1;31m---------------------------------------------------------------------------\u001b[0m",
      "\u001b[1;31mValueError\u001b[0m                                Traceback (most recent call last)",
      "Cell \u001b[1;32mIn[284], line 1\u001b[0m\n\u001b[1;32m----> 1\u001b[0m \u001b[43mlst\u001b[49m\u001b[38;5;241;43m.\u001b[39;49m\u001b[43mremove\u001b[49m\u001b[43m(\u001b[49m\u001b[38;5;241;43m10\u001b[39;49m\u001b[43m)\u001b[49m\n\u001b[0;32m      2\u001b[0m \u001b[38;5;28mprint\u001b[39m(lst)\n",
      "\u001b[1;31mValueError\u001b[0m: list.remove(x): x not in list"
     ]
    }
   ],
   "source": [
    "lst.remove(10)\n",
    "print(lst)"
   ]
  },
  {
   "cell_type": "code",
   "execution_count": 293,
   "id": "dbb44b1f",
   "metadata": {},
   "outputs": [
    {
     "name": "stdout",
     "output_type": "stream",
     "text": [
      "Error: list.remove(x): x not in list\n",
      "[2, 3]\n"
     ]
    }
   ],
   "source": [
    "try:\n",
    "    lst.remove(1)\n",
    "    print(lst)\n",
    "except Exception as e :\n",
    "    print(f\"Error: {e}\")\n",
    "    print(lst)"
   ]
  },
  {
   "cell_type": "code",
   "execution_count": 295,
   "id": "24b09897",
   "metadata": {},
   "outputs": [
    {
     "name": "stdout",
     "output_type": "stream",
     "text": [
      "name 'wx' is not defined\n",
      "Try and except Done \n"
     ]
    }
   ],
   "source": [
    "try:\n",
    "    print(wx)\n",
    "except Exception as e:\n",
    "    print(e)\n",
    "else:\n",
    "    print(\"Good\")\n",
    "finally:\n",
    "    print(\"Try and except Done \")"
   ]
  },
  {
   "cell_type": "code",
   "execution_count": 296,
   "id": "dfdb948d",
   "metadata": {},
   "outputs": [
    {
     "name": "stdout",
     "output_type": "stream",
     "text": [
      "123\n",
      "Good\n",
      "Try and except Done \n"
     ]
    }
   ],
   "source": [
    "wx = 123\n",
    "try:\n",
    "    print(wx)\n",
    "except Exception as e:\n",
    "    print(e)\n",
    "else:\n",
    "    print(\"Good\")\n",
    "finally:\n",
    "    print(\"Try and except Done \")"
   ]
  },
  {
   "cell_type": "code",
   "execution_count": 297,
   "id": "63a31ea1",
   "metadata": {},
   "outputs": [],
   "source": [
    "import random"
   ]
  },
  {
   "cell_type": "code",
   "execution_count": 299,
   "id": "bdafb672",
   "metadata": {},
   "outputs": [],
   "source": [
    "# !pip install random"
   ]
  },
  {
   "cell_type": "code",
   "execution_count": 301,
   "id": "9a5aa8a4",
   "metadata": {},
   "outputs": [],
   "source": [
    "# dir(random)"
   ]
  },
  {
   "cell_type": "code",
   "execution_count": 302,
   "id": "bfb714f8",
   "metadata": {},
   "outputs": [
    {
     "data": {
      "text/plain": [
       "0.15439640226995244"
      ]
     },
     "execution_count": 302,
     "metadata": {},
     "output_type": "execute_result"
    }
   ],
   "source": [
    "random.random()   # 0 to 1 "
   ]
  },
  {
   "cell_type": "code",
   "execution_count": 303,
   "id": "e5dc68b5",
   "metadata": {},
   "outputs": [
    {
     "data": {
      "text/plain": [
       "0.6973365864742271"
      ]
     },
     "execution_count": 303,
     "metadata": {},
     "output_type": "execute_result"
    }
   ],
   "source": [
    "random.random()"
   ]
  },
  {
   "cell_type": "code",
   "execution_count": 306,
   "id": "8f59db94",
   "metadata": {},
   "outputs": [
    {
     "data": {
      "text/plain": [
       "9"
      ]
     },
     "execution_count": 306,
     "metadata": {},
     "output_type": "execute_result"
    }
   ],
   "source": [
    "random.randint(1 , 10)  # end >> included"
   ]
  },
  {
   "cell_type": "code",
   "execution_count": 310,
   "id": "2c379a8f",
   "metadata": {},
   "outputs": [
    {
     "data": {
      "text/plain": [
       "6"
      ]
     },
     "execution_count": 310,
     "metadata": {},
     "output_type": "execute_result"
    }
   ],
   "source": [
    "random.randint(1 , 10)"
   ]
  },
  {
   "cell_type": "code",
   "execution_count": 323,
   "id": "1097de42",
   "metadata": {},
   "outputs": [
    {
     "data": {
      "text/plain": [
       "5"
      ]
     },
     "execution_count": 323,
     "metadata": {},
     "output_type": "execute_result"
    }
   ],
   "source": [
    "random.randrange(1 , 10)  # end not included"
   ]
  },
  {
   "cell_type": "code",
   "execution_count": 324,
   "id": "a5572380",
   "metadata": {},
   "outputs": [],
   "source": [
    "import module"
   ]
  },
  {
   "cell_type": "code",
   "execution_count": 326,
   "id": "686e85a1",
   "metadata": {},
   "outputs": [],
   "source": [
    "# dir(module)"
   ]
  },
  {
   "cell_type": "code",
   "execution_count": 327,
   "id": "698fb46d",
   "metadata": {},
   "outputs": [
    {
     "data": {
      "text/plain": [
       "6"
      ]
     },
     "execution_count": 327,
     "metadata": {},
     "output_type": "execute_result"
    }
   ],
   "source": [
    "module.add(1,2,3)"
   ]
  },
  {
   "cell_type": "code",
   "execution_count": 328,
   "id": "668f8d22",
   "metadata": {},
   "outputs": [
    {
     "data": {
      "text/plain": [
       "2"
      ]
     },
     "execution_count": 328,
     "metadata": {},
     "output_type": "execute_result"
    }
   ],
   "source": [
    "module.add(1,1)"
   ]
  },
  {
   "cell_type": "code",
   "execution_count": 329,
   "id": "9a61985b",
   "metadata": {},
   "outputs": [
    {
     "data": {
      "text/plain": [
       "'5 is Odd'"
      ]
     },
     "execution_count": 329,
     "metadata": {},
     "output_type": "execute_result"
    }
   ],
   "source": [
    "module.check(5)"
   ]
  },
  {
   "cell_type": "code",
   "execution_count": 330,
   "id": "2c687625",
   "metadata": {},
   "outputs": [
    {
     "data": {
      "text/plain": [
       "'6 is Even'"
      ]
     },
     "execution_count": 330,
     "metadata": {},
     "output_type": "execute_result"
    }
   ],
   "source": [
    "module.check(6)"
   ]
  },
  {
   "cell_type": "code",
   "execution_count": 331,
   "id": "68af6714",
   "metadata": {},
   "outputs": [],
   "source": [
    "import module as md"
   ]
  },
  {
   "cell_type": "code",
   "execution_count": 332,
   "id": "9472fa79",
   "metadata": {},
   "outputs": [
    {
     "data": {
      "text/plain": [
       "24"
      ]
     },
     "execution_count": 332,
     "metadata": {},
     "output_type": "execute_result"
    }
   ],
   "source": [
    "md.add(12,12)"
   ]
  },
  {
   "cell_type": "code",
   "execution_count": 333,
   "id": "e2cca862",
   "metadata": {},
   "outputs": [
    {
     "data": {
      "text/plain": [
       "['__builtins__',\n",
       " '__cached__',\n",
       " '__doc__',\n",
       " '__file__',\n",
       " '__loader__',\n",
       " '__name__',\n",
       " '__package__',\n",
       " '__spec__',\n",
       " 'add',\n",
       " 'check',\n",
       " 'mul']"
      ]
     },
     "execution_count": 333,
     "metadata": {},
     "output_type": "execute_result"
    }
   ],
   "source": [
    "dir(md)"
   ]
  },
  {
   "cell_type": "code",
   "execution_count": 338,
   "id": "e02c256e",
   "metadata": {},
   "outputs": [
    {
     "name": "stdout",
     "output_type": "stream",
     "text": [
      "24\n",
      "144\n",
      "34 is Even\n"
     ]
    }
   ],
   "source": [
    "from module import check , add , mul\n",
    "print(add(12,12))\n",
    "print(mul(12,12))\n",
    "print(check(34))"
   ]
  },
  {
   "cell_type": "code",
   "execution_count": 339,
   "id": "9113b037",
   "metadata": {},
   "outputs": [
    {
     "name": "stdout",
     "output_type": "stream",
     "text": [
      "24\n",
      "144\n",
      "34 is Even\n"
     ]
    }
   ],
   "source": [
    "from module import *\n",
    "print(add(12,12))\n",
    "print(mul(12,12))\n",
    "print(check(34))"
   ]
  },
  {
   "cell_type": "code",
   "execution_count": null,
   "id": "6a17310e",
   "metadata": {},
   "outputs": [],
   "source": [
    "# import module \n",
    "# import module as mp\n",
    "# from module import method1 , method2 .... \n",
    "# from module import * "
   ]
  }
 ],
 "metadata": {
  "kernelspec": {
   "display_name": "Python 3 (ipykernel)",
   "language": "python",
   "name": "python3"
  },
  "language_info": {
   "codemirror_mode": {
    "name": "ipython",
    "version": 3
   },
   "file_extension": ".py",
   "mimetype": "text/x-python",
   "name": "python",
   "nbconvert_exporter": "python",
   "pygments_lexer": "ipython3",
   "version": "3.10.9"
  }
 },
 "nbformat": 4,
 "nbformat_minor": 5
}
