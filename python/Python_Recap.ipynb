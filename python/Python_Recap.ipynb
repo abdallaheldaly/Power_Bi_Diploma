{
 "cells": [
  {
   "cell_type": "markdown",
   "id": "64ac7405",
   "metadata": {},
   "source": [
    "# Session one "
   ]
  },
  {
   "cell_type": "code",
   "execution_count": 1,
   "id": "77a422d6",
   "metadata": {},
   "outputs": [],
   "source": [
    "x = 10 \n",
    "y = -20 "
   ]
  },
  {
   "cell_type": "code",
   "execution_count": 2,
   "id": "788eceff",
   "metadata": {},
   "outputs": [
    {
     "data": {
      "text/plain": [
       "int"
      ]
     },
     "execution_count": 2,
     "metadata": {},
     "output_type": "execute_result"
    }
   ],
   "source": [
    "type(x)"
   ]
  },
  {
   "cell_type": "code",
   "execution_count": 3,
   "id": "c654875f",
   "metadata": {},
   "outputs": [],
   "source": [
    "x = 10.0 \n",
    "y = 20.5 "
   ]
  },
  {
   "cell_type": "code",
   "execution_count": 4,
   "id": "4944a354",
   "metadata": {},
   "outputs": [
    {
     "data": {
      "text/plain": [
       "float"
      ]
     },
     "execution_count": 4,
     "metadata": {},
     "output_type": "execute_result"
    }
   ],
   "source": [
    "type(x)"
   ]
  },
  {
   "cell_type": "code",
   "execution_count": 6,
   "id": "f112b46d",
   "metadata": {},
   "outputs": [
    {
     "name": "stdout",
     "output_type": "stream",
     "text": [
      "x\n",
      "10.0\n"
     ]
    }
   ],
   "source": [
    "print(\"x\")\n",
    "print(x)"
   ]
  },
  {
   "cell_type": "code",
   "execution_count": 9,
   "id": "d38c8e6e",
   "metadata": {},
   "outputs": [],
   "source": [
    "x = True    # 1 \n",
    "y = False   # 0 "
   ]
  },
  {
   "cell_type": "code",
   "execution_count": 10,
   "id": "ebf6d202",
   "metadata": {},
   "outputs": [
    {
     "data": {
      "text/plain": [
       "bool"
      ]
     },
     "execution_count": 10,
     "metadata": {},
     "output_type": "execute_result"
    }
   ],
   "source": [
    "type(x)"
   ]
  },
  {
   "cell_type": "code",
   "execution_count": 11,
   "id": "17eedb31",
   "metadata": {},
   "outputs": [],
   "source": [
    "x = 'amit'\n",
    "y = \"CREATIVA\""
   ]
  },
  {
   "cell_type": "code",
   "execution_count": 12,
   "id": "2dd04958",
   "metadata": {},
   "outputs": [
    {
     "data": {
      "text/plain": [
       "str"
      ]
     },
     "execution_count": 12,
     "metadata": {},
     "output_type": "execute_result"
    }
   ],
   "source": [
    "type(x)"
   ]
  },
  {
   "cell_type": "code",
   "execution_count": 13,
   "id": "3706ae26",
   "metadata": {},
   "outputs": [
    {
     "data": {
      "text/plain": [
       "'amit'"
      ]
     },
     "execution_count": 13,
     "metadata": {},
     "output_type": "execute_result"
    }
   ],
   "source": [
    "x"
   ]
  },
  {
   "cell_type": "code",
   "execution_count": 14,
   "id": "d37cb6ca",
   "metadata": {},
   "outputs": [
    {
     "data": {
      "text/plain": [
       "'a'"
      ]
     },
     "execution_count": 14,
     "metadata": {},
     "output_type": "execute_result"
    }
   ],
   "source": [
    "x[0]"
   ]
  },
  {
   "cell_type": "code",
   "execution_count": 15,
   "id": "d3446de9",
   "metadata": {},
   "outputs": [
    {
     "data": {
      "text/plain": [
       "'t'"
      ]
     },
     "execution_count": 15,
     "metadata": {},
     "output_type": "execute_result"
    }
   ],
   "source": [
    "x[-1]"
   ]
  },
  {
   "cell_type": "code",
   "execution_count": 17,
   "id": "e7b25d85",
   "metadata": {},
   "outputs": [
    {
     "data": {
      "text/plain": [
       "'it'"
      ]
     },
     "execution_count": 17,
     "metadata": {},
     "output_type": "execute_result"
    }
   ],
   "source": [
    "# x[start = 0 : end  : step = 1 ]\n",
    "x[2:]"
   ]
  },
  {
   "cell_type": "code",
   "execution_count": 18,
   "id": "96c33375",
   "metadata": {},
   "outputs": [],
   "source": [
    "x = \"amit learning\""
   ]
  },
  {
   "cell_type": "code",
   "execution_count": 19,
   "id": "c764eded",
   "metadata": {},
   "outputs": [
    {
     "data": {
      "text/plain": [
       "'amit learning'"
      ]
     },
     "execution_count": 19,
     "metadata": {},
     "output_type": "execute_result"
    }
   ],
   "source": [
    "x[::]"
   ]
  },
  {
   "cell_type": "code",
   "execution_count": 20,
   "id": "34b55f47",
   "metadata": {},
   "outputs": [
    {
     "data": {
      "text/plain": [
       "'gninrael tima'"
      ]
     },
     "execution_count": 20,
     "metadata": {},
     "output_type": "execute_result"
    }
   ],
   "source": [
    "# gninrael tima\n",
    "x[ : : -1]"
   ]
  },
  {
   "cell_type": "code",
   "execution_count": 21,
   "id": "d7d7e9b6",
   "metadata": {},
   "outputs": [
    {
     "data": {
      "text/plain": [
       "'amit learning'"
      ]
     },
     "execution_count": 21,
     "metadata": {},
     "output_type": "execute_result"
    }
   ],
   "source": [
    "x"
   ]
  },
  {
   "cell_type": "code",
   "execution_count": 23,
   "id": "082efd65",
   "metadata": {},
   "outputs": [],
   "source": [
    "x = x.upper()"
   ]
  },
  {
   "cell_type": "code",
   "execution_count": 24,
   "id": "b4e6a831",
   "metadata": {},
   "outputs": [
    {
     "data": {
      "text/plain": [
       "'AMIT LEARNING'"
      ]
     },
     "execution_count": 24,
     "metadata": {},
     "output_type": "execute_result"
    }
   ],
   "source": [
    "x"
   ]
  },
  {
   "cell_type": "code",
   "execution_count": 27,
   "id": "4aaa2ab4",
   "metadata": {},
   "outputs": [],
   "source": [
    "x = x.lower()"
   ]
  },
  {
   "cell_type": "code",
   "execution_count": 28,
   "id": "68afa48f",
   "metadata": {},
   "outputs": [
    {
     "data": {
      "text/plain": [
       "'amit learning'"
      ]
     },
     "execution_count": 28,
     "metadata": {},
     "output_type": "execute_result"
    }
   ],
   "source": [
    "x"
   ]
  },
  {
   "cell_type": "code",
   "execution_count": 29,
   "id": "e7e5993e",
   "metadata": {},
   "outputs": [
    {
     "data": {
      "text/plain": [
       "'Amit Learning'"
      ]
     },
     "execution_count": 29,
     "metadata": {},
     "output_type": "execute_result"
    }
   ],
   "source": [
    "x.title()"
   ]
  },
  {
   "cell_type": "code",
   "execution_count": 30,
   "id": "ffbd36e1",
   "metadata": {},
   "outputs": [
    {
     "data": {
      "text/plain": [
       "'amit learning'"
      ]
     },
     "execution_count": 30,
     "metadata": {},
     "output_type": "execute_result"
    }
   ],
   "source": [
    "x"
   ]
  },
  {
   "cell_type": "code",
   "execution_count": 31,
   "id": "85ba2fb3",
   "metadata": {},
   "outputs": [
    {
     "data": {
      "text/plain": [
       "'Amit learning'"
      ]
     },
     "execution_count": 31,
     "metadata": {},
     "output_type": "execute_result"
    }
   ],
   "source": [
    "x.capitalize()"
   ]
  },
  {
   "cell_type": "code",
   "execution_count": 34,
   "id": "62be1869",
   "metadata": {},
   "outputs": [],
   "source": [
    "# x[0] = \"A\""
   ]
  },
  {
   "cell_type": "code",
   "execution_count": 35,
   "id": "8d7f2690",
   "metadata": {},
   "outputs": [
    {
     "data": {
      "text/plain": [
       "'Amit leArning'"
      ]
     },
     "execution_count": 35,
     "metadata": {},
     "output_type": "execute_result"
    }
   ],
   "source": [
    "x.replace(\"a\" , \"A\")"
   ]
  },
  {
   "cell_type": "code",
   "execution_count": 36,
   "id": "50eec018",
   "metadata": {},
   "outputs": [
    {
     "data": {
      "text/plain": [
       "'amit learning'"
      ]
     },
     "execution_count": 36,
     "metadata": {},
     "output_type": "execute_result"
    }
   ],
   "source": [
    "x"
   ]
  },
  {
   "cell_type": "code",
   "execution_count": 38,
   "id": "071371e5",
   "metadata": {},
   "outputs": [],
   "source": [
    "x = x.replace(\" \" , \"_\")"
   ]
  },
  {
   "cell_type": "code",
   "execution_count": 39,
   "id": "fd8f6f25",
   "metadata": {},
   "outputs": [
    {
     "data": {
      "text/plain": [
       "'amit_learning'"
      ]
     },
     "execution_count": 39,
     "metadata": {},
     "output_type": "execute_result"
    }
   ],
   "source": [
    "x"
   ]
  },
  {
   "cell_type": "code",
   "execution_count": 43,
   "id": "da4c8493",
   "metadata": {},
   "outputs": [
    {
     "name": "stdout",
     "output_type": "stream",
     "text": [
      "Enter your name: Ahmed\n"
     ]
    }
   ],
   "source": [
    "name = input(\"Enter your name: \")"
   ]
  },
  {
   "cell_type": "code",
   "execution_count": 46,
   "id": "33f8cbd0",
   "metadata": {},
   "outputs": [
    {
     "name": "stdout",
     "output_type": "stream",
     "text": [
      "Enter your age: 30\n"
     ]
    }
   ],
   "source": [
    "age = int(input(\"Enter your age: \"))"
   ]
  },
  {
   "cell_type": "code",
   "execution_count": 48,
   "id": "58295eb1",
   "metadata": {},
   "outputs": [
    {
     "data": {
      "text/plain": [
       "int"
      ]
     },
     "execution_count": 48,
     "metadata": {},
     "output_type": "execute_result"
    }
   ],
   "source": [
    "type(age)"
   ]
  },
  {
   "cell_type": "code",
   "execution_count": 51,
   "id": "0fa11f3f",
   "metadata": {},
   "outputs": [
    {
     "name": "stdout",
     "output_type": "stream",
     "text": [
      "Your name is Ahmed and your age is 30\n"
     ]
    }
   ],
   "source": [
    "print(\"Your name is \"+ name +  \" and your age is \"+ str(age) )"
   ]
  },
  {
   "cell_type": "code",
   "execution_count": 52,
   "id": "1d7e4f72",
   "metadata": {},
   "outputs": [
    {
     "name": "stdout",
     "output_type": "stream",
     "text": [
      "Your name is  Ahmed  and your age is  30\n"
     ]
    }
   ],
   "source": [
    "print(\"Your name is \", name ,  \" and your age is \", age )"
   ]
  },
  {
   "cell_type": "code",
   "execution_count": 53,
   "id": "f97a79b5",
   "metadata": {},
   "outputs": [
    {
     "name": "stdout",
     "output_type": "stream",
     "text": [
      "your name is Ahmed and your age is 30\n"
     ]
    }
   ],
   "source": [
    "print(\"your name is {} and your age is {}\".format(name , age))"
   ]
  },
  {
   "cell_type": "code",
   "execution_count": 55,
   "id": "db57d824",
   "metadata": {},
   "outputs": [
    {
     "name": "stdout",
     "output_type": "stream",
     "text": [
      "your name is Ahmed and your age is 30\n"
     ]
    }
   ],
   "source": [
    "print(f\"your name is {name} and your age is {age}\")"
   ]
  },
  {
   "cell_type": "markdown",
   "id": "d2adaa0d",
   "metadata": {},
   "source": [
    "# Session Two "
   ]
  },
  {
   "cell_type": "code",
   "execution_count": 56,
   "id": "a9688a86",
   "metadata": {},
   "outputs": [
    {
     "data": {
      "text/plain": [
       "20"
      ]
     },
     "execution_count": 56,
     "metadata": {},
     "output_type": "execute_result"
    }
   ],
   "source": [
    "10 + 10 "
   ]
  },
  {
   "cell_type": "code",
   "execution_count": 57,
   "id": "92551550",
   "metadata": {},
   "outputs": [
    {
     "data": {
      "text/plain": [
       "0"
      ]
     },
     "execution_count": 57,
     "metadata": {},
     "output_type": "execute_result"
    }
   ],
   "source": [
    "12-12"
   ]
  },
  {
   "cell_type": "code",
   "execution_count": 58,
   "id": "9090a844",
   "metadata": {},
   "outputs": [
    {
     "data": {
      "text/plain": [
       "100"
      ]
     },
     "execution_count": 58,
     "metadata": {},
     "output_type": "execute_result"
    }
   ],
   "source": [
    "10 * 10"
   ]
  },
  {
   "cell_type": "code",
   "execution_count": 59,
   "id": "4a014c67",
   "metadata": {},
   "outputs": [
    {
     "data": {
      "text/plain": [
       "3.3333333333333335"
      ]
     },
     "execution_count": 59,
     "metadata": {},
     "output_type": "execute_result"
    }
   ],
   "source": [
    "10 / 3 "
   ]
  },
  {
   "cell_type": "code",
   "execution_count": 60,
   "id": "0d2f7af1",
   "metadata": {},
   "outputs": [
    {
     "data": {
      "text/plain": [
       "3"
      ]
     },
     "execution_count": 60,
     "metadata": {},
     "output_type": "execute_result"
    }
   ],
   "source": [
    "10 // 3 "
   ]
  },
  {
   "cell_type": "code",
   "execution_count": 61,
   "id": "3e08f289",
   "metadata": {},
   "outputs": [
    {
     "data": {
      "text/plain": [
       "0"
      ]
     },
     "execution_count": 61,
     "metadata": {},
     "output_type": "execute_result"
    }
   ],
   "source": [
    "10 % 2 "
   ]
  },
  {
   "cell_type": "code",
   "execution_count": 62,
   "id": "c245368e",
   "metadata": {},
   "outputs": [
    {
     "data": {
      "text/plain": [
       "1"
      ]
     },
     "execution_count": 62,
     "metadata": {},
     "output_type": "execute_result"
    }
   ],
   "source": [
    "10 % 3 "
   ]
  },
  {
   "cell_type": "code",
   "execution_count": 63,
   "id": "43705413",
   "metadata": {},
   "outputs": [
    {
     "data": {
      "text/plain": [
       "9"
      ]
     },
     "execution_count": 63,
     "metadata": {},
     "output_type": "execute_result"
    }
   ],
   "source": [
    "pow(3 , 2 )"
   ]
  },
  {
   "cell_type": "code",
   "execution_count": 64,
   "id": "4c9b6c40",
   "metadata": {},
   "outputs": [
    {
     "data": {
      "text/plain": [
       "9"
      ]
     },
     "execution_count": 64,
     "metadata": {},
     "output_type": "execute_result"
    }
   ],
   "source": [
    "3 ** 2 "
   ]
  },
  {
   "cell_type": "code",
   "execution_count": 65,
   "id": "839e61a8",
   "metadata": {},
   "outputs": [
    {
     "data": {
      "text/plain": [
       "9"
      ]
     },
     "execution_count": 65,
     "metadata": {},
     "output_type": "execute_result"
    }
   ],
   "source": [
    "3 * 3 "
   ]
  },
  {
   "cell_type": "code",
   "execution_count": 66,
   "id": "51b24f6b",
   "metadata": {},
   "outputs": [
    {
     "data": {
      "text/plain": [
       "False"
      ]
     },
     "execution_count": 66,
     "metadata": {},
     "output_type": "execute_result"
    }
   ],
   "source": [
    "10 > 10 "
   ]
  },
  {
   "cell_type": "code",
   "execution_count": 67,
   "id": "3050ed43",
   "metadata": {},
   "outputs": [
    {
     "data": {
      "text/plain": [
       "True"
      ]
     },
     "execution_count": 67,
     "metadata": {},
     "output_type": "execute_result"
    }
   ],
   "source": [
    "10 == 10 "
   ]
  },
  {
   "cell_type": "code",
   "execution_count": 68,
   "id": "3fc9d011",
   "metadata": {},
   "outputs": [
    {
     "data": {
      "text/plain": [
       "False"
      ]
     },
     "execution_count": 68,
     "metadata": {},
     "output_type": "execute_result"
    }
   ],
   "source": [
    "10 < 10 "
   ]
  },
  {
   "cell_type": "code",
   "execution_count": 69,
   "id": "70fd3208",
   "metadata": {},
   "outputs": [
    {
     "data": {
      "text/plain": [
       "True"
      ]
     },
     "execution_count": 69,
     "metadata": {},
     "output_type": "execute_result"
    }
   ],
   "source": [
    "10 >= 10 "
   ]
  },
  {
   "cell_type": "code",
   "execution_count": 70,
   "id": "26f2c888",
   "metadata": {},
   "outputs": [
    {
     "data": {
      "text/plain": [
       "True"
      ]
     },
     "execution_count": 70,
     "metadata": {},
     "output_type": "execute_result"
    }
   ],
   "source": [
    "10 <= 10 "
   ]
  },
  {
   "cell_type": "code",
   "execution_count": 71,
   "id": "f6f83896",
   "metadata": {},
   "outputs": [
    {
     "data": {
      "text/plain": [
       "True"
      ]
     },
     "execution_count": 71,
     "metadata": {},
     "output_type": "execute_result"
    }
   ],
   "source": [
    "10 == 10 and 10 > 9 "
   ]
  },
  {
   "cell_type": "code",
   "execution_count": 72,
   "id": "ad8830fe",
   "metadata": {},
   "outputs": [
    {
     "data": {
      "text/plain": [
       "False"
      ]
     },
     "execution_count": 72,
     "metadata": {},
     "output_type": "execute_result"
    }
   ],
   "source": [
    "10 == 10 and 10 < 9"
   ]
  },
  {
   "cell_type": "code",
   "execution_count": 73,
   "id": "73a1b85c",
   "metadata": {},
   "outputs": [
    {
     "data": {
      "text/plain": [
       "True"
      ]
     },
     "execution_count": 73,
     "metadata": {},
     "output_type": "execute_result"
    }
   ],
   "source": [
    "True and True "
   ]
  },
  {
   "cell_type": "code",
   "execution_count": 74,
   "id": "a84cf4f7",
   "metadata": {},
   "outputs": [
    {
     "data": {
      "text/plain": [
       "False"
      ]
     },
     "execution_count": 74,
     "metadata": {},
     "output_type": "execute_result"
    }
   ],
   "source": [
    "True and False"
   ]
  },
  {
   "cell_type": "code",
   "execution_count": 75,
   "id": "4bb9feef",
   "metadata": {},
   "outputs": [
    {
     "data": {
      "text/plain": [
       "False"
      ]
     },
     "execution_count": 75,
     "metadata": {},
     "output_type": "execute_result"
    }
   ],
   "source": [
    "False and False"
   ]
  },
  {
   "cell_type": "code",
   "execution_count": 77,
   "id": "c1460a9e",
   "metadata": {},
   "outputs": [
    {
     "data": {
      "text/plain": [
       "True"
      ]
     },
     "execution_count": 77,
     "metadata": {},
     "output_type": "execute_result"
    }
   ],
   "source": [
    "10 == 10 or 10 > 9 "
   ]
  },
  {
   "cell_type": "code",
   "execution_count": 78,
   "id": "955725ad",
   "metadata": {},
   "outputs": [
    {
     "data": {
      "text/plain": [
       "True"
      ]
     },
     "execution_count": 78,
     "metadata": {},
     "output_type": "execute_result"
    }
   ],
   "source": [
    "10 == 10 or 10 < 9 "
   ]
  },
  {
   "cell_type": "code",
   "execution_count": 79,
   "id": "0bc1a0ef",
   "metadata": {},
   "outputs": [
    {
     "data": {
      "text/plain": [
       "True"
      ]
     },
     "execution_count": 79,
     "metadata": {},
     "output_type": "execute_result"
    }
   ],
   "source": [
    "True or True"
   ]
  },
  {
   "cell_type": "code",
   "execution_count": 80,
   "id": "63acd1c4",
   "metadata": {},
   "outputs": [
    {
     "data": {
      "text/plain": [
       "True"
      ]
     },
     "execution_count": 80,
     "metadata": {},
     "output_type": "execute_result"
    }
   ],
   "source": [
    "True or False"
   ]
  },
  {
   "cell_type": "code",
   "execution_count": 81,
   "id": "b8511f37",
   "metadata": {},
   "outputs": [
    {
     "data": {
      "text/plain": [
       "False"
      ]
     },
     "execution_count": 81,
     "metadata": {},
     "output_type": "execute_result"
    }
   ],
   "source": [
    "False or False"
   ]
  },
  {
   "cell_type": "code",
   "execution_count": 84,
   "id": "e48a8ae9",
   "metadata": {},
   "outputs": [
    {
     "data": {
      "text/plain": [
       "False"
      ]
     },
     "execution_count": 84,
     "metadata": {},
     "output_type": "execute_result"
    }
   ],
   "source": [
    "not 10 == 10 "
   ]
  },
  {
   "cell_type": "code",
   "execution_count": 85,
   "id": "a47df762",
   "metadata": {},
   "outputs": [],
   "source": [
    "x = 10 "
   ]
  },
  {
   "cell_type": "code",
   "execution_count": 86,
   "id": "d3ff0dcf",
   "metadata": {},
   "outputs": [],
   "source": [
    "x = x + 1 "
   ]
  },
  {
   "cell_type": "code",
   "execution_count": 87,
   "id": "d84e19cc",
   "metadata": {},
   "outputs": [
    {
     "data": {
      "text/plain": [
       "11"
      ]
     },
     "execution_count": 87,
     "metadata": {},
     "output_type": "execute_result"
    }
   ],
   "source": [
    "x"
   ]
  },
  {
   "cell_type": "code",
   "execution_count": 88,
   "id": "c074ea64",
   "metadata": {},
   "outputs": [],
   "source": [
    "x = 10 "
   ]
  },
  {
   "cell_type": "code",
   "execution_count": 89,
   "id": "6a089f4a",
   "metadata": {},
   "outputs": [],
   "source": [
    "x += 1 "
   ]
  },
  {
   "cell_type": "code",
   "execution_count": 90,
   "id": "750b3e61",
   "metadata": {},
   "outputs": [
    {
     "data": {
      "text/plain": [
       "11"
      ]
     },
     "execution_count": 90,
     "metadata": {},
     "output_type": "execute_result"
    }
   ],
   "source": [
    "x"
   ]
  },
  {
   "cell_type": "code",
   "execution_count": 91,
   "id": "af6ba1b6",
   "metadata": {},
   "outputs": [],
   "source": [
    "# += \n",
    "# -=\n",
    "# *= \n",
    "# /="
   ]
  },
  {
   "cell_type": "code",
   "execution_count": 92,
   "id": "af6cf8b6",
   "metadata": {},
   "outputs": [],
   "source": [
    "# if condition :\n",
    "#     statements\n",
    "#     ....\n",
    "#     .....\n",
    "#     .\n",
    "# else:\n",
    "#     statements\n",
    "#     ....\n",
    "#     .....\n",
    "#     .\n",
    "    "
   ]
  },
  {
   "cell_type": "code",
   "execution_count": 94,
   "id": "a0088cb3",
   "metadata": {},
   "outputs": [
    {
     "name": "stdout",
     "output_type": "stream",
     "text": [
      "Equal\n"
     ]
    }
   ],
   "source": [
    "if 10 == 11 :   # False\n",
    "    print(\"not equal\")\n",
    "elif 10 == 10 : # True \n",
    "    print(\"Equal\")\n",
    "else:\n",
    "    print(\"Else\")"
   ]
  },
  {
   "cell_type": "code",
   "execution_count": 99,
   "id": "8e4d2a7e",
   "metadata": {},
   "outputs": [
    {
     "name": "stdout",
     "output_type": "stream",
     "text": [
      "Enter your grade: 89\n",
      "VG\n"
     ]
    }
   ],
   "source": [
    "grade = int(input(\"Enter your grade: \"))\n",
    "if grade >= 90 :\n",
    "    print(\"EX\")\n",
    "elif grade >= 80 :\n",
    "    print(\"VG\")\n",
    "elif grade >= 70 :\n",
    "    print(\"G\")\n",
    "else:\n",
    "    print(\"F\")"
   ]
  },
  {
   "cell_type": "code",
   "execution_count": 106,
   "id": "5fcf2349",
   "metadata": {},
   "outputs": [
    {
     "name": "stdout",
     "output_type": "stream",
     "text": [
      "Enter your number: 12\n",
      "12 is Even\n"
     ]
    }
   ],
   "source": [
    "num = int(input(\"Enter your number: \"))\n",
    "if num % 2 == 0 :\n",
    "    print(f\"{num} is Even\")\n",
    "else:\n",
    "    print(f\"{num} is Odd\")"
   ]
  },
  {
   "cell_type": "code",
   "execution_count": 107,
   "id": "120cc54c",
   "metadata": {},
   "outputs": [],
   "source": [
    "x = num if num % 2 == 0 else \" \""
   ]
  },
  {
   "cell_type": "code",
   "execution_count": 108,
   "id": "d82f57bc",
   "metadata": {},
   "outputs": [
    {
     "data": {
      "text/plain": [
       "12"
      ]
     },
     "execution_count": 108,
     "metadata": {},
     "output_type": "execute_result"
    }
   ],
   "source": [
    "x"
   ]
  },
  {
   "cell_type": "markdown",
   "id": "b25ac41d",
   "metadata": {},
   "source": [
    "# Session three"
   ]
  },
  {
   "cell_type": "code",
   "execution_count": 141,
   "id": "9ba61e79",
   "metadata": {},
   "outputs": [],
   "source": [
    "# list  >> [ ] list()   # mutable \n",
    "# tuple >> (1,) tuple() # immutable\n",
    "# set   >> {1,2,3}      # mutable\n",
    "# dict  >> {\"key\":value}# mutable "
   ]
  },
  {
   "cell_type": "code",
   "execution_count": 143,
   "id": "30351bb6",
   "metadata": {},
   "outputs": [],
   "source": [
    "lst = [2, 3, 4, 6, 7, 8, 9]"
   ]
  },
  {
   "cell_type": "code",
   "execution_count": 144,
   "id": "f546950f",
   "metadata": {},
   "outputs": [
    {
     "data": {
      "text/plain": [
       "7"
      ]
     },
     "execution_count": 144,
     "metadata": {},
     "output_type": "execute_result"
    }
   ],
   "source": [
    "len(lst)"
   ]
  },
  {
   "cell_type": "code",
   "execution_count": 145,
   "id": "4b9673fb",
   "metadata": {},
   "outputs": [
    {
     "data": {
      "text/plain": [
       "list"
      ]
     },
     "execution_count": 145,
     "metadata": {},
     "output_type": "execute_result"
    }
   ],
   "source": [
    "type(lst)"
   ]
  },
  {
   "cell_type": "code",
   "execution_count": 146,
   "id": "1a3cb1f9",
   "metadata": {},
   "outputs": [],
   "source": [
    "lst.append(10)"
   ]
  },
  {
   "cell_type": "code",
   "execution_count": 147,
   "id": "2eca0f98",
   "metadata": {},
   "outputs": [
    {
     "data": {
      "text/plain": [
       "[2, 3, 4, 6, 7, 8, 9, 10]"
      ]
     },
     "execution_count": 147,
     "metadata": {},
     "output_type": "execute_result"
    }
   ],
   "source": [
    "lst"
   ]
  },
  {
   "cell_type": "code",
   "execution_count": 149,
   "id": "97ebb47e",
   "metadata": {},
   "outputs": [],
   "source": [
    "# lst.insert(index , value)\n",
    "lst.insert(0 , 1 )"
   ]
  },
  {
   "cell_type": "code",
   "execution_count": 150,
   "id": "15a9887a",
   "metadata": {},
   "outputs": [
    {
     "data": {
      "text/plain": [
       "[1, 2, 3, 4, 6, 7, 8, 9, 10]"
      ]
     },
     "execution_count": 150,
     "metadata": {},
     "output_type": "execute_result"
    }
   ],
   "source": [
    "lst"
   ]
  },
  {
   "cell_type": "code",
   "execution_count": 151,
   "id": "c6ab6560",
   "metadata": {},
   "outputs": [],
   "source": [
    "lst.extend([11,12,13])"
   ]
  },
  {
   "cell_type": "code",
   "execution_count": 152,
   "id": "7191c8ae",
   "metadata": {},
   "outputs": [
    {
     "data": {
      "text/plain": [
       "[1, 2, 3, 4, 6, 7, 8, 9, 10, 11, 12, 13]"
      ]
     },
     "execution_count": 152,
     "metadata": {},
     "output_type": "execute_result"
    }
   ],
   "source": [
    "lst"
   ]
  },
  {
   "cell_type": "code",
   "execution_count": 153,
   "id": "08bed88f",
   "metadata": {},
   "outputs": [],
   "source": [
    "# lst.append(value)\n",
    "# lst.insert(index , value)\n",
    "# lst.extend(seq)"
   ]
  },
  {
   "cell_type": "code",
   "execution_count": 154,
   "id": "c0751374",
   "metadata": {},
   "outputs": [],
   "source": [
    "lst.remove(10)"
   ]
  },
  {
   "cell_type": "code",
   "execution_count": 155,
   "id": "d63584cb",
   "metadata": {},
   "outputs": [
    {
     "data": {
      "text/plain": [
       "[1, 2, 3, 4, 6, 7, 8, 9, 11, 12, 13]"
      ]
     },
     "execution_count": 155,
     "metadata": {},
     "output_type": "execute_result"
    }
   ],
   "source": [
    "lst"
   ]
  },
  {
   "cell_type": "code",
   "execution_count": 157,
   "id": "db499558",
   "metadata": {},
   "outputs": [
    {
     "name": "stdout",
     "output_type": "stream",
     "text": [
      "Error: list.remove(x): x not in list\n"
     ]
    }
   ],
   "source": [
    "try:\n",
    "    lst.remove(10)\n",
    "except Exception as e :\n",
    "    print(f\"Error: {e}\")"
   ]
  },
  {
   "cell_type": "code",
   "execution_count": 158,
   "id": "6ee2ad55",
   "metadata": {},
   "outputs": [
    {
     "data": {
      "text/plain": [
       "13"
      ]
     },
     "execution_count": 158,
     "metadata": {},
     "output_type": "execute_result"
    }
   ],
   "source": [
    "# lst.pop(index) default = -1 \n",
    "lst.pop()"
   ]
  },
  {
   "cell_type": "code",
   "execution_count": 159,
   "id": "ab01f9cf",
   "metadata": {},
   "outputs": [
    {
     "data": {
      "text/plain": [
       "[1, 2, 3, 4, 6, 7, 8, 9, 11, 12]"
      ]
     },
     "execution_count": 159,
     "metadata": {},
     "output_type": "execute_result"
    }
   ],
   "source": [
    "lst"
   ]
  },
  {
   "cell_type": "code",
   "execution_count": 160,
   "id": "7e155221",
   "metadata": {},
   "outputs": [
    {
     "data": {
      "text/plain": [
       "1"
      ]
     },
     "execution_count": 160,
     "metadata": {},
     "output_type": "execute_result"
    }
   ],
   "source": [
    "lst.pop(0)"
   ]
  },
  {
   "cell_type": "code",
   "execution_count": 161,
   "id": "e8ae5493",
   "metadata": {},
   "outputs": [
    {
     "data": {
      "text/plain": [
       "[2, 3, 4, 6, 7, 8, 9, 11, 12]"
      ]
     },
     "execution_count": 161,
     "metadata": {},
     "output_type": "execute_result"
    }
   ],
   "source": [
    "lst"
   ]
  },
  {
   "cell_type": "code",
   "execution_count": 163,
   "id": "76b20665",
   "metadata": {},
   "outputs": [],
   "source": [
    "del lst[0]"
   ]
  },
  {
   "cell_type": "code",
   "execution_count": 164,
   "id": "54b1c273",
   "metadata": {},
   "outputs": [
    {
     "data": {
      "text/plain": [
       "[3, 4, 6, 7, 8, 9, 11, 12]"
      ]
     },
     "execution_count": 164,
     "metadata": {},
     "output_type": "execute_result"
    }
   ],
   "source": [
    "lst"
   ]
  },
  {
   "cell_type": "code",
   "execution_count": 165,
   "id": "52ef6f89",
   "metadata": {},
   "outputs": [],
   "source": [
    "# lst.remove(value)\n",
    "# lst.pop(index)\n",
    "# del lst[index]"
   ]
  },
  {
   "cell_type": "code",
   "execution_count": 166,
   "id": "9c8c0653",
   "metadata": {},
   "outputs": [
    {
     "data": {
      "text/plain": [
       "[3, 4, 6, 7, 8, 9, 11, 12]"
      ]
     },
     "execution_count": 166,
     "metadata": {},
     "output_type": "execute_result"
    }
   ],
   "source": [
    "lst"
   ]
  },
  {
   "cell_type": "code",
   "execution_count": 167,
   "id": "d41764b5",
   "metadata": {},
   "outputs": [],
   "source": [
    "lst.reverse()"
   ]
  },
  {
   "cell_type": "code",
   "execution_count": 168,
   "id": "a4d97d03",
   "metadata": {},
   "outputs": [
    {
     "data": {
      "text/plain": [
       "[12, 11, 9, 8, 7, 6, 4, 3]"
      ]
     },
     "execution_count": 168,
     "metadata": {},
     "output_type": "execute_result"
    }
   ],
   "source": [
    "lst"
   ]
  },
  {
   "cell_type": "code",
   "execution_count": 169,
   "id": "b039102b",
   "metadata": {},
   "outputs": [],
   "source": [
    "lst.sort()"
   ]
  },
  {
   "cell_type": "code",
   "execution_count": 170,
   "id": "5ace3508",
   "metadata": {},
   "outputs": [
    {
     "data": {
      "text/plain": [
       "[3, 4, 6, 7, 8, 9, 11, 12]"
      ]
     },
     "execution_count": 170,
     "metadata": {},
     "output_type": "execute_result"
    }
   ],
   "source": [
    "lst"
   ]
  },
  {
   "cell_type": "code",
   "execution_count": 171,
   "id": "839d1638",
   "metadata": {},
   "outputs": [
    {
     "data": {
      "text/plain": [
       "1"
      ]
     },
     "execution_count": 171,
     "metadata": {},
     "output_type": "execute_result"
    }
   ],
   "source": [
    "lst.count(3)"
   ]
  },
  {
   "cell_type": "code",
   "execution_count": 173,
   "id": "df5649f0",
   "metadata": {},
   "outputs": [
    {
     "data": {
      "text/plain": [
       "0"
      ]
     },
     "execution_count": 173,
     "metadata": {},
     "output_type": "execute_result"
    }
   ],
   "source": [
    "lst.count(100)"
   ]
  },
  {
   "cell_type": "code",
   "execution_count": 174,
   "id": "e52300f9",
   "metadata": {},
   "outputs": [],
   "source": [
    "lst2 = lst.copy()"
   ]
  },
  {
   "cell_type": "code",
   "execution_count": 175,
   "id": "41407f27",
   "metadata": {},
   "outputs": [
    {
     "data": {
      "text/plain": [
       "[3, 4, 6, 7, 8, 9, 11, 12]"
      ]
     },
     "execution_count": 175,
     "metadata": {},
     "output_type": "execute_result"
    }
   ],
   "source": [
    "lst2"
   ]
  },
  {
   "cell_type": "code",
   "execution_count": 176,
   "id": "1d69e631",
   "metadata": {},
   "outputs": [],
   "source": [
    "lst2.clear()"
   ]
  },
  {
   "cell_type": "code",
   "execution_count": 177,
   "id": "d2a260bb",
   "metadata": {},
   "outputs": [
    {
     "data": {
      "text/plain": [
       "[]"
      ]
     },
     "execution_count": 177,
     "metadata": {},
     "output_type": "execute_result"
    }
   ],
   "source": [
    "lst2"
   ]
  },
  {
   "cell_type": "code",
   "execution_count": 178,
   "id": "c3ff8a1c",
   "metadata": {},
   "outputs": [
    {
     "data": {
      "text/plain": [
       "[3, 4, 6, 7, 8, 9, 11, 12]"
      ]
     },
     "execution_count": 178,
     "metadata": {},
     "output_type": "execute_result"
    }
   ],
   "source": [
    "lst"
   ]
  },
  {
   "cell_type": "code",
   "execution_count": 179,
   "id": "c0038f35",
   "metadata": {},
   "outputs": [],
   "source": [
    "# tuple\n",
    "t = (1,2,3) # or t = Tuple()"
   ]
  },
  {
   "cell_type": "code",
   "execution_count": 180,
   "id": "e6ce23cc",
   "metadata": {},
   "outputs": [
    {
     "data": {
      "text/plain": [
       "(1, 2, 3)"
      ]
     },
     "execution_count": 180,
     "metadata": {},
     "output_type": "execute_result"
    }
   ],
   "source": [
    "t"
   ]
  },
  {
   "cell_type": "code",
   "execution_count": 181,
   "id": "94e39862",
   "metadata": {},
   "outputs": [
    {
     "data": {
      "text/plain": [
       "3"
      ]
     },
     "execution_count": 181,
     "metadata": {},
     "output_type": "execute_result"
    }
   ],
   "source": [
    "len(t)"
   ]
  },
  {
   "cell_type": "code",
   "execution_count": 182,
   "id": "73763835",
   "metadata": {},
   "outputs": [
    {
     "data": {
      "text/plain": [
       "tuple"
      ]
     },
     "execution_count": 182,
     "metadata": {},
     "output_type": "execute_result"
    }
   ],
   "source": [
    "type(t)"
   ]
  },
  {
   "cell_type": "code",
   "execution_count": 185,
   "id": "0ba24423",
   "metadata": {},
   "outputs": [
    {
     "name": "stdout",
     "output_type": "stream",
     "text": [
      "Erorr: 'tuple' object does not support item assignment\n"
     ]
    }
   ],
   "source": [
    "try :\n",
    "    t[0] = 10\n",
    "except Exception as e :\n",
    "    print(f\"Erorr: {e}\")"
   ]
  },
  {
   "cell_type": "code",
   "execution_count": 186,
   "id": "939ba242",
   "metadata": {},
   "outputs": [
    {
     "data": {
      "text/plain": [
       "(1, 2, 3)"
      ]
     },
     "execution_count": 186,
     "metadata": {},
     "output_type": "execute_result"
    }
   ],
   "source": [
    "t"
   ]
  },
  {
   "cell_type": "code",
   "execution_count": 187,
   "id": "7fa538af",
   "metadata": {},
   "outputs": [],
   "source": [
    "lst = list(t)"
   ]
  },
  {
   "cell_type": "code",
   "execution_count": 188,
   "id": "a288eee3",
   "metadata": {},
   "outputs": [
    {
     "data": {
      "text/plain": [
       "[1, 2, 3]"
      ]
     },
     "execution_count": 188,
     "metadata": {},
     "output_type": "execute_result"
    }
   ],
   "source": [
    "lst"
   ]
  },
  {
   "cell_type": "code",
   "execution_count": 189,
   "id": "4278493f",
   "metadata": {},
   "outputs": [],
   "source": [
    "lst.append(4)"
   ]
  },
  {
   "cell_type": "code",
   "execution_count": 190,
   "id": "6b490595",
   "metadata": {},
   "outputs": [
    {
     "data": {
      "text/plain": [
       "[1, 2, 3, 4]"
      ]
     },
     "execution_count": 190,
     "metadata": {},
     "output_type": "execute_result"
    }
   ],
   "source": [
    "lst"
   ]
  },
  {
   "cell_type": "code",
   "execution_count": 191,
   "id": "357d2f51",
   "metadata": {},
   "outputs": [],
   "source": [
    "t = tuple(lst)"
   ]
  },
  {
   "cell_type": "code",
   "execution_count": 192,
   "id": "1eb097bb",
   "metadata": {},
   "outputs": [
    {
     "data": {
      "text/plain": [
       "(1, 2, 3, 4)"
      ]
     },
     "execution_count": 192,
     "metadata": {},
     "output_type": "execute_result"
    }
   ],
   "source": [
    "t"
   ]
  },
  {
   "cell_type": "code",
   "execution_count": 197,
   "id": "f7146d9a",
   "metadata": {},
   "outputs": [
    {
     "data": {
      "text/plain": [
       "1"
      ]
     },
     "execution_count": 197,
     "metadata": {},
     "output_type": "execute_result"
    }
   ],
   "source": [
    "#t.count(value)\n",
    "t.count(2)"
   ]
  },
  {
   "cell_type": "code",
   "execution_count": 198,
   "id": "46cec900",
   "metadata": {},
   "outputs": [
    {
     "data": {
      "text/plain": [
       "3"
      ]
     },
     "execution_count": 198,
     "metadata": {},
     "output_type": "execute_result"
    }
   ],
   "source": [
    "# t.index(value)\n",
    "t.index(4)"
   ]
  },
  {
   "cell_type": "code",
   "execution_count": 199,
   "id": "4b5d0792",
   "metadata": {},
   "outputs": [
    {
     "data": {
      "text/plain": [
       "1"
      ]
     },
     "execution_count": 199,
     "metadata": {},
     "output_type": "execute_result"
    }
   ],
   "source": [
    "t[0]"
   ]
  },
  {
   "cell_type": "code",
   "execution_count": 210,
   "id": "8ee15dd0",
   "metadata": {},
   "outputs": [],
   "source": [
    "# t[start = 0 : stop : step = 1 ]\n",
    "x  , y , z = t[0:3]"
   ]
  },
  {
   "cell_type": "code",
   "execution_count": 211,
   "id": "d5bdc14d",
   "metadata": {},
   "outputs": [
    {
     "data": {
      "text/plain": [
       "1"
      ]
     },
     "execution_count": 211,
     "metadata": {},
     "output_type": "execute_result"
    }
   ],
   "source": [
    "x"
   ]
  },
  {
   "cell_type": "code",
   "execution_count": 212,
   "id": "56bb4deb",
   "metadata": {},
   "outputs": [
    {
     "data": {
      "text/plain": [
       "2"
      ]
     },
     "execution_count": 212,
     "metadata": {},
     "output_type": "execute_result"
    }
   ],
   "source": [
    "y"
   ]
  },
  {
   "cell_type": "code",
   "execution_count": 213,
   "id": "a5ff25cc",
   "metadata": {},
   "outputs": [
    {
     "data": {
      "text/plain": [
       "3"
      ]
     },
     "execution_count": 213,
     "metadata": {},
     "output_type": "execute_result"
    }
   ],
   "source": [
    "z"
   ]
  },
  {
   "cell_type": "code",
   "execution_count": 214,
   "id": "db71fad9",
   "metadata": {},
   "outputs": [
    {
     "data": {
      "text/plain": [
       "(1, 2, 3, 4, 5)"
      ]
     },
     "execution_count": 214,
     "metadata": {},
     "output_type": "execute_result"
    }
   ],
   "source": [
    "t"
   ]
  },
  {
   "cell_type": "code",
   "execution_count": 216,
   "id": "ca17e86d",
   "metadata": {},
   "outputs": [],
   "source": [
    "t = t + (5,)"
   ]
  },
  {
   "cell_type": "code",
   "execution_count": 217,
   "id": "4087fa31",
   "metadata": {},
   "outputs": [
    {
     "data": {
      "text/plain": [
       "(1, 2, 3, 4, 5, 5)"
      ]
     },
     "execution_count": 217,
     "metadata": {},
     "output_type": "execute_result"
    }
   ],
   "source": [
    "t"
   ]
  },
  {
   "cell_type": "code",
   "execution_count": 218,
   "id": "81e767ac",
   "metadata": {},
   "outputs": [],
   "source": [
    "# set"
   ]
  },
  {
   "cell_type": "code",
   "execution_count": 219,
   "id": "c16edbd3",
   "metadata": {},
   "outputs": [
    {
     "data": {
      "text/plain": [
       "{3, 4}"
      ]
     },
     "execution_count": 219,
     "metadata": {},
     "output_type": "execute_result"
    }
   ],
   "source": [
    "A = {1,2,3,4}\n",
    "B = {3,4,5,6}\n",
    "A.intersection(B)"
   ]
  },
  {
   "cell_type": "code",
   "execution_count": 220,
   "id": "42d69c25",
   "metadata": {},
   "outputs": [
    {
     "data": {
      "text/plain": [
       "{1, 2, 3, 4, 5, 6}"
      ]
     },
     "execution_count": 220,
     "metadata": {},
     "output_type": "execute_result"
    }
   ],
   "source": [
    "A.union(B)"
   ]
  },
  {
   "cell_type": "code",
   "execution_count": 221,
   "id": "889db673",
   "metadata": {},
   "outputs": [],
   "source": [
    "s = {1,2}\n"
   ]
  },
  {
   "cell_type": "code",
   "execution_count": 222,
   "id": "a475d358",
   "metadata": {},
   "outputs": [],
   "source": [
    "s.add(3)"
   ]
  },
  {
   "cell_type": "code",
   "execution_count": 223,
   "id": "c0f4b87c",
   "metadata": {},
   "outputs": [
    {
     "data": {
      "text/plain": [
       "{1, 2, 3}"
      ]
     },
     "execution_count": 223,
     "metadata": {},
     "output_type": "execute_result"
    }
   ],
   "source": [
    "s"
   ]
  },
  {
   "cell_type": "code",
   "execution_count": 224,
   "id": "a0f2f733",
   "metadata": {},
   "outputs": [],
   "source": [
    "s.remove(1)"
   ]
  },
  {
   "cell_type": "code",
   "execution_count": 225,
   "id": "b7515fbf",
   "metadata": {},
   "outputs": [
    {
     "data": {
      "text/plain": [
       "{2, 3}"
      ]
     },
     "execution_count": 225,
     "metadata": {},
     "output_type": "execute_result"
    }
   ],
   "source": [
    "s"
   ]
  },
  {
   "cell_type": "code",
   "execution_count": 226,
   "id": "0f5f6a92",
   "metadata": {},
   "outputs": [
    {
     "data": {
      "text/plain": [
       "{1, 2}"
      ]
     },
     "execution_count": 226,
     "metadata": {},
     "output_type": "execute_result"
    }
   ],
   "source": [
    "A.difference(B)"
   ]
  },
  {
   "cell_type": "code",
   "execution_count": 227,
   "id": "1ea1bb7f",
   "metadata": {},
   "outputs": [
    {
     "data": {
      "text/plain": [
       "{5, 6}"
      ]
     },
     "execution_count": 227,
     "metadata": {},
     "output_type": "execute_result"
    }
   ],
   "source": [
    "B.difference(A)"
   ]
  },
  {
   "cell_type": "code",
   "execution_count": 228,
   "id": "ea68e45c",
   "metadata": {},
   "outputs": [],
   "source": [
    "s.update(A)"
   ]
  },
  {
   "cell_type": "code",
   "execution_count": 229,
   "id": "7ade718a",
   "metadata": {},
   "outputs": [
    {
     "data": {
      "text/plain": [
       "{1, 2, 3, 4}"
      ]
     },
     "execution_count": 229,
     "metadata": {},
     "output_type": "execute_result"
    }
   ],
   "source": [
    "s"
   ]
  },
  {
   "cell_type": "code",
   "execution_count": 230,
   "id": "17dc8af7",
   "metadata": {},
   "outputs": [],
   "source": [
    "# dict"
   ]
  },
  {
   "cell_type": "code",
   "execution_count": 231,
   "id": "98cedc73",
   "metadata": {},
   "outputs": [],
   "source": [
    "d = {\"name\" :\"Ahmed\" , \"age\": 30 }"
   ]
  },
  {
   "cell_type": "code",
   "execution_count": 232,
   "id": "ef2dcda1",
   "metadata": {},
   "outputs": [
    {
     "data": {
      "text/plain": [
       "{'name': 'Ahmed', 'age': 30}"
      ]
     },
     "execution_count": 232,
     "metadata": {},
     "output_type": "execute_result"
    }
   ],
   "source": [
    "d"
   ]
  },
  {
   "cell_type": "code",
   "execution_count": 233,
   "id": "9863d65c",
   "metadata": {},
   "outputs": [
    {
     "data": {
      "text/plain": [
       "'Ahmed'"
      ]
     },
     "execution_count": 233,
     "metadata": {},
     "output_type": "execute_result"
    }
   ],
   "source": [
    "d[\"name\"]"
   ]
  },
  {
   "cell_type": "code",
   "execution_count": 234,
   "id": "ed551166",
   "metadata": {},
   "outputs": [
    {
     "data": {
      "text/plain": [
       "30"
      ]
     },
     "execution_count": 234,
     "metadata": {},
     "output_type": "execute_result"
    }
   ],
   "source": [
    "d[\"age\"]"
   ]
  },
  {
   "cell_type": "code",
   "execution_count": 235,
   "id": "09199df0",
   "metadata": {},
   "outputs": [
    {
     "data": {
      "text/plain": [
       "dict_values(['Ahmed', 30])"
      ]
     },
     "execution_count": 235,
     "metadata": {},
     "output_type": "execute_result"
    }
   ],
   "source": [
    "d.values()"
   ]
  },
  {
   "cell_type": "code",
   "execution_count": 236,
   "id": "30e37709",
   "metadata": {},
   "outputs": [
    {
     "data": {
      "text/plain": [
       "dict_keys(['name', 'age'])"
      ]
     },
     "execution_count": 236,
     "metadata": {},
     "output_type": "execute_result"
    }
   ],
   "source": [
    "d.keys()"
   ]
  },
  {
   "cell_type": "code",
   "execution_count": 237,
   "id": "ed95c889",
   "metadata": {},
   "outputs": [
    {
     "data": {
      "text/plain": [
       "'Ahmed'"
      ]
     },
     "execution_count": 237,
     "metadata": {},
     "output_type": "execute_result"
    }
   ],
   "source": [
    "d.get(\"name\")"
   ]
  },
  {
   "cell_type": "code",
   "execution_count": 238,
   "id": "94c491d2",
   "metadata": {},
   "outputs": [],
   "source": [
    "d2 = {'name': 'Ahmed', 'age': 30 ,\"name\": \"MO\"}"
   ]
  },
  {
   "cell_type": "code",
   "execution_count": 239,
   "id": "a173e16a",
   "metadata": {},
   "outputs": [
    {
     "data": {
      "text/plain": [
       "{'name': 'MO', 'age': 30}"
      ]
     },
     "execution_count": 239,
     "metadata": {},
     "output_type": "execute_result"
    }
   ],
   "source": [
    "d2"
   ]
  },
  {
   "cell_type": "code",
   "execution_count": 240,
   "id": "dc1ce4fe",
   "metadata": {},
   "outputs": [],
   "source": [
    "lst = [2,3,4,3,2,4,5,67,78,89]"
   ]
  },
  {
   "cell_type": "code",
   "execution_count": 241,
   "id": "c1933ff1",
   "metadata": {},
   "outputs": [
    {
     "name": "stdout",
     "output_type": "stream",
     "text": [
      "2\n",
      "3\n",
      "4\n",
      "3\n",
      "2\n",
      "4\n",
      "5\n",
      "67\n",
      "78\n",
      "89\n"
     ]
    }
   ],
   "source": [
    "for i in lst:\n",
    "    print(i)"
   ]
  },
  {
   "cell_type": "code",
   "execution_count": 245,
   "id": "750c2329",
   "metadata": {},
   "outputs": [
    {
     "data": {
      "text/plain": [
       "[1, 2, 3, 4, 3, 4, 5, 6, 7]"
      ]
     },
     "execution_count": 245,
     "metadata": {},
     "output_type": "execute_result"
    }
   ],
   "source": [
    "lst = [1,2,3,4,3,4,5,6,7]\n",
    "lst"
   ]
  },
  {
   "cell_type": "code",
   "execution_count": 246,
   "id": "62924094",
   "metadata": {},
   "outputs": [
    {
     "name": "stdout",
     "output_type": "stream",
     "text": [
      "1\n",
      "2\n",
      "3\n"
     ]
    }
   ],
   "source": [
    "for i in lst :\n",
    "    if i == 4 : #  i = 1 False  i = 2  False i = 3 False i = 4 True \n",
    "        break\n",
    "    else:\n",
    "        print(i)"
   ]
  },
  {
   "cell_type": "code",
   "execution_count": 254,
   "id": "70844dc1",
   "metadata": {},
   "outputs": [
    {
     "name": "stdout",
     "output_type": "stream",
     "text": [
      "1\n",
      "2\n",
      "3\n",
      "3\n",
      "5\n",
      "6\n",
      "7\n"
     ]
    }
   ],
   "source": [
    "for i in lst :\n",
    "    if i == 4 : #  i = 1 False  i = 2  False i = 3 False i = 4 True \n",
    "        continue\n",
    "        print(i)\n",
    "    else:\n",
    "        print(i)"
   ]
  },
  {
   "cell_type": "code",
   "execution_count": 253,
   "id": "6e7e0c64",
   "metadata": {},
   "outputs": [
    {
     "name": "stdout",
     "output_type": "stream",
     "text": [
      "1\n",
      "2\n",
      "3\n",
      "4\n",
      "3\n",
      "4\n",
      "5\n",
      "6\n",
      "7\n"
     ]
    }
   ],
   "source": [
    "for i in lst :\n",
    "    if i == 4 : #  i = 1 False  i = 2  False i = 3 False i = 4 True \n",
    "        pass\n",
    "        print(i)\n",
    "    else:\n",
    "        print(i)"
   ]
  },
  {
   "cell_type": "code",
   "execution_count": 251,
   "id": "17d622af",
   "metadata": {},
   "outputs": [],
   "source": [
    "if 4 == 4 :\n",
    "    pass"
   ]
  },
  {
   "cell_type": "code",
   "execution_count": 255,
   "id": "ba0768bf",
   "metadata": {},
   "outputs": [],
   "source": [
    "lst = [1,2,3,4]\n",
    "s = 0 \n",
    "for i in lst :\n",
    "    s = s +  i "
   ]
  },
  {
   "cell_type": "code",
   "execution_count": 256,
   "id": "4d735c7d",
   "metadata": {},
   "outputs": [
    {
     "data": {
      "text/plain": [
       "10"
      ]
     },
     "execution_count": 256,
     "metadata": {},
     "output_type": "execute_result"
    }
   ],
   "source": [
    "s"
   ]
  },
  {
   "cell_type": "code",
   "execution_count": 257,
   "id": "e57bd080",
   "metadata": {},
   "outputs": [
    {
     "data": {
      "text/plain": [
       "10"
      ]
     },
     "execution_count": 257,
     "metadata": {},
     "output_type": "execute_result"
    }
   ],
   "source": [
    "sum(lst)"
   ]
  },
  {
   "cell_type": "code",
   "execution_count": 259,
   "id": "004279c1",
   "metadata": {},
   "outputs": [
    {
     "name": "stdout",
     "output_type": "stream",
     "text": [
      "1 is Odd\n",
      "2 is Even\n",
      "3 is Odd\n",
      "4 is Even\n",
      "5 is Odd\n",
      "6 is Even\n",
      "7 is Odd\n",
      "8 is Even\n",
      "9 is Odd\n",
      "10 is Even\n",
      "11 is Odd\n",
      "12 is Even\n",
      "13 is Odd\n",
      "14 is Even\n",
      "15 is Odd\n",
      "16 is Even\n",
      "17 is Odd\n",
      "18 is Even\n",
      "19 is Odd\n",
      "20 is Even\n"
     ]
    }
   ],
   "source": [
    "for i in range(1 , 21):\n",
    "    if i % 2 == 0 :\n",
    "        print(f\"{i} is Even\")\n",
    "    else:\n",
    "        print(f\"{i} is Odd\")"
   ]
  },
  {
   "cell_type": "code",
   "execution_count": 262,
   "id": "43572dc4",
   "metadata": {},
   "outputs": [
    {
     "name": "stdout",
     "output_type": "stream",
     "text": [
      "2 * 0 = 0\n",
      "2 * 1 = 2\n",
      "2 * 2 = 4\n",
      "2 * 3 = 6\n",
      "2 * 4 = 8\n",
      "2 * 5 = 10\n",
      "2 * 6 = 12\n",
      "2 * 7 = 14\n",
      "2 * 8 = 16\n",
      "2 * 9 = 18\n",
      "2 * 10 = 20\n",
      "2 * 11 = 22\n",
      "2 * 12 = 24\n"
     ]
    }
   ],
   "source": [
    "for i in range(13):\n",
    "    print(f\"2 * {i} = {i * 2}\")"
   ]
  },
  {
   "cell_type": "code",
   "execution_count": 263,
   "id": "74a53aa3",
   "metadata": {},
   "outputs": [
    {
     "data": {
      "text/plain": [
       "[1, 2, 3, 4]"
      ]
     },
     "execution_count": 263,
     "metadata": {},
     "output_type": "execute_result"
    }
   ],
   "source": [
    "lst"
   ]
  },
  {
   "cell_type": "code",
   "execution_count": 264,
   "id": "dbb71229",
   "metadata": {},
   "outputs": [
    {
     "data": {
      "text/plain": [
       "[1, 2, 3, 4, 1, 2, 3, 4]"
      ]
     },
     "execution_count": 264,
     "metadata": {},
     "output_type": "execute_result"
    }
   ],
   "source": [
    "lst * 2 "
   ]
  },
  {
   "cell_type": "code",
   "execution_count": 265,
   "id": "cd30ecc7",
   "metadata": {},
   "outputs": [],
   "source": [
    "lst2  = []\n",
    "for i in lst:\n",
    "    lst2.append(i * 2 )"
   ]
  },
  {
   "cell_type": "code",
   "execution_count": 266,
   "id": "21de766a",
   "metadata": {},
   "outputs": [
    {
     "data": {
      "text/plain": [
       "[2, 4, 6, 8]"
      ]
     },
     "execution_count": 266,
     "metadata": {},
     "output_type": "execute_result"
    }
   ],
   "source": [
    "lst2"
   ]
  },
  {
   "cell_type": "code",
   "execution_count": 267,
   "id": "a1f312d0",
   "metadata": {},
   "outputs": [
    {
     "data": {
      "text/plain": [
       "[2, 4, 6, 8]"
      ]
     },
     "execution_count": 267,
     "metadata": {},
     "output_type": "execute_result"
    }
   ],
   "source": [
    "[i * 2  for i in lst]"
   ]
  },
  {
   "cell_type": "code",
   "execution_count": 268,
   "id": "1a16121c",
   "metadata": {},
   "outputs": [
    {
     "data": {
      "text/plain": [
       "[1, 2, 3, 4]"
      ]
     },
     "execution_count": 268,
     "metadata": {},
     "output_type": "execute_result"
    }
   ],
   "source": [
    "lst"
   ]
  },
  {
   "cell_type": "code",
   "execution_count": 269,
   "id": "f5704bf3",
   "metadata": {},
   "outputs": [
    {
     "name": "stdout",
     "output_type": "stream",
     "text": [
      "[1, 2, 3, 4]\n"
     ]
    }
   ],
   "source": [
    "print(lst)"
   ]
  },
  {
   "cell_type": "code",
   "execution_count": 270,
   "id": "2ad3877f",
   "metadata": {},
   "outputs": [
    {
     "data": {
      "text/plain": [
       "4"
      ]
     },
     "execution_count": 270,
     "metadata": {},
     "output_type": "execute_result"
    }
   ],
   "source": [
    "len(lst)"
   ]
  },
  {
   "cell_type": "code",
   "execution_count": 271,
   "id": "c4310fa6",
   "metadata": {},
   "outputs": [
    {
     "data": {
      "text/plain": [
       "list"
      ]
     },
     "execution_count": 271,
     "metadata": {},
     "output_type": "execute_result"
    }
   ],
   "source": [
    "type(lst)"
   ]
  },
  {
   "cell_type": "code",
   "execution_count": 272,
   "id": "ed22e755",
   "metadata": {},
   "outputs": [
    {
     "data": {
      "text/plain": [
       "4"
      ]
     },
     "execution_count": 272,
     "metadata": {},
     "output_type": "execute_result"
    }
   ],
   "source": [
    "max(lst)"
   ]
  },
  {
   "cell_type": "code",
   "execution_count": 273,
   "id": "9d1769c4",
   "metadata": {},
   "outputs": [
    {
     "data": {
      "text/plain": [
       "1"
      ]
     },
     "execution_count": 273,
     "metadata": {},
     "output_type": "execute_result"
    }
   ],
   "source": [
    "min(lst)"
   ]
  },
  {
   "cell_type": "code",
   "execution_count": 275,
   "id": "087424dc",
   "metadata": {},
   "outputs": [],
   "source": [
    "# add(12,12)"
   ]
  },
  {
   "cell_type": "code",
   "execution_count": 276,
   "id": "e799b9bb",
   "metadata": {},
   "outputs": [],
   "source": [
    "def add(n1 , n2 ):\n",
    "    return n1 + n2 "
   ]
  },
  {
   "cell_type": "code",
   "execution_count": 277,
   "id": "94f5f6d1",
   "metadata": {},
   "outputs": [
    {
     "data": {
      "text/plain": [
       "24"
      ]
     },
     "execution_count": 277,
     "metadata": {},
     "output_type": "execute_result"
    }
   ],
   "source": [
    "add(12,12)"
   ]
  },
  {
   "cell_type": "code",
   "execution_count": 279,
   "id": "2f6cd286",
   "metadata": {},
   "outputs": [
    {
     "name": "stdout",
     "output_type": "stream",
     "text": [
      "Erorr: add() takes 2 positional arguments but 3 were given\n"
     ]
    }
   ],
   "source": [
    "try:\n",
    "    add(12,12,12)\n",
    "except Exception as e :\n",
    "    print(f\"Erorr: {e}\")"
   ]
  },
  {
   "cell_type": "code",
   "execution_count": 286,
   "id": "2809b782",
   "metadata": {},
   "outputs": [],
   "source": [
    "def add(*n):\n",
    "    s = 0\n",
    "    for i in n :\n",
    "        s += i \n",
    "    return s"
   ]
  },
  {
   "cell_type": "code",
   "execution_count": 289,
   "id": "0f4236e6",
   "metadata": {},
   "outputs": [
    {
     "name": "stdout",
     "output_type": "stream",
     "text": [
      "12\n",
      "24\n",
      "36\n"
     ]
    }
   ],
   "source": [
    "print(add(12))\n",
    "print(add(12,12))\n",
    "print(add(12,12,12))"
   ]
  },
  {
   "cell_type": "code",
   "execution_count": 291,
   "id": "798c76de",
   "metadata": {},
   "outputs": [],
   "source": [
    "add_l = lambda n1 , n2 : n1 + n2  "
   ]
  },
  {
   "cell_type": "code",
   "execution_count": 292,
   "id": "617e2248",
   "metadata": {},
   "outputs": [
    {
     "data": {
      "text/plain": [
       "24"
      ]
     },
     "execution_count": 292,
     "metadata": {},
     "output_type": "execute_result"
    }
   ],
   "source": [
    "add_l(12,12)"
   ]
  },
  {
   "cell_type": "code",
   "execution_count": 308,
   "id": "34ca91ad",
   "metadata": {},
   "outputs": [],
   "source": [
    "def check(num):\n",
    "    if num % 2 == 0 :\n",
    "        return True\n",
    "    else:\n",
    "        return False"
   ]
  },
  {
   "cell_type": "code",
   "execution_count": 309,
   "id": "e53ed692",
   "metadata": {},
   "outputs": [
    {
     "data": {
      "text/plain": [
       "False"
      ]
     },
     "execution_count": 309,
     "metadata": {},
     "output_type": "execute_result"
    }
   ],
   "source": [
    "check(11)"
   ]
  },
  {
   "cell_type": "code",
   "execution_count": 310,
   "id": "1ecefa0f",
   "metadata": {},
   "outputs": [],
   "source": [
    "lst = [1,2,3,4,5,6,7,8]"
   ]
  },
  {
   "cell_type": "code",
   "execution_count": 311,
   "id": "60f30372",
   "metadata": {},
   "outputs": [
    {
     "data": {
      "text/plain": [
       "[2, 4, 6, 8]"
      ]
     },
     "execution_count": 311,
     "metadata": {},
     "output_type": "execute_result"
    }
   ],
   "source": [
    "# list(filter(function , seq))\n",
    "list(filter(check , lst))"
   ]
  },
  {
   "cell_type": "code",
   "execution_count": 312,
   "id": "45790697",
   "metadata": {},
   "outputs": [],
   "source": [
    "def check(num):\n",
    "    if num % 2 == 1 :\n",
    "        return True\n",
    "    else:\n",
    "        return False"
   ]
  },
  {
   "cell_type": "code",
   "execution_count": 313,
   "id": "d87ed9de",
   "metadata": {},
   "outputs": [
    {
     "data": {
      "text/plain": [
       "True"
      ]
     },
     "execution_count": 313,
     "metadata": {},
     "output_type": "execute_result"
    }
   ],
   "source": [
    "check(11)"
   ]
  },
  {
   "cell_type": "code",
   "execution_count": 314,
   "id": "5d2e93fb",
   "metadata": {},
   "outputs": [],
   "source": [
    "lst = [1,2,3,4,5,6,7,8]"
   ]
  },
  {
   "cell_type": "code",
   "execution_count": 315,
   "id": "0f4b970c",
   "metadata": {},
   "outputs": [
    {
     "data": {
      "text/plain": [
       "[1, 3, 5, 7]"
      ]
     },
     "execution_count": 315,
     "metadata": {},
     "output_type": "execute_result"
    }
   ],
   "source": [
    "# list(filter(function , seq))\n",
    "list(filter(check , lst))"
   ]
  },
  {
   "cell_type": "code",
   "execution_count": null,
   "id": "8a0309c5",
   "metadata": {},
   "outputs": [],
   "source": []
  },
  {
   "cell_type": "code",
   "execution_count": 316,
   "id": "cbf80769",
   "metadata": {},
   "outputs": [
    {
     "data": {
      "text/plain": [
       "[2, 4, 6, 8]"
      ]
     },
     "execution_count": 316,
     "metadata": {},
     "output_type": "execute_result"
    }
   ],
   "source": [
    "# EVEN\n",
    "list(filter(lambda num : num % 2 == 0 , lst))"
   ]
  },
  {
   "cell_type": "code",
   "execution_count": 318,
   "id": "a55b5072",
   "metadata": {
    "scrolled": true
   },
   "outputs": [
    {
     "data": {
      "text/plain": [
       "[1, 3, 5, 7]"
      ]
     },
     "execution_count": 318,
     "metadata": {},
     "output_type": "execute_result"
    }
   ],
   "source": [
    "# ODD\n",
    "list(filter(lambda num : num % 2 != 0 , lst))"
   ]
  },
  {
   "cell_type": "code",
   "execution_count": 325,
   "id": "22c65978",
   "metadata": {},
   "outputs": [],
   "source": [
    "def check(num):\n",
    "    if num % 2 == 0 :\n",
    "        return \"EVEN\"\n",
    "    else:\n",
    "        return \"ODD\""
   ]
  },
  {
   "cell_type": "code",
   "execution_count": 326,
   "id": "f926f094",
   "metadata": {},
   "outputs": [
    {
     "data": {
      "text/plain": [
       "['ODD', 'EVEN', 'ODD', 'EVEN', 'ODD', 'EVEN', 'ODD', 'EVEN']"
      ]
     },
     "execution_count": 326,
     "metadata": {},
     "output_type": "execute_result"
    }
   ],
   "source": [
    "lst = [1,2,3,4,5,6,7,8]\n",
    "# list(map(function , seq))\n",
    "list(map(check , lst))"
   ]
  },
  {
   "cell_type": "code",
   "execution_count": 323,
   "id": "1411db7e",
   "metadata": {},
   "outputs": [
    {
     "data": {
      "text/plain": [
       "[3, 6, 9, 12, 15, 18, 21, 24]"
      ]
     },
     "execution_count": 323,
     "metadata": {},
     "output_type": "execute_result"
    }
   ],
   "source": [
    "lst = [1,2,3,4,5,6,7,8]\n",
    "[i * 3 for i in lst ]"
   ]
  },
  {
   "cell_type": "code",
   "execution_count": 324,
   "id": "6d653280",
   "metadata": {},
   "outputs": [
    {
     "data": {
      "text/plain": [
       "[3, 6, 9, 12, 15, 18, 21, 24]"
      ]
     },
     "execution_count": 324,
     "metadata": {},
     "output_type": "execute_result"
    }
   ],
   "source": [
    "list(map(lambda num : num * 3  , lst))"
   ]
  },
  {
   "cell_type": "code",
   "execution_count": 327,
   "id": "5c66bee1",
   "metadata": {},
   "outputs": [],
   "source": [
    "def add(n1 , n2 ):\n",
    "    return n1 + n2 "
   ]
  },
  {
   "cell_type": "code",
   "execution_count": 328,
   "id": "2d66c30c",
   "metadata": {},
   "outputs": [
    {
     "data": {
      "text/plain": [
       "24"
      ]
     },
     "execution_count": 328,
     "metadata": {},
     "output_type": "execute_result"
    }
   ],
   "source": [
    "add(12,12)"
   ]
  },
  {
   "cell_type": "code",
   "execution_count": 329,
   "id": "dc4c819d",
   "metadata": {},
   "outputs": [],
   "source": [
    "add = lambda n1 , n2 : n1 + n2 "
   ]
  },
  {
   "cell_type": "code",
   "execution_count": 330,
   "id": "e9b8a0e7",
   "metadata": {},
   "outputs": [
    {
     "data": {
      "text/plain": [
       "14"
      ]
     },
     "execution_count": 330,
     "metadata": {},
     "output_type": "execute_result"
    }
   ],
   "source": [
    "add(12,2)"
   ]
  },
  {
   "cell_type": "code",
   "execution_count": 331,
   "id": "453df84d",
   "metadata": {},
   "outputs": [
    {
     "data": {
      "text/plain": [
       "[1, 2, 3, 4, 5, 6, 7, 8]"
      ]
     },
     "execution_count": 331,
     "metadata": {},
     "output_type": "execute_result"
    }
   ],
   "source": [
    "lst"
   ]
  },
  {
   "cell_type": "code",
   "execution_count": 334,
   "id": "489f3e3b",
   "metadata": {},
   "outputs": [
    {
     "data": {
      "text/plain": [
       "[2, 4, 6, 8]"
      ]
     },
     "execution_count": 334,
     "metadata": {},
     "output_type": "execute_result"
    }
   ],
   "source": [
    "list(filter(lambda x : x % 2 == 0 , lst))"
   ]
  },
  {
   "cell_type": "code",
   "execution_count": 335,
   "id": "5fe5f550",
   "metadata": {},
   "outputs": [],
   "source": [
    "# x = \"@#$%%$#@%&&%$name\"\n",
    "#    \"#$%$^$&AH^%$#^&%MED\"  >> \"AHMED\"\n",
    "# x = \"name\""
   ]
  },
  {
   "cell_type": "code",
   "execution_count": 336,
   "id": "0c43d883",
   "metadata": {},
   "outputs": [],
   "source": [
    "x = \"@#$%%$#@%&&%$name\"\n",
    "ill_char= \"!@#$%^&*()<>?~\""
   ]
  },
  {
   "cell_type": "code",
   "execution_count": 339,
   "id": "b1cebfd7",
   "metadata": {},
   "outputs": [
    {
     "name": "stdout",
     "output_type": "stream",
     "text": [
      "Enter your variable name: #$%$^$&AH^%$#^&%MED\n",
      "AHMED\n"
     ]
    }
   ],
   "source": [
    "x = input(\"Enter your variable name: \")\n",
    "c = \"\"\n",
    "for i in x:\n",
    "    if i in ill_char:\n",
    "        c += \"\"\n",
    "    else:\n",
    "        c += i\n",
    "print(c)"
   ]
  },
  {
   "cell_type": "code",
   "execution_count": 348,
   "id": "0ccced3a",
   "metadata": {},
   "outputs": [
    {
     "data": {
      "text/plain": [
       "'AHMED'"
      ]
     },
     "execution_count": 348,
     "metadata": {},
     "output_type": "execute_result"
    }
   ],
   "source": [
    "\"\".join(i for i in x if i  not in ill_char )"
   ]
  },
  {
   "cell_type": "code",
   "execution_count": 343,
   "id": "18ae77d4",
   "metadata": {},
   "outputs": [],
   "source": [
    "lst = [\"A\" , \"H\" , \"M\" , \"E\" , \"D\"]"
   ]
  },
  {
   "cell_type": "code",
   "execution_count": 344,
   "id": "a0cd5239",
   "metadata": {},
   "outputs": [
    {
     "data": {
      "text/plain": [
       "['A', 'H', 'M', 'E', 'D']"
      ]
     },
     "execution_count": 344,
     "metadata": {},
     "output_type": "execute_result"
    }
   ],
   "source": [
    "lst"
   ]
  },
  {
   "cell_type": "code",
   "execution_count": 346,
   "id": "53cc6d0c",
   "metadata": {},
   "outputs": [
    {
     "data": {
      "text/plain": [
       "'AHMED'"
      ]
     },
     "execution_count": 346,
     "metadata": {},
     "output_type": "execute_result"
    }
   ],
   "source": [
    "\"\".join(lst)"
   ]
  },
  {
   "cell_type": "code",
   "execution_count": 349,
   "id": "20ab20e6",
   "metadata": {},
   "outputs": [],
   "source": [
    "# x = 0 \n",
    "# while condtion :\n",
    "#     statements\n",
    "#     .....\n",
    "#     .....\n",
    "#     .....\n",
    "#     ....\n",
    "    "
   ]
  },
  {
   "cell_type": "code",
   "execution_count": 350,
   "id": "849eca43",
   "metadata": {
    "scrolled": true
   },
   "outputs": [
    {
     "name": "stdout",
     "output_type": "stream",
     "text": [
      "0\n",
      "1\n",
      "2\n",
      "3\n",
      "4\n",
      "5\n",
      "6\n",
      "7\n",
      "8\n",
      "9\n"
     ]
    }
   ],
   "source": [
    "for  i in range(10):\n",
    "    print(i)"
   ]
  },
  {
   "cell_type": "code",
   "execution_count": 352,
   "id": "9699a374",
   "metadata": {},
   "outputs": [
    {
     "name": "stdout",
     "output_type": "stream",
     "text": [
      "0\n",
      "1\n",
      "2\n",
      "3\n",
      "4\n",
      "5\n",
      "6\n",
      "7\n",
      "8\n",
      "9\n"
     ]
    }
   ],
   "source": [
    "x = 0 \n",
    "while x <= 9:\n",
    "    print(x)\n",
    "    x = x + 1 "
   ]
  },
  {
   "cell_type": "code",
   "execution_count": 353,
   "id": "25cc2aed",
   "metadata": {},
   "outputs": [
    {
     "data": {
      "text/plain": [
       "['A', 'H', 'M', 'E', 'D']"
      ]
     },
     "execution_count": 353,
     "metadata": {},
     "output_type": "execute_result"
    }
   ],
   "source": [
    "lst"
   ]
  },
  {
   "cell_type": "code",
   "execution_count": 354,
   "id": "eababb47",
   "metadata": {},
   "outputs": [
    {
     "name": "stdout",
     "output_type": "stream",
     "text": [
      "A\n",
      "H\n",
      "M\n",
      "E\n",
      "D\n"
     ]
    }
   ],
   "source": [
    "for i in lst:\n",
    "    print(i)"
   ]
  },
  {
   "cell_type": "code",
   "execution_count": 358,
   "id": "19878370",
   "metadata": {},
   "outputs": [
    {
     "name": "stdout",
     "output_type": "stream",
     "text": [
      "A\n",
      "H\n",
      "M\n",
      "E\n",
      "D\n"
     ]
    }
   ],
   "source": [
    "x = 0 \n",
    "while x < len(lst):\n",
    "    print(lst[x])\n",
    "    x = x + 1 "
   ]
  },
  {
   "cell_type": "code",
   "execution_count": 357,
   "id": "d831963a",
   "metadata": {},
   "outputs": [
    {
     "data": {
      "text/plain": [
       "5"
      ]
     },
     "execution_count": 357,
     "metadata": {},
     "output_type": "execute_result"
    }
   ],
   "source": [
    "len(lst)"
   ]
  },
  {
   "cell_type": "code",
   "execution_count": 360,
   "id": "c1acd233",
   "metadata": {},
   "outputs": [
    {
     "name": "stdout",
     "output_type": "stream",
     "text": [
      "option 0  \n",
      "option 1 \n",
      "option 2 >> Cancel \n",
      "Enter your option: 0\n",
      "your option is Zero\n",
      "option 0  \n",
      "option 1 \n",
      "option 2 >> Cancel \n",
      "Enter your option: 1\n",
      "your option is One\n",
      "option 0  \n",
      "option 1 \n",
      "option 2 >> Cancel \n",
      "Enter your option: 2\n",
      "your option is Two\n"
     ]
    }
   ],
   "source": [
    "while True :\n",
    "    print(\"option 0  \")\n",
    "    print(\"option 1 \")\n",
    "    print(\"option 2 >> Cancel \")\n",
    "    \n",
    "    option = int(input(\"Enter your option: \"))\n",
    "    if option == 0 :\n",
    "        print(\"your option is Zero\")\n",
    "    elif option == 1 :\n",
    "        print(\"your option is One\")\n",
    "    elif option == 2 :\n",
    "        print(\"your option is Two\")\n",
    "        break\n",
    "    else:\n",
    "        print(f\"your option is {option}\")"
   ]
  },
  {
   "cell_type": "code",
   "execution_count": 361,
   "id": "9db671b5",
   "metadata": {},
   "outputs": [
    {
     "data": {
      "text/plain": [
       "[4, 6, 8]"
      ]
     },
     "execution_count": 361,
     "metadata": {},
     "output_type": "execute_result"
    }
   ],
   "source": [
    "lst = [1,4,5,6,7,8,9]\n",
    "\n",
    "list(filter(lambda  num : num % 2 == 0  , [1,4,5,6,7,8,9]))"
   ]
  },
  {
   "cell_type": "code",
   "execution_count": 362,
   "id": "b6c0e650",
   "metadata": {},
   "outputs": [
    {
     "data": {
      "text/plain": [
       "[1, 5, 7, 9]"
      ]
     },
     "execution_count": 362,
     "metadata": {},
     "output_type": "execute_result"
    }
   ],
   "source": [
    "lst = [1,4,5,6,7,8,9]\n",
    "\n",
    "list(filter(lambda  num : num % 2 == 1  , [1,4,5,6,7,8,9]))"
   ]
  },
  {
   "cell_type": "code",
   "execution_count": 364,
   "id": "cfd36ea1",
   "metadata": {},
   "outputs": [
    {
     "data": {
      "text/plain": [
       "[False, True, False, True, False, True, False]"
      ]
     },
     "execution_count": 364,
     "metadata": {},
     "output_type": "execute_result"
    }
   ],
   "source": [
    "lst = [1,4,5,6,7,8,9]\n",
    "\n",
    "list(map(lambda  num : num % 2 == 0  , [1,4,5,6,7,8,9]))"
   ]
  },
  {
   "cell_type": "code",
   "execution_count": null,
   "id": "32ba660a",
   "metadata": {},
   "outputs": [],
   "source": []
  }
 ],
 "metadata": {
  "kernelspec": {
   "display_name": "Python 3 (ipykernel)",
   "language": "python",
   "name": "python3"
  },
  "language_info": {
   "codemirror_mode": {
    "name": "ipython",
    "version": 3
   },
   "file_extension": ".py",
   "mimetype": "text/x-python",
   "name": "python",
   "nbconvert_exporter": "python",
   "pygments_lexer": "ipython3",
   "version": "3.10.9"
  }
 },
 "nbformat": 4,
 "nbformat_minor": 5
}
