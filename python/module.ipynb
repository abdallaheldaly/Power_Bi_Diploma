{
 "cells": [
  {
   "cell_type": "code",
   "execution_count": 1,
   "id": "6bee5be7",
   "metadata": {},
   "outputs": [],
   "source": [
    "def add(*n):\n",
    "    s = 0 \n",
    "    for i in n :\n",
    "        s += i \n",
    "    return s "
   ]
  },
  {
   "cell_type": "code",
   "execution_count": 2,
   "id": "d4be3707",
   "metadata": {},
   "outputs": [],
   "source": [
    "def mul(*n):\n",
    "    m = 1 \n",
    "    for i in n :\n",
    "        m *= i \n",
    "    return m"
   ]
  },
  {
   "cell_type": "code",
   "execution_count": 3,
   "id": "1d579e6d",
   "metadata": {},
   "outputs": [],
   "source": [
    "def check(num):\n",
    "    if num % 2 == 0 :\n",
    "        return f\"{num} is Even\"\n",
    "    else:\n",
    "        return f\"{num} is Odd\""
   ]
  },
  {
   "cell_type": "code",
   "execution_count": null,
   "id": "a6831f76",
   "metadata": {},
   "outputs": [],
   "source": []
  }
 ],
 "metadata": {
  "kernelspec": {
   "display_name": "Python 3 (ipykernel)",
   "language": "python",
   "name": "python3"
  },
  "language_info": {
   "codemirror_mode": {
    "name": "ipython",
    "version": 3
   },
   "file_extension": ".py",
   "mimetype": "text/x-python",
   "name": "python",
   "nbconvert_exporter": "python",
   "pygments_lexer": "ipython3",
   "version": "3.10.9"
  }
 },
 "nbformat": 4,
 "nbformat_minor": 5
}
