{
 "cells": [
  {
   "cell_type": "markdown",
   "id": "05332683-9553-489b-871d-1c6203ba6312",
   "metadata": {},
   "source": [
    "# dataset link\n",
    "\n",
    "https://www.kaggle.com/datasets/kaggle/sf-salaries"
   ]
  },
  {
   "cell_type": "code",
   "execution_count": 1,
   "id": "baf1921d",
   "metadata": {},
   "outputs": [],
   "source": [
    "# pip install matplotlib\n",
    "# pip install pandas"
   ]
  },
  {
   "cell_type": "code",
   "execution_count": 2,
   "id": "5944681d",
   "metadata": {},
   "outputs": [
    {
     "name": "stderr",
     "output_type": "stream",
     "text": [
      "/var/folders/7g/l7_y9q_j4md0vzbz99k5dpg40000gn/T/ipykernel_6924/3405475822.py:4: DtypeWarning: Columns (3,4,5,6,12) have mixed types. Specify dtype option on import or set low_memory=False.\n",
      "  df = pd.read_csv(\"archive/Salaries.csv\")\n"
     ]
    },
    {
     "data": {
      "text/plain": [
       "Index(['Id', 'EmployeeName', 'JobTitle', 'BasePay', 'OvertimePay', 'OtherPay',\n",
       "       'Benefits', 'TotalPay', 'TotalPayBenefits', 'Year', 'Notes', 'Agency',\n",
       "       'Status'],\n",
       "      dtype='object')"
      ]
     },
     "execution_count": 2,
     "metadata": {},
     "output_type": "execute_result"
    }
   ],
   "source": [
    "import pandas as pd\n",
    "import matplotlib.pyplot as plt\n",
    "\n",
    "df = pd.read_csv(\"archive/Salaries.csv\")\n",
    "df.columns"
   ]
  },
  {
   "cell_type": "code",
   "execution_count": 3,
   "id": "d455cb18",
   "metadata": {},
   "outputs": [
    {
     "data": {
      "text/html": [
       "<div>\n",
       "<style scoped>\n",
       "    .dataframe tbody tr th:only-of-type {\n",
       "        vertical-align: middle;\n",
       "    }\n",
       "\n",
       "    .dataframe tbody tr th {\n",
       "        vertical-align: top;\n",
       "    }\n",
       "\n",
       "    .dataframe thead th {\n",
       "        text-align: right;\n",
       "    }\n",
       "</style>\n",
       "<table border=\"1\" class=\"dataframe\">\n",
       "  <thead>\n",
       "    <tr style=\"text-align: right;\">\n",
       "      <th></th>\n",
       "      <th>Id</th>\n",
       "      <th>EmployeeName</th>\n",
       "      <th>JobTitle</th>\n",
       "      <th>BasePay</th>\n",
       "      <th>OvertimePay</th>\n",
       "      <th>OtherPay</th>\n",
       "      <th>Benefits</th>\n",
       "      <th>TotalPay</th>\n",
       "      <th>TotalPayBenefits</th>\n",
       "      <th>Year</th>\n",
       "      <th>Notes</th>\n",
       "      <th>Agency</th>\n",
       "      <th>Status</th>\n",
       "    </tr>\n",
       "  </thead>\n",
       "  <tbody>\n",
       "    <tr>\n",
       "      <th>0</th>\n",
       "      <td>1</td>\n",
       "      <td>NATHANIEL FORD</td>\n",
       "      <td>GENERAL MANAGER-METROPOLITAN TRANSIT AUTHORITY</td>\n",
       "      <td>167411.18</td>\n",
       "      <td>0.0</td>\n",
       "      <td>400184.25</td>\n",
       "      <td>NaN</td>\n",
       "      <td>567595.43</td>\n",
       "      <td>567595.43</td>\n",
       "      <td>2011</td>\n",
       "      <td>NaN</td>\n",
       "      <td>San Francisco</td>\n",
       "      <td>NaN</td>\n",
       "    </tr>\n",
       "    <tr>\n",
       "      <th>1</th>\n",
       "      <td>2</td>\n",
       "      <td>GARY JIMENEZ</td>\n",
       "      <td>CAPTAIN III (POLICE DEPARTMENT)</td>\n",
       "      <td>155966.02</td>\n",
       "      <td>245131.88</td>\n",
       "      <td>137811.38</td>\n",
       "      <td>NaN</td>\n",
       "      <td>538909.28</td>\n",
       "      <td>538909.28</td>\n",
       "      <td>2011</td>\n",
       "      <td>NaN</td>\n",
       "      <td>San Francisco</td>\n",
       "      <td>NaN</td>\n",
       "    </tr>\n",
       "    <tr>\n",
       "      <th>2</th>\n",
       "      <td>3</td>\n",
       "      <td>ALBERT PARDINI</td>\n",
       "      <td>CAPTAIN III (POLICE DEPARTMENT)</td>\n",
       "      <td>212739.13</td>\n",
       "      <td>106088.18</td>\n",
       "      <td>16452.6</td>\n",
       "      <td>NaN</td>\n",
       "      <td>335279.91</td>\n",
       "      <td>335279.91</td>\n",
       "      <td>2011</td>\n",
       "      <td>NaN</td>\n",
       "      <td>San Francisco</td>\n",
       "      <td>NaN</td>\n",
       "    </tr>\n",
       "    <tr>\n",
       "      <th>3</th>\n",
       "      <td>4</td>\n",
       "      <td>CHRISTOPHER CHONG</td>\n",
       "      <td>WIRE ROPE CABLE MAINTENANCE MECHANIC</td>\n",
       "      <td>77916.0</td>\n",
       "      <td>56120.71</td>\n",
       "      <td>198306.9</td>\n",
       "      <td>NaN</td>\n",
       "      <td>332343.61</td>\n",
       "      <td>332343.61</td>\n",
       "      <td>2011</td>\n",
       "      <td>NaN</td>\n",
       "      <td>San Francisco</td>\n",
       "      <td>NaN</td>\n",
       "    </tr>\n",
       "    <tr>\n",
       "      <th>4</th>\n",
       "      <td>5</td>\n",
       "      <td>PATRICK GARDNER</td>\n",
       "      <td>DEPUTY CHIEF OF DEPARTMENT,(FIRE DEPARTMENT)</td>\n",
       "      <td>134401.6</td>\n",
       "      <td>9737.0</td>\n",
       "      <td>182234.59</td>\n",
       "      <td>NaN</td>\n",
       "      <td>326373.19</td>\n",
       "      <td>326373.19</td>\n",
       "      <td>2011</td>\n",
       "      <td>NaN</td>\n",
       "      <td>San Francisco</td>\n",
       "      <td>NaN</td>\n",
       "    </tr>\n",
       "  </tbody>\n",
       "</table>\n",
       "</div>"
      ],
      "text/plain": [
       "   Id       EmployeeName                                        JobTitle  \\\n",
       "0   1     NATHANIEL FORD  GENERAL MANAGER-METROPOLITAN TRANSIT AUTHORITY   \n",
       "1   2       GARY JIMENEZ                 CAPTAIN III (POLICE DEPARTMENT)   \n",
       "2   3     ALBERT PARDINI                 CAPTAIN III (POLICE DEPARTMENT)   \n",
       "3   4  CHRISTOPHER CHONG            WIRE ROPE CABLE MAINTENANCE MECHANIC   \n",
       "4   5    PATRICK GARDNER    DEPUTY CHIEF OF DEPARTMENT,(FIRE DEPARTMENT)   \n",
       "\n",
       "     BasePay OvertimePay   OtherPay Benefits   TotalPay  TotalPayBenefits  \\\n",
       "0  167411.18         0.0  400184.25      NaN  567595.43         567595.43   \n",
       "1  155966.02   245131.88  137811.38      NaN  538909.28         538909.28   \n",
       "2  212739.13   106088.18    16452.6      NaN  335279.91         335279.91   \n",
       "3    77916.0    56120.71   198306.9      NaN  332343.61         332343.61   \n",
       "4   134401.6      9737.0  182234.59      NaN  326373.19         326373.19   \n",
       "\n",
       "   Year  Notes         Agency Status  \n",
       "0  2011    NaN  San Francisco    NaN  \n",
       "1  2011    NaN  San Francisco    NaN  \n",
       "2  2011    NaN  San Francisco    NaN  \n",
       "3  2011    NaN  San Francisco    NaN  \n",
       "4  2011    NaN  San Francisco    NaN  "
      ]
     },
     "execution_count": 3,
     "metadata": {},
     "output_type": "execute_result"
    }
   ],
   "source": [
    "df.head()"
   ]
  },
  {
   "cell_type": "code",
   "execution_count": 4,
   "id": "0ce22635",
   "metadata": {},
   "outputs": [
    {
     "name": "stdout",
     "output_type": "stream",
     "text": [
      "<class 'pandas.core.frame.DataFrame'>\n",
      "RangeIndex: 148654 entries, 0 to 148653\n",
      "Data columns (total 13 columns):\n",
      " #   Column            Non-Null Count   Dtype  \n",
      "---  ------            --------------   -----  \n",
      " 0   Id                148654 non-null  int64  \n",
      " 1   EmployeeName      148654 non-null  object \n",
      " 2   JobTitle          148654 non-null  object \n",
      " 3   BasePay           148049 non-null  object \n",
      " 4   OvertimePay       148654 non-null  object \n",
      " 5   OtherPay          148654 non-null  object \n",
      " 6   Benefits          112495 non-null  object \n",
      " 7   TotalPay          148654 non-null  float64\n",
      " 8   TotalPayBenefits  148654 non-null  float64\n",
      " 9   Year              148654 non-null  int64  \n",
      " 10  Notes             0 non-null       float64\n",
      " 11  Agency            148654 non-null  object \n",
      " 12  Status            38119 non-null   object \n",
      "dtypes: float64(3), int64(2), object(8)\n",
      "memory usage: 14.7+ MB\n"
     ]
    }
   ],
   "source": [
    "df.info()"
   ]
  },
  {
   "cell_type": "code",
   "execution_count": 5,
   "id": "7637adf8",
   "metadata": {},
   "outputs": [
    {
     "data": {
      "text/plain": [
       "Id                    int64\n",
       "EmployeeName         object\n",
       "JobTitle             object\n",
       "BasePay             float64\n",
       "OvertimePay         float64\n",
       "OtherPay            float64\n",
       "Benefits            float64\n",
       "TotalPay            float64\n",
       "TotalPayBenefits    float64\n",
       "Year                  int64\n",
       "Agency               object\n",
       "Status               object\n",
       "dtype: object"
      ]
     },
     "execution_count": 5,
     "metadata": {},
     "output_type": "execute_result"
    }
   ],
   "source": [
    "df['BasePay'] = pd.to_numeric(df['BasePay'],errors = \"coerce\")\n",
    "df['OvertimePay'] = pd.to_numeric(df['OvertimePay'],errors = \"coerce\")\n",
    "df['OtherPay'] = pd.to_numeric(df['OtherPay'],errors = \"coerce\")\n",
    "df['Benefits'] = pd.to_numeric(df['Benefits'],errors = \"coerce\")\n",
    "df.drop([\"Notes\"],axis = 1,inplace = True)\n",
    "df.dtypes"
   ]
  },
  {
   "cell_type": "markdown",
   "id": "807a5fe7-8c72-475b-a159-4df4f20ee018",
   "metadata": {},
   "source": [
    "# PYTHON CODE"
   ]
  },
  {
   "cell_type": "code",
   "execution_count": 6,
   "id": "c440d0a8-8b44-4df8-9cd3-53080816d86d",
   "metadata": {},
   "outputs": [
    {
     "data": {
      "text/plain": [
       "66325.4488404877"
      ]
     },
     "execution_count": 6,
     "metadata": {},
     "output_type": "execute_result"
    }
   ],
   "source": [
    "df['BasePay'].mean()"
   ]
  },
  {
   "cell_type": "markdown",
   "id": "394de29b-e298-4a13-9e22-6a0aa4d098e7",
   "metadata": {},
   "source": [
    "# sql code"
   ]
  },
  {
   "cell_type": "code",
   "execution_count": 7,
   "id": "0ae3a84a-8e0e-452f-802f-5033205b9e73",
   "metadata": {},
   "outputs": [],
   "source": [
    "# SELECT AVG(BasePay) AS AverageBasePay\n",
    "# FROM YourTableName;"
   ]
  },
  {
   "cell_type": "markdown",
   "id": "22a1af66-9bd1-405d-bbf1-63c529d14b21",
   "metadata": {},
   "source": [
    "# Q2: Which job title has the highest BasePay?\n"
   ]
  },
  {
   "cell_type": "markdown",
   "id": "99f12855-1bd4-4710-bc9e-67a7b8d9f5f6",
   "metadata": {},
   "source": [
    "# PYTHON CODE"
   ]
  },
  {
   "cell_type": "code",
   "execution_count": 8,
   "id": "097846cd-b927-4a37-bdc5-79adfcd4b0b2",
   "metadata": {},
   "outputs": [
    {
     "data": {
      "text/plain": [
       "'Chief of Police'"
      ]
     },
     "execution_count": 8,
     "metadata": {},
     "output_type": "execute_result"
    }
   ],
   "source": [
    "df.loc[df['BasePay'].idxmax()]['JobTitle']\n"
   ]
  },
  {
   "cell_type": "markdown",
   "id": "9e04064d-b52e-458d-a78e-dc30c9acccb3",
   "metadata": {},
   "source": [
    "# sql code"
   ]
  },
  {
   "cell_type": "code",
   "execution_count": 9,
   "id": "8f66f072-ad6a-4a07-a654-6555077d84d3",
   "metadata": {},
   "outputs": [],
   "source": [
    "# SELECT JobTitle\n",
    "# FROM YourTableName\n",
    "# WHERE BasePay = (SELECT MAX(BasePay) FROM YourTableName);"
   ]
  },
  {
   "cell_type": "markdown",
   "id": "f483122c-55a0-40b0-9923-1c85efe49a4e",
   "metadata": {},
   "source": [
    "# Q3: How many unique job titles are there in the dataset?"
   ]
  },
  {
   "cell_type": "markdown",
   "id": "4dfa40d8-7692-45b4-8bc6-7705f460f3c4",
   "metadata": {},
   "source": [
    "# PYTHON CODE"
   ]
  },
  {
   "cell_type": "code",
   "execution_count": 10,
   "id": "13bea464-18c6-4292-a41d-84cf7bfd33fe",
   "metadata": {},
   "outputs": [
    {
     "data": {
      "text/plain": [
       "2159"
      ]
     },
     "execution_count": 10,
     "metadata": {},
     "output_type": "execute_result"
    }
   ],
   "source": [
    "df['JobTitle'].nunique()"
   ]
  },
  {
   "cell_type": "markdown",
   "id": "86ffe2bc-3621-4cbe-be0f-47b129a2b3c9",
   "metadata": {},
   "source": [
    "# sql code"
   ]
  },
  {
   "cell_type": "code",
   "execution_count": 11,
   "id": "e1a0da7a-d713-4955-9350-cdcc1065a389",
   "metadata": {},
   "outputs": [],
   "source": [
    "# SELECT COUNT(DISTINCT JobTitle) AS NumUniqueJobTitles\n",
    "# FROM YourTableName;"
   ]
  },
  {
   "cell_type": "markdown",
   "id": "f34cdc8a-9374-4dbe-b2f0-9e5831abe142",
   "metadata": {},
   "source": [
    "#### Q4: What is the total OvertimePay for each year?\n"
   ]
  },
  {
   "cell_type": "markdown",
   "id": "f87e5b8b-c6ad-4b56-890e-0237a6067167",
   "metadata": {},
   "source": [
    "# PYTHON CODE"
   ]
  },
  {
   "cell_type": "code",
   "execution_count": 12,
   "id": "5431b6e8-53a0-4b0f-805d-4095f1df9f15",
   "metadata": {},
   "outputs": [
    {
     "data": {
      "text/html": [
       "<div>\n",
       "<style scoped>\n",
       "    .dataframe tbody tr th:only-of-type {\n",
       "        vertical-align: middle;\n",
       "    }\n",
       "\n",
       "    .dataframe tbody tr th {\n",
       "        vertical-align: top;\n",
       "    }\n",
       "\n",
       "    .dataframe thead th {\n",
       "        text-align: right;\n",
       "    }\n",
       "</style>\n",
       "<table border=\"1\" class=\"dataframe\">\n",
       "  <thead>\n",
       "    <tr style=\"text-align: right;\">\n",
       "      <th></th>\n",
       "      <th>Year</th>\n",
       "      <th>OvertimePay</th>\n",
       "    </tr>\n",
       "  </thead>\n",
       "  <tbody>\n",
       "    <tr>\n",
       "      <th>0</th>\n",
       "      <td>2011</td>\n",
       "      <td>1.638388e+08</td>\n",
       "    </tr>\n",
       "    <tr>\n",
       "      <th>1</th>\n",
       "      <td>2012</td>\n",
       "      <td>1.846910e+08</td>\n",
       "    </tr>\n",
       "    <tr>\n",
       "      <th>2</th>\n",
       "      <td>2013</td>\n",
       "      <td>1.986214e+08</td>\n",
       "    </tr>\n",
       "    <tr>\n",
       "      <th>3</th>\n",
       "      <td>2014</td>\n",
       "      <td>2.059186e+08</td>\n",
       "    </tr>\n",
       "  </tbody>\n",
       "</table>\n",
       "</div>"
      ],
      "text/plain": [
       "   Year   OvertimePay\n",
       "0  2011  1.638388e+08\n",
       "1  2012  1.846910e+08\n",
       "2  2013  1.986214e+08\n",
       "3  2014  2.059186e+08"
      ]
     },
     "execution_count": 12,
     "metadata": {},
     "output_type": "execute_result"
    }
   ],
   "source": [
    "df.groupby('Year')['OvertimePay'].sum().reset_index()\n"
   ]
  },
  {
   "cell_type": "markdown",
   "id": "4c1f6cba-de43-41f7-8f02-800730c33b5a",
   "metadata": {},
   "source": [
    "# sql code"
   ]
  },
  {
   "cell_type": "code",
   "execution_count": 13,
   "id": "5f2353ae-221a-427e-96f3-aac434992363",
   "metadata": {},
   "outputs": [],
   "source": [
    "# SELECT Year, SUM(OvertimePay) AS TotalOvertimePay\n",
    "# FROM YourTableName\n",
    "# GROUP BY Year\n",
    "# ORDER BY Year;"
   ]
  },
  {
   "cell_type": "markdown",
   "id": "664886ef-8e66-4ea1-8071-879daf1d9f30",
   "metadata": {},
   "source": [
    "#### Q5: Which year had the highest average OtherPay?\n",
    "df.groupby('Year')['OtherPay'].mean()"
   ]
  },
  {
   "cell_type": "markdown",
   "id": "ded89aed-27b8-417a-8b9d-f4b7bbb3fbef",
   "metadata": {},
   "source": [
    "# PYTHON CODE"
   ]
  },
  {
   "cell_type": "code",
   "execution_count": 14,
   "id": "91cf1f38-1b16-498b-8e78-443defff4ef5",
   "metadata": {},
   "outputs": [
    {
     "data": {
      "text/plain": [
       "Year\n",
       "2011    3617.081926\n",
       "2012    3653.437583\n",
       "2013    3819.969007\n",
       "2014    3505.421251\n",
       "Name: OtherPay, dtype: float64"
      ]
     },
     "execution_count": 14,
     "metadata": {},
     "output_type": "execute_result"
    }
   ],
   "source": [
    "df.groupby('Year')['OtherPay'].mean()"
   ]
  },
  {
   "cell_type": "markdown",
   "id": "8810d02e-87b9-4205-99c8-1eb02b29b371",
   "metadata": {},
   "source": [
    "# sql code"
   ]
  },
  {
   "cell_type": "code",
   "execution_count": 15,
   "id": "b773e41d-bfac-44fe-8d80-3edfaa8593db",
   "metadata": {},
   "outputs": [],
   "source": [
    "# SELECT Year, AVG(OtherPay) AS AverageOtherPay\n",
    "# FROM YourTableName\n",
    "# GROUP BY Year\n",
    "# ORDER BY AverageOtherPay DESC\n",
    "# LIMIT 1;"
   ]
  },
  {
   "cell_type": "markdown",
   "id": "7f41d533-bcb3-4d73-ad18-c102ee71e160",
   "metadata": {},
   "source": [
    "#### Q6: What is the median TotalPay for each job title?\n"
   ]
  },
  {
   "cell_type": "markdown",
   "id": "b31fa7ef-d7f1-431c-aab7-57b68654eead",
   "metadata": {},
   "source": [
    "# PYTHON CODE"
   ]
  },
  {
   "cell_type": "code",
   "execution_count": 16,
   "id": "a559eaf1-8219-4ac2-b68e-120fd0429bc2",
   "metadata": {},
   "outputs": [
    {
     "data": {
      "text/plain": [
       "JobTitle\n",
       "ACCOUNT CLERK                                     49777.820\n",
       "ACCOUNTANT                                        60076.240\n",
       "ACCOUNTANT INTERN                                 17658.505\n",
       "ACPO,JuvP, Juv Prob (SFERS)                       62290.780\n",
       "ACUPUNCTURIST                                     67594.400\n",
       "                                                    ...    \n",
       "X-RAY LABORATORY AIDE                             60333.125\n",
       "X-Ray Laboratory Aide                             60047.290\n",
       "YOUTH COMMISSION ADVISOR, BOARD OF SUPERVISORS    53632.870\n",
       "Youth Comm Advisor                                44449.895\n",
       "ZOO CURATOR                                       66686.560\n",
       "Name: TotalPay, Length: 2159, dtype: float64"
      ]
     },
     "execution_count": 16,
     "metadata": {},
     "output_type": "execute_result"
    }
   ],
   "source": [
    "df.groupby('JobTitle')['TotalPay'].median()"
   ]
  },
  {
   "cell_type": "markdown",
   "id": "a6f8219d-4610-4615-9f4c-f35b184eab39",
   "metadata": {},
   "source": [
    "# sql code"
   ]
  },
  {
   "cell_type": "code",
   "execution_count": 17,
   "id": "cc061126-ca6b-4f37-b78b-1121ec9144ba",
   "metadata": {},
   "outputs": [],
   "source": [
    "# WITH RankedSalaries AS (\n",
    "#     SELECT\n",
    "#         JobTitle,\n",
    "#         TotalPay,\n",
    "#         ROW_NUMBER() OVER (PARTITION BY JobTitle ORDER BY TotalPay) AS RowAsc,\n",
    "#         ROW_NUMBER() OVER (PARTITION BY JobTitle ORDER BY TotalPay DESC) AS RowDesc\n",
    "#     FROM YourTableName\n",
    "# ),\n",
    "# MedianSalaries AS (\n",
    "#     SELECT\n",
    "#         JobTitle,\n",
    "#         TotalPay\n",
    "#     FROM\n",
    "#         RankedSalaries\n",
    "#     WHERE\n",
    "#         RowAsc = RowDesc OR RowAsc + 1 = RowDesc\n",
    "# )\n",
    "# SELECT\n",
    "#     JobTitle,\n",
    "#     AVG(TotalPay) AS MedianTotalPay\n",
    "# FROM\n",
    "#     MedianSalaries\n",
    "# GROUP BY\n",
    "#     JobTitle\n",
    "# ORDER BY\n",
    "#     JobTitle;"
   ]
  },
  {
   "cell_type": "markdown",
   "id": "1235b678-d6f3-4b50-accb-d8d7cb7c67aa",
   "metadata": {},
   "source": [
    "#### Q7: How many employees are there in each agency?\n"
   ]
  },
  {
   "cell_type": "markdown",
   "id": "030bc2a1-bb58-461e-896c-895bf56a11a9",
   "metadata": {},
   "source": [
    "# PYTHON CODE"
   ]
  },
  {
   "cell_type": "code",
   "execution_count": 18,
   "id": "96929c35-ca82-49a7-89a0-bd2af8891760",
   "metadata": {},
   "outputs": [
    {
     "data": {
      "text/plain": [
       "Agency\n",
       "San Francisco    148654\n",
       "dtype: int64"
      ]
     },
     "execution_count": 18,
     "metadata": {},
     "output_type": "execute_result"
    }
   ],
   "source": [
    "df.groupby('Agency').size()"
   ]
  },
  {
   "cell_type": "markdown",
   "id": "0c055c6f-b0d8-44af-a380-1ded806644b7",
   "metadata": {},
   "source": [
    "# sql code"
   ]
  },
  {
   "cell_type": "code",
   "execution_count": 19,
   "id": "f1b63667-a68a-4290-b936-2fa3ada2e66c",
   "metadata": {},
   "outputs": [],
   "source": [
    "# SELECT Agency, COUNT(*) AS NumberOfEmployees\n",
    "# FROM YourTableName\n",
    "# GROUP BY Agency\n",
    "# ORDER BY Agency;"
   ]
  },
  {
   "cell_type": "markdown",
   "id": "266151b2-5c72-4030-8554-20b62128cc23",
   "metadata": {},
   "source": [
    "#### Q8: What is the maximum Benefits offered by any agency?\n"
   ]
  },
  {
   "cell_type": "markdown",
   "id": "e1459ce9-31c8-4d81-84ba-2a86131770e5",
   "metadata": {},
   "source": [
    "# PYTHON CODE"
   ]
  },
  {
   "cell_type": "code",
   "execution_count": 20,
   "id": "7a4e2375-be69-4de8-b58a-e8f14ddf3362",
   "metadata": {},
   "outputs": [
    {
     "name": "stdout",
     "output_type": "stream",
     "text": [
      "The maximum Benefits offered by any agency is 96570.66.\n"
     ]
    }
   ],
   "source": [
    "# Group by 'Agency' and find the maximum 'Benefits' for each agency\n",
    "max_benefits_per_agency = df.groupby('Agency')['Benefits'].max()\n",
    "\n",
    "overall_max_benefits = max_benefits_per_agency.max()\n",
    "\n",
    "print(f\"The maximum Benefits offered by any agency is {overall_max_benefits}.\")"
   ]
  },
  {
   "cell_type": "markdown",
   "id": "fce862a1-83de-4e30-b37d-9f4a618e7c9f",
   "metadata": {},
   "source": [
    "# sql code"
   ]
  },
  {
   "cell_type": "code",
   "execution_count": 21,
   "id": "87d7c757-2b50-420f-8d7f-edd0eabd35ee",
   "metadata": {},
   "outputs": [],
   "source": [
    "# SELECT MAX(Benefits) AS MaximumBenefits\n",
    "# FROM YourTableName;"
   ]
  },
  {
   "cell_type": "markdown",
   "id": "8a2a0bd1-8f66-4ea0-bd9e-5e9a5d750c9f",
   "metadata": {},
   "source": [
    "#### Q9: What is the total BasePay, OvertimePay, and OtherPay for each EmployeeName?\n"
   ]
  },
  {
   "cell_type": "markdown",
   "id": "e460920a-69ca-443b-8fdf-67d4a7a59f86",
   "metadata": {},
   "source": [
    "# PYTHON CODE"
   ]
  },
  {
   "cell_type": "code",
   "execution_count": 22,
   "id": "a8aeffa2-9f01-4ad4-9099-7f32d104235b",
   "metadata": {},
   "outputs": [
    {
     "name": "stdout",
     "output_type": "stream",
     "text": [
      "             EmployeeName    BasePay  OvertimePay   OtherPay   TotalPay\n",
      "0          NATHANIEL FORD  167411.18         0.00  400184.25  567595.43\n",
      "1            GARY JIMENEZ  155966.02    245131.88  137811.38  538909.28\n",
      "2          ALBERT PARDINI  212739.13    106088.18   16452.60  335279.91\n",
      "3       CHRISTOPHER CHONG   77916.00     56120.71  198306.90  332343.61\n",
      "4         PATRICK GARDNER  134401.60      9737.00  182234.59  326373.19\n",
      "...                   ...        ...          ...        ...        ...\n",
      "148649      Roy I Tillery       0.00         0.00       0.00       0.00\n",
      "148650       Not provided        NaN          NaN        NaN        NaN\n",
      "148651       Not provided        NaN          NaN        NaN        NaN\n",
      "148652       Not provided        NaN          NaN        NaN        NaN\n",
      "148653          Joe Lopez       0.00         0.00    -618.13    -618.13\n",
      "\n",
      "[148654 rows x 5 columns]\n"
     ]
    }
   ],
   "source": [
    "# Create a new column 'TotalPay' that is the sum of 'BasePay', 'OvertimePay', and 'OtherPay'\n",
    "df['TotalPay'] = df['BasePay'] + df['OvertimePay'] + df['OtherPay']\n",
    "\n",
    "# Select the relevant columns\n",
    "total_pay_per_employee = df[['EmployeeName', 'BasePay', 'OvertimePay', 'OtherPay', 'TotalPay']]\n",
    "\n",
    "print(total_pay_per_employee)"
   ]
  },
  {
   "cell_type": "markdown",
   "id": "01284115-6eb2-4544-bc07-b95c69b05ec3",
   "metadata": {},
   "source": [
    "# sql code"
   ]
  },
  {
   "cell_type": "code",
   "execution_count": 23,
   "id": "1cf3e5dd-daab-47ff-a154-785b592385f2",
   "metadata": {},
   "outputs": [],
   "source": [
    "# SELECT EmployeeName,\n",
    "#        SUM(BasePay) AS TotalBasePay,\n",
    "#        SUM(OvertimePay) AS TotalOvertimePay,\n",
    "#        SUM(OtherPay) AS TotalOtherPay\n",
    "# FROM YourTableName\n",
    "# GROUP BY EmployeeName\n",
    "# ORDER BY EmployeeName;"
   ]
  },
  {
   "cell_type": "markdown",
   "id": "51cab719-13e5-4520-b554-766a0993f68a",
   "metadata": {},
   "source": [
    "#### Q10: Which employee has the highest TotalPayBenefits?\n"
   ]
  },
  {
   "cell_type": "markdown",
   "id": "643f4a2b-647c-4fdf-85de-1e8f0026b8a1",
   "metadata": {},
   "source": [
    "# PYTHON CODE"
   ]
  },
  {
   "cell_type": "code",
   "execution_count": 24,
   "id": "789d289a-13b9-46a6-8e6f-69f13562e1ac",
   "metadata": {},
   "outputs": [
    {
     "name": "stdout",
     "output_type": "stream",
     "text": [
      "     EmployeeName    EmployeeName  TotalPayBenefits\n",
      "0  NATHANIEL FORD  NATHANIEL FORD         567595.43\n"
     ]
    }
   ],
   "source": [
    "employee_highest_totalpaybenefits = df[df['TotalPayBenefits'] == df['TotalPayBenefits'].max()]\n",
    "\n",
    "print(employee_highest_totalpaybenefits[['EmployeeName', 'EmployeeName', 'TotalPayBenefits']])"
   ]
  },
  {
   "cell_type": "markdown",
   "id": "5f49a2f1-3596-4430-890e-e6f1e11d8410",
   "metadata": {},
   "source": [
    "# sql code"
   ]
  },
  {
   "cell_type": "code",
   "execution_count": 25,
   "id": "5c9d4755-2c63-48cd-a945-6192817f5c78",
   "metadata": {},
   "outputs": [],
   "source": [
    "# SELECT EmployeeID, EmployeeName, TotalPayBenefits\n",
    "# FROM YourTableName\n",
    "# ORDER BY TotalPayBenefits DESC\n",
    "# LIMIT 1;"
   ]
  },
  {
   "cell_type": "markdown",
   "id": "249a27c0-9bbc-49ae-b7e5-e7a4cec509e8",
   "metadata": {},
   "source": [
    "#### Q11: How does the average TotalPayBenefits vary across years?\n"
   ]
  },
  {
   "cell_type": "markdown",
   "id": "f2629638-d6a7-484a-ba03-55436f556a30",
   "metadata": {},
   "source": [
    "# PYTHON CODE"
   ]
  },
  {
   "cell_type": "code",
   "execution_count": 26,
   "id": "d8930f87-395b-448a-ada1-4b0decec0345",
   "metadata": {},
   "outputs": [
    {
     "data": {
      "image/png": "[encoded data removed]",
      "text/plain": [
       "<Figure size 1000x600 with 1 Axes>"
      ]
     },
     "metadata": {},
     "output_type": "display_data"
    }
   ],
   "source": [
    "average_totalpaybenefits_per_year = df.groupby('Year')['TotalPayBenefits'].mean()\n",
    "\n",
    "# Plot the average TotalPayBenefits across years\n",
    "plt.figure(figsize=(10, 6))\n",
    "average_totalpaybenefits_per_year.plot(kind='bar', color='skyblue')\n",
    "plt.xlabel('Year')\n",
    "plt.ylabel('Average TotalPayBenefits')\n",
    "plt.title('Average TotalPayBenefits Across Years')\n",
    "plt.xticks(rotation=45)\n",
    "plt.grid(axis='y')\n",
    "plt.tight_layout()\n",
    "plt.show()"
   ]
  },
  {
   "cell_type": "markdown",
   "id": "8f2645cc-0f8c-4a12-8311-c411f1ac15b2",
   "metadata": {},
   "source": [
    "# sql code"
   ]
  },
  {
   "cell_type": "code",
   "execution_count": 27,
   "id": "c5636a8f-a05a-49b2-8725-2ecc04ee0353",
   "metadata": {},
   "outputs": [],
   "source": [
    "# SELECT Year, AVG(TotalPayBenefits) AS AverageTotalPayBenefits\n",
    "# FROM YourTableName\n",
    "# GROUP BY Year\n",
    "# ORDER BY Year;"
   ]
  },
  {
   "cell_type": "markdown",
   "id": "6f1a9240-ffc0-4f65-aa7d-6472ea6943a1",
   "metadata": {},
   "source": [
    "#### Q12: What is the total BasePay for each status (full-time, part-time, etc.)?\n"
   ]
  },
  {
   "cell_type": "markdown",
   "id": "20b26b8c-9315-4bd4-be93-4cf829456238",
   "metadata": {},
   "source": [
    "# PYTHON CODE"
   ]
  },
  {
   "cell_type": "code",
   "execution_count": 28,
   "id": "3523334b-2e69-4372-9dcc-e91c79908e26",
   "metadata": {},
   "outputs": [
    {
     "data": {
      "text/plain": [
       "Status\n",
       "FT    2.036280e+09\n",
       "PT    5.010892e+08\n",
       "Name: BasePay, dtype: float64"
      ]
     },
     "execution_count": 28,
     "metadata": {},
     "output_type": "execute_result"
    }
   ],
   "source": [
    "df.groupby('Status')['BasePay'].sum()"
   ]
  },
  {
   "cell_type": "markdown",
   "id": "c47b2bde-5a2b-4e40-9317-b8634603a81c",
   "metadata": {},
   "source": [
    "# sql code"
   ]
  },
  {
   "cell_type": "code",
   "execution_count": 29,
   "id": "5a964361-e5d7-4215-a203-13cb0c91a0af",
   "metadata": {},
   "outputs": [],
   "source": [
    "# SELECT Status, SUM(BasePay) AS TotalBasePay\n",
    "# FROM employees\n",
    "# GROUP BY Status;"
   ]
  },
  {
   "cell_type": "markdown",
   "id": "8165f131-8609-401d-8f18-8a9c98b4f576",
   "metadata": {},
   "source": [
    "#### Q13: How many employees are there for each job title in each agency?\n"
   ]
  },
  {
   "cell_type": "markdown",
   "id": "c5ea691d-a0c6-44a4-8dc8-8369f7a694ef",
   "metadata": {},
   "source": [
    "# PYTHON CODE"
   ]
  },
  {
   "cell_type": "code",
   "execution_count": 30,
   "id": "80925528-745f-4542-8bdb-da9501347cad",
   "metadata": {},
   "outputs": [
    {
     "data": {
      "text/html": [
       "<div>\n",
       "<style scoped>\n",
       "    .dataframe tbody tr th:only-of-type {\n",
       "        vertical-align: middle;\n",
       "    }\n",
       "\n",
       "    .dataframe tbody tr th {\n",
       "        vertical-align: top;\n",
       "    }\n",
       "\n",
       "    .dataframe thead th {\n",
       "        text-align: right;\n",
       "    }\n",
       "</style>\n",
       "<table border=\"1\" class=\"dataframe\">\n",
       "  <thead>\n",
       "    <tr style=\"text-align: right;\">\n",
       "      <th></th>\n",
       "      <th>Agency</th>\n",
       "      <th>JobTitle</th>\n",
       "      <th>EmployeeCount</th>\n",
       "    </tr>\n",
       "  </thead>\n",
       "  <tbody>\n",
       "    <tr>\n",
       "      <th>0</th>\n",
       "      <td>San Francisco</td>\n",
       "      <td>ACCOUNT CLERK</td>\n",
       "      <td>83</td>\n",
       "    </tr>\n",
       "    <tr>\n",
       "      <th>1</th>\n",
       "      <td>San Francisco</td>\n",
       "      <td>ACCOUNTANT</td>\n",
       "      <td>5</td>\n",
       "    </tr>\n",
       "    <tr>\n",
       "      <th>2</th>\n",
       "      <td>San Francisco</td>\n",
       "      <td>ACCOUNTANT INTERN</td>\n",
       "      <td>48</td>\n",
       "    </tr>\n",
       "    <tr>\n",
       "      <th>3</th>\n",
       "      <td>San Francisco</td>\n",
       "      <td>ACPO,JuvP, Juv Prob (SFERS)</td>\n",
       "      <td>1</td>\n",
       "    </tr>\n",
       "    <tr>\n",
       "      <th>4</th>\n",
       "      <td>San Francisco</td>\n",
       "      <td>ACUPUNCTURIST</td>\n",
       "      <td>1</td>\n",
       "    </tr>\n",
       "    <tr>\n",
       "      <th>...</th>\n",
       "      <td>...</td>\n",
       "      <td>...</td>\n",
       "      <td>...</td>\n",
       "    </tr>\n",
       "    <tr>\n",
       "      <th>2154</th>\n",
       "      <td>San Francisco</td>\n",
       "      <td>X-RAY LABORATORY AIDE</td>\n",
       "      <td>26</td>\n",
       "    </tr>\n",
       "    <tr>\n",
       "      <th>2155</th>\n",
       "      <td>San Francisco</td>\n",
       "      <td>X-Ray Laboratory Aide</td>\n",
       "      <td>100</td>\n",
       "    </tr>\n",
       "    <tr>\n",
       "      <th>2156</th>\n",
       "      <td>San Francisco</td>\n",
       "      <td>YOUTH COMMISSION ADVISOR, BOARD OF SUPERVISORS</td>\n",
       "      <td>1</td>\n",
       "    </tr>\n",
       "    <tr>\n",
       "      <th>2157</th>\n",
       "      <td>San Francisco</td>\n",
       "      <td>Youth Comm Advisor</td>\n",
       "      <td>4</td>\n",
       "    </tr>\n",
       "    <tr>\n",
       "      <th>2158</th>\n",
       "      <td>San Francisco</td>\n",
       "      <td>ZOO CURATOR</td>\n",
       "      <td>1</td>\n",
       "    </tr>\n",
       "  </tbody>\n",
       "</table>\n",
       "<p>2159 rows × 3 columns</p>\n",
       "</div>"
      ],
      "text/plain": [
       "             Agency                                        JobTitle  \\\n",
       "0     San Francisco                                   ACCOUNT CLERK   \n",
       "1     San Francisco                                      ACCOUNTANT   \n",
       "2     San Francisco                               ACCOUNTANT INTERN   \n",
       "3     San Francisco                     ACPO,JuvP, Juv Prob (SFERS)   \n",
       "4     San Francisco                                   ACUPUNCTURIST   \n",
       "...             ...                                             ...   \n",
       "2154  San Francisco                           X-RAY LABORATORY AIDE   \n",
       "2155  San Francisco                           X-Ray Laboratory Aide   \n",
       "2156  San Francisco  YOUTH COMMISSION ADVISOR, BOARD OF SUPERVISORS   \n",
       "2157  San Francisco                              Youth Comm Advisor   \n",
       "2158  San Francisco                                     ZOO CURATOR   \n",
       "\n",
       "      EmployeeCount  \n",
       "0                83  \n",
       "1                 5  \n",
       "2                48  \n",
       "3                 1  \n",
       "4                 1  \n",
       "...             ...  \n",
       "2154             26  \n",
       "2155            100  \n",
       "2156              1  \n",
       "2157              4  \n",
       "2158              1  \n",
       "\n",
       "[2159 rows x 3 columns]"
      ]
     },
     "execution_count": 30,
     "metadata": {},
     "output_type": "execute_result"
    }
   ],
   "source": [
    "df.groupby(['Agency', 'JobTitle']).size().reset_index(name='EmployeeCount')"
   ]
  },
  {
   "cell_type": "markdown",
   "id": "d3931a27-17a8-451d-8f85-99c23a662464",
   "metadata": {},
   "source": [
    "# sql code"
   ]
  },
  {
   "cell_type": "code",
   "execution_count": 31,
   "id": "3f1d56f7-a61d-416c-82bc-b564907a1048",
   "metadata": {},
   "outputs": [],
   "source": [
    "# SELECT Agency, JobTitle, COUNT(EmployeeID) AS EmployeeCount\n",
    "# FROM YourTableName\n",
    "# GROUP BY Agency, JobTitle\n",
    "# ORDER BY Agency, JobTitle;"
   ]
  },
  {
   "cell_type": "markdown",
   "id": "25d10353-8632-465b-b538-64a4edbb049e",
   "metadata": {},
   "source": [
    "#### Q14: Which job title has the highest average Benefits?\n"
   ]
  },
  {
   "cell_type": "markdown",
   "id": "5d999019-32d2-4201-ac92-7c13fb02bbc2",
   "metadata": {},
   "source": [
    "# PYTHON CODE"
   ]
  },
  {
   "cell_type": "code",
   "execution_count": 32,
   "id": "37739c65-7451-48ef-b395-5f14a7a0132d",
   "metadata": {},
   "outputs": [
    {
     "name": "stdout",
     "output_type": "stream",
     "text": [
      "Job Title with the highest average Benefits: Chief Investment Officer\n",
      "Average Benefits: 96570.66\n"
     ]
    }
   ],
   "source": [
    "average_benefits_by_job = df.groupby('JobTitle')['Benefits'].mean()\n",
    "highest_average_benefits_job = average_benefits_by_job.idxmax()\n",
    "highest_average_benefits_value = average_benefits_by_job.max()\n",
    "print(f\"Job Title with the highest average Benefits: {highest_average_benefits_job}\")\n",
    "print(f\"Average Benefits: {highest_average_benefits_value}\")"
   ]
  },
  {
   "cell_type": "markdown",
   "id": "7d9d5d03-4ad0-4759-98b6-d05eb7496c0b",
   "metadata": {},
   "source": [
    "# sql code"
   ]
  },
  {
   "cell_type": "code",
   "execution_count": 33,
   "id": "888f7f75-237e-44a0-af31-60376715384f",
   "metadata": {},
   "outputs": [],
   "source": [
    "# SELECT JobTitle, AVG(Benefits) AS AverageBenefits\n",
    "# FROM employees\n",
    "# GROUP BY JobTitle\n",
    "# ORDER BY AverageBenefits DESC\n",
    "# LIMIT 1;"
   ]
  },
  {
   "cell_type": "markdown",
   "id": "579d78de-96eb-4f01-b460-600b2f1f8c0d",
   "metadata": {},
   "source": [
    "#### Q15: What is the ratio of BasePay to TotalPayBenefits for each job title?\n"
   ]
  },
  {
   "cell_type": "markdown",
   "id": "f093fff1-8279-4282-9f53-f3a20abba710",
   "metadata": {},
   "source": [
    "# PYTHON CODE"
   ]
  },
  {
   "cell_type": "code",
   "execution_count": 34,
   "id": "4fba155a-a033-42ef-bb62-67eb0c690260",
   "metadata": {},
   "outputs": [
    {
     "name": "stdout",
     "output_type": "stream",
     "text": [
      "                                              JobTitle  \\\n",
      "0       GENERAL MANAGER-METROPOLITAN TRANSIT AUTHORITY   \n",
      "1                      CAPTAIN III (POLICE DEPARTMENT)   \n",
      "2                      CAPTAIN III (POLICE DEPARTMENT)   \n",
      "3                 WIRE ROPE CABLE MAINTENANCE MECHANIC   \n",
      "4         DEPUTY CHIEF OF DEPARTMENT,(FIRE DEPARTMENT)   \n",
      "...                                                ...   \n",
      "148649                                       Custodian   \n",
      "148650                                    Not provided   \n",
      "148651                                    Not provided   \n",
      "148652                                    Not provided   \n",
      "148653                      Counselor, Log Cabin Ranch   \n",
      "\n",
      "        BasePayToTotalPayBenefitsRatio  \n",
      "0                             0.294948  \n",
      "1                             0.289411  \n",
      "2                             0.634512  \n",
      "3                             0.234444  \n",
      "4                             0.411803  \n",
      "...                                ...  \n",
      "148649                             NaN  \n",
      "148650                             NaN  \n",
      "148651                             NaN  \n",
      "148652                             NaN  \n",
      "148653                       -0.000000  \n",
      "\n",
      "[148654 rows x 2 columns]\n"
     ]
    }
   ],
   "source": [
    "df['BasePayToTotalPayBenefitsRatio'] = df['BasePay'] / df['TotalPayBenefits']\n",
    "\n",
    "print(df[['JobTitle', 'BasePayToTotalPayBenefitsRatio']])"
   ]
  },
  {
   "cell_type": "markdown",
   "id": "a4fb5b5f-3c6b-44f0-912e-4047c6301d73",
   "metadata": {},
   "source": [
    "# sql code"
   ]
  },
  {
   "cell_type": "code",
   "execution_count": 35,
   "id": "a51f3e40-6104-4d35-9bc4-8d021fa29aa6",
   "metadata": {},
   "outputs": [],
   "source": [
    "# SELECT JobTitle, \n",
    "#        SUM(BasePay) / SUM(TotalPayBenefits) AS BasePayToTotalPayBenefitsRatio\n",
    "# FROM employees\n",
    "# GROUP BY JobTitle;"
   ]
  },
  {
   "cell_type": "markdown",
   "id": "0ad8139e-ad18-4f86-8720-d33d970032eb",
   "metadata": {},
   "source": [
    "#### Q16: Which job title has the highest ratio of BasePay to TotalPayBenefits?\n"
   ]
  },
  {
   "cell_type": "markdown",
   "id": "f8f99bbd-40c7-46bd-be87-6b798fabd302",
   "metadata": {},
   "source": [
    "# PYTHON CODE"
   ]
  },
  {
   "cell_type": "code",
   "execution_count": 36,
   "id": "82e34f12-1bb8-4644-99ef-b02dde4d92ca",
   "metadata": {},
   "outputs": [
    {
     "name": "stdout",
     "output_type": "stream",
     "text": [
      "Job Title with the highest ratio of BasePay to TotalPayBenefits: ADMINISTRATIVE ANALYST III\n",
      "Ratio: 1.0\n"
     ]
    }
   ],
   "source": [
    "grouped = df.groupby('JobTitle').sum()\n",
    "\n",
    "grouped['BasePayToTotalPayBenefitsRatio'] = grouped['BasePay'] / grouped['TotalPayBenefits']\n",
    "\n",
    "highest_ratio_job = grouped['BasePayToTotalPayBenefitsRatio'].idxmax()\n",
    "highest_ratio_value = grouped['BasePayToTotalPayBenefitsRatio'].max()\n",
    "\n",
    "print(f\"Job Title with the highest ratio of BasePay to TotalPayBenefits: {highest_ratio_job}\")\n",
    "print(f\"Ratio: {highest_ratio_value}\")"
   ]
  },
  {
   "cell_type": "markdown",
   "id": "d275a100-3c39-47a8-9c1c-3c5bfed07b7e",
   "metadata": {},
   "source": [
    "# sql code"
   ]
  },
  {
   "cell_type": "code",
   "execution_count": 37,
   "id": "03debe10-cfeb-4f3f-8f1f-66a06e316555",
   "metadata": {},
   "outputs": [],
   "source": [
    "# SELECT JobTitle, \n",
    "#        SUM(BasePay) / SUM(TotalPayBenefits) AS BasePayToTotalPayBenefitsRatio\n",
    "# FROM employees\n",
    "# GROUP BY JobTitle\n",
    "# ORDER BY BasePayToTotalPayBenefitsRatio DESC\n",
    "# LIMIT 1;"
   ]
  },
  {
   "cell_type": "markdown",
   "id": "25251e7e-99a5-44d1-a104-adab83e1c4b5",
   "metadata": {},
   "source": [
    "#### Q17: How many years of data are available in the dataset?\n"
   ]
  },
  {
   "cell_type": "markdown",
   "id": "a0f04248-6263-4bf6-b4af-c1c17ec7355f",
   "metadata": {},
   "source": [
    "# PYTHON CODE"
   ]
  },
  {
   "cell_type": "code",
   "execution_count": 38,
   "id": "a5974b88-19ee-4d0b-b7ab-4b99e5ff75d5",
   "metadata": {},
   "outputs": [
    {
     "name": "stdout",
     "output_type": "stream",
     "text": [
      "There are 4 years of data available in the dataset.\n"
     ]
    }
   ],
   "source": [
    "unique_years = df['Year'].unique()\n",
    "num_years = len(unique_years)\n",
    "print(f\"There are {num_years} years of data available in the dataset.\")"
   ]
  },
  {
   "cell_type": "markdown",
   "id": "d738f408-ba4d-4daa-882c-45b7ef48f827",
   "metadata": {},
   "source": [
    "# sql code"
   ]
  },
  {
   "cell_type": "code",
   "execution_count": 39,
   "id": "a4554cd8-fca8-4566-a8c5-2eac230ca9ce",
   "metadata": {},
   "outputs": [],
   "source": [
    "# SELECT COUNT(DISTINCT Year) AS NumYears\n",
    "# FROM YourTableName;"
   ]
  },
  {
   "cell_type": "markdown",
   "id": "349df33d-e1f2-4069-a8df-39e0b107ec0a",
   "metadata": {},
   "source": [
    "#### Q18: What is the average BasePay for each year and job title combination?\n"
   ]
  },
  {
   "cell_type": "markdown",
   "id": "5e41ee64-dedd-4008-ad0e-510abd747873",
   "metadata": {},
   "source": [
    "# PYTHON CODE"
   ]
  },
  {
   "cell_type": "code",
   "execution_count": 40,
   "id": "b4304792-77da-4cdb-aca2-12ee7dbc2d29",
   "metadata": {},
   "outputs": [
    {
     "name": "stdout",
     "output_type": "stream",
     "text": [
      "      Year                        JobTitle       BasePay\n",
      "0     2011                   ACCOUNT CLERK  43300.806506\n",
      "1     2011                      ACCOUNTANT  46643.172000\n",
      "2     2011               ACCOUNTANT INTERN  28732.663958\n",
      "3     2011                   ACUPUNCTURIST  66374.400000\n",
      "4     2011          ADMINISTRATIVE ANALYST  63435.628602\n",
      "...    ...                             ...           ...\n",
      "4132  2014      Wire Rope Cable Maint Sprv  93904.720000\n",
      "4133  2014      Worker's Comp Supervisor 1  54505.333333\n",
      "4134  2014  Worker's Compensation Adjuster  69915.985385\n",
      "4135  2014           X-Ray Laboratory Aide  45490.340286\n",
      "4136  2014              Youth Comm Advisor  32417.420000\n",
      "\n",
      "[4137 rows x 3 columns]\n"
     ]
    }
   ],
   "source": [
    "average_basepay_per_year_jobtitle = df.groupby(['Year', 'JobTitle'])['BasePay'].mean().reset_index()\n",
    "\n",
    "print(average_basepay_per_year_jobtitle)"
   ]
  },
  {
   "cell_type": "markdown",
   "id": "838edd30-285c-46d0-859b-958050822a3a",
   "metadata": {},
   "source": [
    "# sql code"
   ]
  },
  {
   "cell_type": "code",
   "execution_count": 41,
   "id": "790ade2b-6a5c-4049-a496-30f4b570933d",
   "metadata": {},
   "outputs": [],
   "source": [
    "# SELECT Year, JobTitle, AVG(BasePay) AS AverageBasePay\n",
    "# FROM employees\n",
    "# GROUP BY Year, JobTitle\n",
    "# ORDER BY Year, JobTitle;"
   ]
  },
  {
   "cell_type": "markdown",
   "id": "2a438762-fc7f-471c-93cb-f26ff5015cef",
   "metadata": {},
   "source": [
    "#### Q19: How many employees have a TotalPayBenefits greater than $326373.19??\n"
   ]
  },
  {
   "cell_type": "markdown",
   "id": "5e4d3c56-39fb-47c9-be74-b28fe034c6f1",
   "metadata": {},
   "source": [
    "# PYTHON CODE"
   ]
  },
  {
   "cell_type": "code",
   "execution_count": 42,
   "id": "15ea7b2b-b720-409c-949e-76f63e5b305f",
   "metadata": {},
   "outputs": [
    {
     "name": "stdout",
     "output_type": "stream",
     "text": [
      "The number of employees with TotalPayBenefits greater than $326373.19 is 144.\n"
     ]
    }
   ],
   "source": [
    "num_employees_greater_than_threshold = len(df[df['TotalPayBenefits'] > 326373.19])\n",
    "\n",
    "print(f\"The number of employees with TotalPayBenefits greater than $326373.19 is {num_employees_greater_than_threshold}.\")\n"
   ]
  },
  {
   "cell_type": "markdown",
   "id": "17f786b0-9b1e-4fe9-b422-891756185877",
   "metadata": {},
   "source": [
    "# sql code"
   ]
  },
  {
   "cell_type": "code",
   "execution_count": 43,
   "id": "bbe24e15-5dd0-4ea1-b63a-d2d35be6d7a2",
   "metadata": {},
   "outputs": [],
   "source": [
    "# SELECT COUNT(*) AS NumEmployees\n",
    "# FROM YourTableName\n",
    "# WHERE TotalPayBenefits > 326373.19;"
   ]
  },
  {
   "cell_type": "markdown",
   "id": "e0e5537a-c058-41c5-a3b1-c006ef7baeff",
   "metadata": {},
   "source": [
    "#### Q20: Which agency has the highest average TotalPayBenefits?\n"
   ]
  },
  {
   "cell_type": "markdown",
   "id": "119996b3-3603-4ac6-ae2a-d39de9e6fccb",
   "metadata": {},
   "source": [
    "# PYTHON CODE"
   ]
  },
  {
   "cell_type": "code",
   "execution_count": 44,
   "id": "c6fda1eb-e15b-43d5-b7af-ba6452206992",
   "metadata": {},
   "outputs": [
    {
     "name": "stdout",
     "output_type": "stream",
     "text": [
      "Agency              San Francisco\n",
      "TotalPayBenefits     93692.554811\n",
      "Name: 0, dtype: object\n"
     ]
    }
   ],
   "source": [
    "average_totalpaybenefits_per_agency = df.groupby('Agency')['TotalPayBenefits'].mean().reset_index()\n",
    "\n",
    "# Find the agency with the highest average 'TotalPayBenefits'\n",
    "agency_highest_average_totalpaybenefits = average_totalpaybenefits_per_agency.loc[average_totalpaybenefits_per_agency['TotalPayBenefits'].idxmax()]\n",
    "\n",
    "print(agency_highest_average_totalpaybenefits)"
   ]
  },
  {
   "cell_type": "markdown",
   "id": "8c11f6a8-cd53-461a-8b95-4380fab4df9c",
   "metadata": {},
   "source": [
    "# sql code"
   ]
  },
  {
   "cell_type": "code",
   "execution_count": 45,
   "id": "73724a43-bc18-4633-a179-dbc7d5655438",
   "metadata": {},
   "outputs": [],
   "source": [
    "# SELECT Agency, AVG(TotalPayBenefits) AS AverageTotalPayBenefits\n",
    "# FROM YourTableName\n",
    "# GROUP BY Agency\n",
    "# ORDER BY AverageTotalPayBenefits DESC\n",
    "# LIMIT 1;"
   ]
  },
  {
   "cell_type": "markdown",
   "id": "76b39acd",
   "metadata": {},
   "source": [
    "output data "
   ]
  },
  {
   "cell_type": "code",
   "execution_count": 48,
   "id": "7094b769",
   "metadata": {},
   "outputs": [],
   "source": [
    "df.to_csv('output.csv', index=False)\n"
   ]
  }
 ],
 "metadata": {
  "kernelspec": {
   "display_name": "Python 3 (ipykernel)",
   "language": "python",
   "name": "python3"
  },
  "language_info": {
   "codemirror_mode": {
    "name": "ipython",
    "version": 3
   },
   "file_extension": ".py",
   "mimetype": "text/x-python",
   "name": "python",
   "nbconvert_exporter": "python",
   "pygments_lexer": "ipython3",
   "version": "3.9.6"
  }
 },
 "nbformat": 4,
 "nbformat_minor": 5
}
