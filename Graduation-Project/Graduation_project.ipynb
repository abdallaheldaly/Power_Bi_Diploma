{
 "cells": [
  {
   "cell_type": "markdown",
   "id": "05332683-9553-489b-871d-1c6203ba6312",
   "metadata": {},
   "source": [
    "# dataset link\n",
    "\n",
    "https://www.kaggle.com/datasets/kaggle/sf-salaries"
   ]
  },
  {
   "cell_type": "markdown",
   "id": "eff890f0-afa0-4617-ba86-092a4e0fe1af",
   "metadata": {},
   "source": [
    "# Q1:  What is the average BasePay across all job titles?"
   ]
  },
  {
   "cell_type": "markdown",
   "id": "807a5fe7-8c72-475b-a159-4df4f20ee018",
   "metadata": {},
   "source": [
    "# PYTHON CODE"
   ]
  },
  {
   "cell_type": "code",
   "execution_count": 3,
   "id": "c440d0a8-8b44-4df8-9cd3-53080816d86d",
   "metadata": {},
   "outputs": [
    {
     "name": "stderr",
     "output_type": "stream",
     "text": [
      "C:\\Users\\Amit\\AppData\\Local\\Temp\\ipykernel_14416\\1489842485.py:3: DtypeWarning: Columns (3,4,5,6,12) have mixed types. Specify dtype option on import or set low_memory=False.\n",
      "  df = pd.read_csv(\"Salaries.csv\")\n"
     ]
    },
    {
     "data": {
      "text/plain": [
       "Index(['Id', 'EmployeeName', 'JobTitle', 'BasePay', 'OvertimePay', 'OtherPay',\n",
       "       'Benefits', 'TotalPay', 'TotalPayBenefits', 'Year', 'Notes', 'Agency',\n",
       "       'Status'],\n",
       "      dtype='object')"
      ]
     },
     "execution_count": 3,
     "metadata": {},
     "output_type": "execute_result"
    }
   ],
   "source": [
    "import pandas as pd\n",
    "\n",
    "df = pd.read_csv(\"Salaries.csv\")\n",
    "df.columns"
   ]
  },
  {
   "cell_type": "markdown",
   "id": "394de29b-e298-4a13-9e22-6a0aa4d098e7",
   "metadata": {},
   "source": [
    "# sql code"
   ]
  },
  {
   "cell_type": "code",
   "execution_count": null,
   "id": "0ae3a84a-8e0e-452f-802f-5033205b9e73",
   "metadata": {},
   "outputs": [],
   "source": []
  },
  {
   "cell_type": "markdown",
   "id": "22a1af66-9bd1-405d-bbf1-63c529d14b21",
   "metadata": {},
   "source": [
    "# Q2: Which job title has the highest BasePay?\n"
   ]
  },
  {
   "cell_type": "markdown",
   "id": "99f12855-1bd4-4710-bc9e-67a7b8d9f5f6",
   "metadata": {},
   "source": [
    "# PYTHON CODE"
   ]
  },
  {
   "cell_type": "code",
   "execution_count": null,
   "id": "097846cd-b927-4a37-bdc5-79adfcd4b0b2",
   "metadata": {},
   "outputs": [],
   "source": []
  },
  {
   "cell_type": "markdown",
   "id": "9e04064d-b52e-458d-a78e-dc30c9acccb3",
   "metadata": {},
   "source": [
    "# sql code"
   ]
  },
  {
   "cell_type": "code",
   "execution_count": null,
   "id": "8f66f072-ad6a-4a07-a654-6555077d84d3",
   "metadata": {},
   "outputs": [],
   "source": []
  },
  {
   "cell_type": "markdown",
   "id": "f483122c-55a0-40b0-9923-1c85efe49a4e",
   "metadata": {},
   "source": [
    "# Q3: How many unique job titles are there in the dataset?\n"
   ]
  },
  {
   "cell_type": "markdown",
   "id": "4dfa40d8-7692-45b4-8bc6-7705f460f3c4",
   "metadata": {},
   "source": [
    "# PYTHON CODE"
   ]
  },
  {
   "cell_type": "code",
   "execution_count": null,
   "id": "13bea464-18c6-4292-a41d-84cf7bfd33fe",
   "metadata": {},
   "outputs": [],
   "source": []
  },
  {
   "cell_type": "markdown",
   "id": "86ffe2bc-3621-4cbe-be0f-47b129a2b3c9",
   "metadata": {},
   "source": [
    "# sql code"
   ]
  },
  {
   "cell_type": "code",
   "execution_count": null,
   "id": "e1a0da7a-d713-4955-9350-cdcc1065a389",
   "metadata": {},
   "outputs": [],
   "source": []
  },
  {
   "cell_type": "markdown",
   "id": "f34cdc8a-9374-4dbe-b2f0-9e5831abe142",
   "metadata": {},
   "source": [
    "#### Q4: What is the total OvertimePay for each year?\n"
   ]
  },
  {
   "cell_type": "markdown",
   "id": "f87e5b8b-c6ad-4b56-890e-0237a6067167",
   "metadata": {},
   "source": [
    "# PYTHON CODE"
   ]
  },
  {
   "cell_type": "code",
   "execution_count": null,
   "id": "5431b6e8-53a0-4b0f-805d-4095f1df9f15",
   "metadata": {},
   "outputs": [],
   "source": []
  },
  {
   "cell_type": "markdown",
   "id": "4c1f6cba-de43-41f7-8f02-800730c33b5a",
   "metadata": {},
   "source": [
    "# sql code"
   ]
  },
  {
   "cell_type": "code",
   "execution_count": null,
   "id": "5f2353ae-221a-427e-96f3-aac434992363",
   "metadata": {},
   "outputs": [],
   "source": []
  },
  {
   "cell_type": "markdown",
   "id": "664886ef-8e66-4ea1-8071-879daf1d9f30",
   "metadata": {},
   "source": [
    "#### Q5: Which year had the highest average OtherPay?\n"
   ]
  },
  {
   "cell_type": "markdown",
   "id": "ded89aed-27b8-417a-8b9d-f4b7bbb3fbef",
   "metadata": {},
   "source": [
    "# PYTHON CODE"
   ]
  },
  {
   "cell_type": "code",
   "execution_count": null,
   "id": "91cf1f38-1b16-498b-8e78-443defff4ef5",
   "metadata": {},
   "outputs": [],
   "source": []
  },
  {
   "cell_type": "markdown",
   "id": "8810d02e-87b9-4205-99c8-1eb02b29b371",
   "metadata": {},
   "source": [
    "# sql code"
   ]
  },
  {
   "cell_type": "code",
   "execution_count": null,
   "id": "b773e41d-bfac-44fe-8d80-3edfaa8593db",
   "metadata": {},
   "outputs": [],
   "source": []
  },
  {
   "cell_type": "markdown",
   "id": "7f41d533-bcb3-4d73-ad18-c102ee71e160",
   "metadata": {},
   "source": [
    "#### Q6: What is the median TotalPay for each job title?\n"
   ]
  },
  {
   "cell_type": "markdown",
   "id": "b31fa7ef-d7f1-431c-aab7-57b68654eead",
   "metadata": {},
   "source": [
    "# PYTHON CODE"
   ]
  },
  {
   "cell_type": "code",
   "execution_count": null,
   "id": "a559eaf1-8219-4ac2-b68e-120fd0429bc2",
   "metadata": {},
   "outputs": [],
   "source": []
  },
  {
   "cell_type": "markdown",
   "id": "a6f8219d-4610-4615-9f4c-f35b184eab39",
   "metadata": {},
   "source": [
    "# sql code"
   ]
  },
  {
   "cell_type": "code",
   "execution_count": null,
   "id": "cc061126-ca6b-4f37-b78b-1121ec9144ba",
   "metadata": {},
   "outputs": [],
   "source": []
  },
  {
   "cell_type": "markdown",
   "id": "1235b678-d6f3-4b50-accb-d8d7cb7c67aa",
   "metadata": {},
   "source": [
    "#### Q7: How many employees are there in each agency?\n"
   ]
  },
  {
   "cell_type": "markdown",
   "id": "030bc2a1-bb58-461e-896c-895bf56a11a9",
   "metadata": {},
   "source": [
    "# PYTHON CODE"
   ]
  },
  {
   "cell_type": "code",
   "execution_count": null,
   "id": "96929c35-ca82-49a7-89a0-bd2af8891760",
   "metadata": {},
   "outputs": [],
   "source": []
  },
  {
   "cell_type": "markdown",
   "id": "0c055c6f-b0d8-44af-a380-1ded806644b7",
   "metadata": {},
   "source": [
    "# sql code"
   ]
  },
  {
   "cell_type": "code",
   "execution_count": null,
   "id": "f1b63667-a68a-4290-b936-2fa3ada2e66c",
   "metadata": {},
   "outputs": [],
   "source": []
  },
  {
   "cell_type": "markdown",
   "id": "266151b2-5c72-4030-8554-20b62128cc23",
   "metadata": {},
   "source": [
    "#### Q8: What is the maximum Benefits offered by any agency?\n"
   ]
  },
  {
   "cell_type": "markdown",
   "id": "e1459ce9-31c8-4d81-84ba-2a86131770e5",
   "metadata": {},
   "source": [
    "# PYTHON CODE"
   ]
  },
  {
   "cell_type": "code",
   "execution_count": null,
   "id": "7a4e2375-be69-4de8-b58a-e8f14ddf3362",
   "metadata": {},
   "outputs": [],
   "source": []
  },
  {
   "cell_type": "markdown",
   "id": "fce862a1-83de-4e30-b37d-9f4a618e7c9f",
   "metadata": {},
   "source": [
    "# sql code"
   ]
  },
  {
   "cell_type": "code",
   "execution_count": null,
   "id": "87d7c757-2b50-420f-8d7f-edd0eabd35ee",
   "metadata": {},
   "outputs": [],
   "source": []
  },
  {
   "cell_type": "markdown",
   "id": "8a2a0bd1-8f66-4ea0-bd9e-5e9a5d750c9f",
   "metadata": {},
   "source": [
    "#### Q9: What is the total BasePay, OvertimePay, and OtherPay for each employee?\n"
   ]
  },
  {
   "cell_type": "markdown",
   "id": "e460920a-69ca-443b-8fdf-67d4a7a59f86",
   "metadata": {},
   "source": [
    "# PYTHON CODE"
   ]
  },
  {
   "cell_type": "code",
   "execution_count": null,
   "id": "a8aeffa2-9f01-4ad4-9099-7f32d104235b",
   "metadata": {},
   "outputs": [],
   "source": []
  },
  {
   "cell_type": "markdown",
   "id": "01284115-6eb2-4544-bc07-b95c69b05ec3",
   "metadata": {},
   "source": [
    "# sql code"
   ]
  },
  {
   "cell_type": "code",
   "execution_count": null,
   "id": "1cf3e5dd-daab-47ff-a154-785b592385f2",
   "metadata": {},
   "outputs": [],
   "source": []
  },
  {
   "cell_type": "markdown",
   "id": "51cab719-13e5-4520-b554-766a0993f68a",
   "metadata": {},
   "source": [
    "#### Q10: Which employee has the highest TotalPayBenefits?\n"
   ]
  },
  {
   "cell_type": "markdown",
   "id": "643f4a2b-647c-4fdf-85de-1e8f0026b8a1",
   "metadata": {},
   "source": [
    "# PYTHON CODE"
   ]
  },
  {
   "cell_type": "code",
   "execution_count": null,
   "id": "789d289a-13b9-46a6-8e6f-69f13562e1ac",
   "metadata": {},
   "outputs": [],
   "source": []
  },
  {
   "cell_type": "markdown",
   "id": "5f49a2f1-3596-4430-890e-e6f1e11d8410",
   "metadata": {},
   "source": [
    "# sql code"
   ]
  },
  {
   "cell_type": "code",
   "execution_count": null,
   "id": "5c9d4755-2c63-48cd-a945-6192817f5c78",
   "metadata": {},
   "outputs": [],
   "source": []
  },
  {
   "cell_type": "markdown",
   "id": "249a27c0-9bbc-49ae-b7e5-e7a4cec509e8",
   "metadata": {},
   "source": [
    "#### Q11: How does the average TotalPayBenefits vary across years?\n"
   ]
  },
  {
   "cell_type": "markdown",
   "id": "f2629638-d6a7-484a-ba03-55436f556a30",
   "metadata": {},
   "source": [
    "# PYTHON CODE"
   ]
  },
  {
   "cell_type": "code",
   "execution_count": null,
   "id": "d8930f87-395b-448a-ada1-4b0decec0345",
   "metadata": {},
   "outputs": [],
   "source": []
  },
  {
   "cell_type": "markdown",
   "id": "8f2645cc-0f8c-4a12-8311-c411f1ac15b2",
   "metadata": {},
   "source": [
    "# sql code"
   ]
  },
  {
   "cell_type": "code",
   "execution_count": null,
   "id": "c5636a8f-a05a-49b2-8725-2ecc04ee0353",
   "metadata": {},
   "outputs": [],
   "source": []
  },
  {
   "cell_type": "markdown",
   "id": "6f1a9240-ffc0-4f65-aa7d-6472ea6943a1",
   "metadata": {},
   "source": [
    "#### Q12: What is the total BasePay for each status (full-time, part-time, etc.)?\n"
   ]
  },
  {
   "cell_type": "markdown",
   "id": "20b26b8c-9315-4bd4-be93-4cf829456238",
   "metadata": {},
   "source": [
    "# PYTHON CODE"
   ]
  },
  {
   "cell_type": "code",
   "execution_count": null,
   "id": "3523334b-2e69-4372-9dcc-e91c79908e26",
   "metadata": {},
   "outputs": [],
   "source": []
  },
  {
   "cell_type": "markdown",
   "id": "c47b2bde-5a2b-4e40-9317-b8634603a81c",
   "metadata": {},
   "source": [
    "# sql code"
   ]
  },
  {
   "cell_type": "code",
   "execution_count": null,
   "id": "5a964361-e5d7-4215-a203-13cb0c91a0af",
   "metadata": {},
   "outputs": [],
   "source": []
  },
  {
   "cell_type": "markdown",
   "id": "8165f131-8609-401d-8f18-8a9c98b4f576",
   "metadata": {},
   "source": [
    "#### Q13: How many employees are there for each job title in each agency?\n"
   ]
  },
  {
   "cell_type": "markdown",
   "id": "c5ea691d-a0c6-44a4-8dc8-8369f7a694ef",
   "metadata": {},
   "source": [
    "# PYTHON CODE"
   ]
  },
  {
   "cell_type": "code",
   "execution_count": null,
   "id": "80925528-745f-4542-8bdb-da9501347cad",
   "metadata": {},
   "outputs": [],
   "source": []
  },
  {
   "cell_type": "markdown",
   "id": "d3931a27-17a8-451d-8f85-99c23a662464",
   "metadata": {},
   "source": [
    "# sql code"
   ]
  },
  {
   "cell_type": "code",
   "execution_count": null,
   "id": "3f1d56f7-a61d-416c-82bc-b564907a1048",
   "metadata": {},
   "outputs": [],
   "source": []
  },
  {
   "cell_type": "markdown",
   "id": "25d10353-8632-465b-b538-64a4edbb049e",
   "metadata": {},
   "source": [
    "#### Q14: Which job title has the highest average Benefits?\n"
   ]
  },
  {
   "cell_type": "markdown",
   "id": "5d999019-32d2-4201-ac92-7c13fb02bbc2",
   "metadata": {},
   "source": [
    "# PYTHON CODE"
   ]
  },
  {
   "cell_type": "code",
   "execution_count": null,
   "id": "37739c65-7451-48ef-b395-5f14a7a0132d",
   "metadata": {},
   "outputs": [],
   "source": []
  },
  {
   "cell_type": "markdown",
   "id": "7d9d5d03-4ad0-4759-98b6-d05eb7496c0b",
   "metadata": {},
   "source": [
    "# sql code"
   ]
  },
  {
   "cell_type": "code",
   "execution_count": null,
   "id": "888f7f75-237e-44a0-af31-60376715384f",
   "metadata": {},
   "outputs": [],
   "source": []
  },
  {
   "cell_type": "markdown",
   "id": "579d78de-96eb-4f01-b460-600b2f1f8c0d",
   "metadata": {},
   "source": [
    "#### Q15: What is the ratio of BasePay to TotalPayBenefits for each job title?\n"
   ]
  },
  {
   "cell_type": "markdown",
   "id": "f093fff1-8279-4282-9f53-f3a20abba710",
   "metadata": {},
   "source": [
    "# PYTHON CODE"
   ]
  },
  {
   "cell_type": "code",
   "execution_count": null,
   "id": "4fba155a-a033-42ef-bb62-67eb0c690260",
   "metadata": {},
   "outputs": [],
   "source": []
  },
  {
   "cell_type": "markdown",
   "id": "a4fb5b5f-3c6b-44f0-912e-4047c6301d73",
   "metadata": {},
   "source": [
    "# sql code"
   ]
  },
  {
   "cell_type": "code",
   "execution_count": null,
   "id": "a51f3e40-6104-4d35-9bc4-8d021fa29aa6",
   "metadata": {},
   "outputs": [],
   "source": []
  },
  {
   "cell_type": "markdown",
   "id": "0ad8139e-ad18-4f86-8720-d33d970032eb",
   "metadata": {},
   "source": [
    "#### Q16: Which job title has the highest ratio of BasePay to TotalPayBenefits?\n"
   ]
  },
  {
   "cell_type": "markdown",
   "id": "f8f99bbd-40c7-46bd-be87-6b798fabd302",
   "metadata": {},
   "source": [
    "# PYTHON CODE"
   ]
  },
  {
   "cell_type": "code",
   "execution_count": null,
   "id": "82e34f12-1bb8-4644-99ef-b02dde4d92ca",
   "metadata": {},
   "outputs": [],
   "source": []
  },
  {
   "cell_type": "markdown",
   "id": "d275a100-3c39-47a8-9c1c-3c5bfed07b7e",
   "metadata": {},
   "source": [
    "# sql code"
   ]
  },
  {
   "cell_type": "code",
   "execution_count": null,
   "id": "03debe10-cfeb-4f3f-8f1f-66a06e316555",
   "metadata": {},
   "outputs": [],
   "source": []
  },
  {
   "cell_type": "markdown",
   "id": "25251e7e-99a5-44d1-a104-adab83e1c4b5",
   "metadata": {},
   "source": [
    "#### Q17: How many years of data are available in the dataset?\n"
   ]
  },
  {
   "cell_type": "markdown",
   "id": "a0f04248-6263-4bf6-b4af-c1c17ec7355f",
   "metadata": {},
   "source": [
    "# PYTHON CODE"
   ]
  },
  {
   "cell_type": "code",
   "execution_count": null,
   "id": "a5974b88-19ee-4d0b-b7ab-4b99e5ff75d5",
   "metadata": {},
   "outputs": [],
   "source": []
  },
  {
   "cell_type": "markdown",
   "id": "d738f408-ba4d-4daa-882c-45b7ef48f827",
   "metadata": {},
   "source": [
    "# sql code"
   ]
  },
  {
   "cell_type": "code",
   "execution_count": null,
   "id": "a4554cd8-fca8-4566-a8c5-2eac230ca9ce",
   "metadata": {},
   "outputs": [],
   "source": []
  },
  {
   "cell_type": "markdown",
   "id": "349df33d-e1f2-4069-a8df-39e0b107ec0a",
   "metadata": {},
   "source": [
    "#### Q18: What is the average BasePay for each year and job title combination?\n"
   ]
  },
  {
   "cell_type": "markdown",
   "id": "5e41ee64-dedd-4008-ad0e-510abd747873",
   "metadata": {},
   "source": [
    "# PYTHON CODE"
   ]
  },
  {
   "cell_type": "code",
   "execution_count": null,
   "id": "b4304792-77da-4cdb-aca2-12ee7dbc2d29",
   "metadata": {},
   "outputs": [],
   "source": []
  },
  {
   "cell_type": "markdown",
   "id": "838edd30-285c-46d0-859b-958050822a3a",
   "metadata": {},
   "source": [
    "# sql code"
   ]
  },
  {
   "cell_type": "code",
   "execution_count": null,
   "id": "790ade2b-6a5c-4049-a496-30f4b570933d",
   "metadata": {},
   "outputs": [],
   "source": []
  },
  {
   "cell_type": "markdown",
   "id": "2a438762-fc7f-471c-93cb-f26ff5015cef",
   "metadata": {},
   "source": [
    "#### Q19: How many employees have a TotalPayBenefits greater than $326373.19??\n"
   ]
  },
  {
   "cell_type": "markdown",
   "id": "5e4d3c56-39fb-47c9-be74-b28fe034c6f1",
   "metadata": {},
   "source": [
    "# PYTHON CODE"
   ]
  },
  {
   "cell_type": "code",
   "execution_count": null,
   "id": "15ea7b2b-b720-409c-949e-76f63e5b305f",
   "metadata": {},
   "outputs": [],
   "source": []
  },
  {
   "cell_type": "markdown",
   "id": "17f786b0-9b1e-4fe9-b422-891756185877",
   "metadata": {},
   "source": [
    "# sql code"
   ]
  },
  {
   "cell_type": "code",
   "execution_count": null,
   "id": "bbe24e15-5dd0-4ea1-b63a-d2d35be6d7a2",
   "metadata": {},
   "outputs": [],
   "source": []
  },
  {
   "cell_type": "markdown",
   "id": "e0e5537a-c058-41c5-a3b1-c006ef7baeff",
   "metadata": {},
   "source": [
    "#### Q20: Which agency has the highest average TotalPayBenefits?\r\n"
   ]
  },
  {
   "cell_type": "markdown",
   "id": "119996b3-3603-4ac6-ae2a-d39de9e6fccb",
   "metadata": {},
   "source": [
    "# PYTHON CODE"
   ]
  },
  {
   "cell_type": "code",
   "execution_count": null,
   "id": "c6fda1eb-e15b-43d5-b7af-ba6452206992",
   "metadata": {},
   "outputs": [],
   "source": []
  },
  {
   "cell_type": "markdown",
   "id": "8c11f6a8-cd53-461a-8b95-4380fab4df9c",
   "metadata": {},
   "source": [
    "# sql code"
   ]
  },
  {
   "cell_type": "code",
   "execution_count": null,
   "id": "73724a43-bc18-4633-a179-dbc7d5655438",
   "metadata": {},
   "outputs": [],
   "source": []
  }
 ],
 "metadata": {
  "kernelspec": {
   "display_name": "Python 3 (ipykernel)",
   "language": "python",
   "name": "python3"
  },
  "language_info": {
   "codemirror_mode": {
    "name": "ipython",
    "version": 3
   },
   "file_extension": ".py",
   "mimetype": "text/x-python",
   "name": "python",
   "nbconvert_exporter": "python",
   "pygments_lexer": "ipython3",
   "version": "3.11.7"
  }
 },
 "nbformat": 4,
 "nbformat_minor": 5
}
